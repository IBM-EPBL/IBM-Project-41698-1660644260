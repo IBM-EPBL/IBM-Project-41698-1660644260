{
  "cells": [
    {
      "cell_type": "markdown",
      "id": "a4984316",
      "metadata": {
        "id": "a4984316"
      },
      "source": [
        "# Data preprocessing"
      ]
    },
    {
      "cell_type": "raw",
      "id": "b6025a91",
      "metadata": {
        "id": "b6025a91"
      },
      "source": [
        "collect the dataset\n",
        "import the crucial libraries\n",
        "handle the missing values\n",
        "handle the categorical values\n",
        "split the data into train & test\n",
        "feature scalling"
      ]
    },
    {
      "cell_type": "markdown",
      "id": "004df9ed",
      "metadata": {
        "id": "004df9ed"
      },
      "source": [
        "# import the libraries"
      ]
    },
    {
      "cell_type": "code",
      "execution_count": null,
      "id": "14e9134d",
      "metadata": {
        "id": "14e9134d"
      },
      "outputs": [],
      "source": [
        "import pandas as pd\n",
        "import numpy as np\n",
        "import matplotlib.pyplot as plt\n",
        "import os"
      ]
    },
    {
      "cell_type": "code",
      "execution_count": null,
      "id": "96d219a3",
      "metadata": {
        "colab": {
          "base_uri": "https://localhost:8080/",
          "height": 35
        },
        "id": "96d219a3",
        "outputId": "3e03334c-79b8-455e-d0af-dda1b31e270a"
      },
      "outputs": [
        {
          "output_type": "execute_result",
          "data": {
            "text/plain": [
              "'/content'"
            ],
            "application/vnd.google.colaboratory.intrinsic+json": {
              "type": "string"
            }
          },
          "metadata": {},
          "execution_count": 2
        }
      ],
      "source": [
        "pwd"
      ]
    },
    {
      "cell_type": "code",
      "source": [
        "from google.colab import drive\n",
        "drive.mount('/content/drive')"
      ],
      "metadata": {
        "colab": {
          "base_uri": "https://localhost:8080/"
        },
        "id": "DRgsc5a_8U7I",
        "outputId": "8bddcada-bf77-4535-da53-8a3e06b70f54"
      },
      "id": "DRgsc5a_8U7I",
      "execution_count": null,
      "outputs": [
        {
          "output_type": "stream",
          "name": "stdout",
          "text": [
            "Mounted at /content/drive\n"
          ]
        }
      ]
    },
    {
      "cell_type": "code",
      "execution_count": null,
      "id": "904ca910",
      "metadata": {
        "id": "904ca910"
      },
      "outputs": [],
      "source": [
        "data = pd.read_excel('/content/Crude Oil Prices Daily.xlsx')"
      ]
    },
    {
      "cell_type": "code",
      "execution_count": null,
      "id": "9161e7f1",
      "metadata": {
        "id": "9161e7f1",
        "outputId": "0b9c9fbd-2473-4e07-f97d-74ef2b51e433",
        "colab": {
          "base_uri": "https://localhost:8080/",
          "height": 677
        }
      },
      "outputs": [
        {
          "output_type": "execute_result",
          "data": {
            "text/plain": [
              "         Date  Closing Value\n",
              "0  1986-01-02          25.56\n",
              "1  1986-01-03          26.00\n",
              "2  1986-01-06          26.53\n",
              "3  1986-01-07          25.85\n",
              "4  1986-01-08          25.87\n",
              "5  1986-01-09          26.03\n",
              "6  1986-01-10          25.65\n",
              "7  1986-01-13          25.08\n",
              "8  1986-01-14          24.97\n",
              "9  1986-01-15          25.18\n",
              "10 1986-01-16          23.98\n",
              "11 1986-01-17          23.63\n",
              "12 1986-01-20          21.33\n",
              "13 1986-01-21          20.61\n",
              "14 1986-01-22          20.25\n",
              "15 1986-01-23          19.93\n",
              "16 1986-01-24          19.45\n",
              "17 1986-01-27          20.87\n",
              "18 1986-01-28          19.45\n",
              "19 1986-01-29          19.61"
            ],
            "text/html": [
              "\n",
              "  <div id=\"df-5e51f9af-e075-4268-9f03-744ce43c7edb\">\n",
              "    <div class=\"colab-df-container\">\n",
              "      <div>\n",
              "<style scoped>\n",
              "    .dataframe tbody tr th:only-of-type {\n",
              "        vertical-align: middle;\n",
              "    }\n",
              "\n",
              "    .dataframe tbody tr th {\n",
              "        vertical-align: top;\n",
              "    }\n",
              "\n",
              "    .dataframe thead th {\n",
              "        text-align: right;\n",
              "    }\n",
              "</style>\n",
              "<table border=\"1\" class=\"dataframe\">\n",
              "  <thead>\n",
              "    <tr style=\"text-align: right;\">\n",
              "      <th></th>\n",
              "      <th>Date</th>\n",
              "      <th>Closing Value</th>\n",
              "    </tr>\n",
              "  </thead>\n",
              "  <tbody>\n",
              "    <tr>\n",
              "      <th>0</th>\n",
              "      <td>1986-01-02</td>\n",
              "      <td>25.56</td>\n",
              "    </tr>\n",
              "    <tr>\n",
              "      <th>1</th>\n",
              "      <td>1986-01-03</td>\n",
              "      <td>26.00</td>\n",
              "    </tr>\n",
              "    <tr>\n",
              "      <th>2</th>\n",
              "      <td>1986-01-06</td>\n",
              "      <td>26.53</td>\n",
              "    </tr>\n",
              "    <tr>\n",
              "      <th>3</th>\n",
              "      <td>1986-01-07</td>\n",
              "      <td>25.85</td>\n",
              "    </tr>\n",
              "    <tr>\n",
              "      <th>4</th>\n",
              "      <td>1986-01-08</td>\n",
              "      <td>25.87</td>\n",
              "    </tr>\n",
              "    <tr>\n",
              "      <th>5</th>\n",
              "      <td>1986-01-09</td>\n",
              "      <td>26.03</td>\n",
              "    </tr>\n",
              "    <tr>\n",
              "      <th>6</th>\n",
              "      <td>1986-01-10</td>\n",
              "      <td>25.65</td>\n",
              "    </tr>\n",
              "    <tr>\n",
              "      <th>7</th>\n",
              "      <td>1986-01-13</td>\n",
              "      <td>25.08</td>\n",
              "    </tr>\n",
              "    <tr>\n",
              "      <th>8</th>\n",
              "      <td>1986-01-14</td>\n",
              "      <td>24.97</td>\n",
              "    </tr>\n",
              "    <tr>\n",
              "      <th>9</th>\n",
              "      <td>1986-01-15</td>\n",
              "      <td>25.18</td>\n",
              "    </tr>\n",
              "    <tr>\n",
              "      <th>10</th>\n",
              "      <td>1986-01-16</td>\n",
              "      <td>23.98</td>\n",
              "    </tr>\n",
              "    <tr>\n",
              "      <th>11</th>\n",
              "      <td>1986-01-17</td>\n",
              "      <td>23.63</td>\n",
              "    </tr>\n",
              "    <tr>\n",
              "      <th>12</th>\n",
              "      <td>1986-01-20</td>\n",
              "      <td>21.33</td>\n",
              "    </tr>\n",
              "    <tr>\n",
              "      <th>13</th>\n",
              "      <td>1986-01-21</td>\n",
              "      <td>20.61</td>\n",
              "    </tr>\n",
              "    <tr>\n",
              "      <th>14</th>\n",
              "      <td>1986-01-22</td>\n",
              "      <td>20.25</td>\n",
              "    </tr>\n",
              "    <tr>\n",
              "      <th>15</th>\n",
              "      <td>1986-01-23</td>\n",
              "      <td>19.93</td>\n",
              "    </tr>\n",
              "    <tr>\n",
              "      <th>16</th>\n",
              "      <td>1986-01-24</td>\n",
              "      <td>19.45</td>\n",
              "    </tr>\n",
              "    <tr>\n",
              "      <th>17</th>\n",
              "      <td>1986-01-27</td>\n",
              "      <td>20.87</td>\n",
              "    </tr>\n",
              "    <tr>\n",
              "      <th>18</th>\n",
              "      <td>1986-01-28</td>\n",
              "      <td>19.45</td>\n",
              "    </tr>\n",
              "    <tr>\n",
              "      <th>19</th>\n",
              "      <td>1986-01-29</td>\n",
              "      <td>19.61</td>\n",
              "    </tr>\n",
              "  </tbody>\n",
              "</table>\n",
              "</div>\n",
              "      <button class=\"colab-df-convert\" onclick=\"convertToInteractive('df-5e51f9af-e075-4268-9f03-744ce43c7edb')\"\n",
              "              title=\"Convert this dataframe to an interactive table.\"\n",
              "              style=\"display:none;\">\n",
              "        \n",
              "  <svg xmlns=\"http://www.w3.org/2000/svg\" height=\"24px\"viewBox=\"0 0 24 24\"\n",
              "       width=\"24px\">\n",
              "    <path d=\"M0 0h24v24H0V0z\" fill=\"none\"/>\n",
              "    <path d=\"M18.56 5.44l.94 2.06.94-2.06 2.06-.94-2.06-.94-.94-2.06-.94 2.06-2.06.94zm-11 1L8.5 8.5l.94-2.06 2.06-.94-2.06-.94L8.5 2.5l-.94 2.06-2.06.94zm10 10l.94 2.06.94-2.06 2.06-.94-2.06-.94-.94-2.06-.94 2.06-2.06.94z\"/><path d=\"M17.41 7.96l-1.37-1.37c-.4-.4-.92-.59-1.43-.59-.52 0-1.04.2-1.43.59L10.3 9.45l-7.72 7.72c-.78.78-.78 2.05 0 2.83L4 21.41c.39.39.9.59 1.41.59.51 0 1.02-.2 1.41-.59l7.78-7.78 2.81-2.81c.8-.78.8-2.07 0-2.86zM5.41 20L4 18.59l7.72-7.72 1.47 1.35L5.41 20z\"/>\n",
              "  </svg>\n",
              "      </button>\n",
              "      \n",
              "  <style>\n",
              "    .colab-df-container {\n",
              "      display:flex;\n",
              "      flex-wrap:wrap;\n",
              "      gap: 12px;\n",
              "    }\n",
              "\n",
              "    .colab-df-convert {\n",
              "      background-color: #E8F0FE;\n",
              "      border: none;\n",
              "      border-radius: 50%;\n",
              "      cursor: pointer;\n",
              "      display: none;\n",
              "      fill: #1967D2;\n",
              "      height: 32px;\n",
              "      padding: 0 0 0 0;\n",
              "      width: 32px;\n",
              "    }\n",
              "\n",
              "    .colab-df-convert:hover {\n",
              "      background-color: #E2EBFA;\n",
              "      box-shadow: 0px 1px 2px rgba(60, 64, 67, 0.3), 0px 1px 3px 1px rgba(60, 64, 67, 0.15);\n",
              "      fill: #174EA6;\n",
              "    }\n",
              "\n",
              "    [theme=dark] .colab-df-convert {\n",
              "      background-color: #3B4455;\n",
              "      fill: #D2E3FC;\n",
              "    }\n",
              "\n",
              "    [theme=dark] .colab-df-convert:hover {\n",
              "      background-color: #434B5C;\n",
              "      box-shadow: 0px 1px 3px 1px rgba(0, 0, 0, 0.15);\n",
              "      filter: drop-shadow(0px 1px 2px rgba(0, 0, 0, 0.3));\n",
              "      fill: #FFFFFF;\n",
              "    }\n",
              "  </style>\n",
              "\n",
              "      <script>\n",
              "        const buttonEl =\n",
              "          document.querySelector('#df-5e51f9af-e075-4268-9f03-744ce43c7edb button.colab-df-convert');\n",
              "        buttonEl.style.display =\n",
              "          google.colab.kernel.accessAllowed ? 'block' : 'none';\n",
              "\n",
              "        async function convertToInteractive(key) {\n",
              "          const element = document.querySelector('#df-5e51f9af-e075-4268-9f03-744ce43c7edb');\n",
              "          const dataTable =\n",
              "            await google.colab.kernel.invokeFunction('convertToInteractive',\n",
              "                                                     [key], {});\n",
              "          if (!dataTable) return;\n",
              "\n",
              "          const docLinkHtml = 'Like what you see? Visit the ' +\n",
              "            '<a target=\"_blank\" href=https://colab.research.google.com/notebooks/data_table.ipynb>data table notebook</a>'\n",
              "            + ' to learn more about interactive tables.';\n",
              "          element.innerHTML = '';\n",
              "          dataTable['output_type'] = 'display_data';\n",
              "          await google.colab.output.renderOutput(dataTable, element);\n",
              "          const docLink = document.createElement('div');\n",
              "          docLink.innerHTML = docLinkHtml;\n",
              "          element.appendChild(docLink);\n",
              "        }\n",
              "      </script>\n",
              "    </div>\n",
              "  </div>\n",
              "  "
            ]
          },
          "metadata": {},
          "execution_count": 6
        }
      ],
      "source": [
        "data.head(20)"
      ]
    },
    {
      "cell_type": "code",
      "execution_count": null,
      "id": "14c61cf8",
      "metadata": {
        "id": "14c61cf8",
        "outputId": "b88cad48-0a49-44a1-89ba-b1dd36ec7afb",
        "colab": {
          "base_uri": "https://localhost:8080/",
          "height": 520
        }
      },
      "outputs": [
        {
          "output_type": "execute_result",
          "data": {
            "text/plain": [
              "           Date  Closing Value\n",
              "8208 2018-06-19          65.09\n",
              "8209 2018-06-20          65.92\n",
              "8210 2018-06-21          65.68\n",
              "8211 2018-06-22          69.02\n",
              "8212 2018-06-25          69.91\n",
              "8213 2018-06-26          75.23\n",
              "8214 2018-06-27          77.41\n",
              "8215 2018-06-28          73.45\n",
              "8216 2018-06-29          74.13\n",
              "8217 2018-07-02          73.89\n",
              "8218 2018-07-03          74.19\n",
              "8219 2018-07-04            NaN\n",
              "8220 2018-07-05          73.05\n",
              "8221 2018-07-06          73.78\n",
              "8222 2018-07-09          73.93"
            ],
            "text/html": [
              "\n",
              "  <div id=\"df-36ccc220-ad63-464b-893a-ac95911ebe6a\">\n",
              "    <div class=\"colab-df-container\">\n",
              "      <div>\n",
              "<style scoped>\n",
              "    .dataframe tbody tr th:only-of-type {\n",
              "        vertical-align: middle;\n",
              "    }\n",
              "\n",
              "    .dataframe tbody tr th {\n",
              "        vertical-align: top;\n",
              "    }\n",
              "\n",
              "    .dataframe thead th {\n",
              "        text-align: right;\n",
              "    }\n",
              "</style>\n",
              "<table border=\"1\" class=\"dataframe\">\n",
              "  <thead>\n",
              "    <tr style=\"text-align: right;\">\n",
              "      <th></th>\n",
              "      <th>Date</th>\n",
              "      <th>Closing Value</th>\n",
              "    </tr>\n",
              "  </thead>\n",
              "  <tbody>\n",
              "    <tr>\n",
              "      <th>8208</th>\n",
              "      <td>2018-06-19</td>\n",
              "      <td>65.09</td>\n",
              "    </tr>\n",
              "    <tr>\n",
              "      <th>8209</th>\n",
              "      <td>2018-06-20</td>\n",
              "      <td>65.92</td>\n",
              "    </tr>\n",
              "    <tr>\n",
              "      <th>8210</th>\n",
              "      <td>2018-06-21</td>\n",
              "      <td>65.68</td>\n",
              "    </tr>\n",
              "    <tr>\n",
              "      <th>8211</th>\n",
              "      <td>2018-06-22</td>\n",
              "      <td>69.02</td>\n",
              "    </tr>\n",
              "    <tr>\n",
              "      <th>8212</th>\n",
              "      <td>2018-06-25</td>\n",
              "      <td>69.91</td>\n",
              "    </tr>\n",
              "    <tr>\n",
              "      <th>8213</th>\n",
              "      <td>2018-06-26</td>\n",
              "      <td>75.23</td>\n",
              "    </tr>\n",
              "    <tr>\n",
              "      <th>8214</th>\n",
              "      <td>2018-06-27</td>\n",
              "      <td>77.41</td>\n",
              "    </tr>\n",
              "    <tr>\n",
              "      <th>8215</th>\n",
              "      <td>2018-06-28</td>\n",
              "      <td>73.45</td>\n",
              "    </tr>\n",
              "    <tr>\n",
              "      <th>8216</th>\n",
              "      <td>2018-06-29</td>\n",
              "      <td>74.13</td>\n",
              "    </tr>\n",
              "    <tr>\n",
              "      <th>8217</th>\n",
              "      <td>2018-07-02</td>\n",
              "      <td>73.89</td>\n",
              "    </tr>\n",
              "    <tr>\n",
              "      <th>8218</th>\n",
              "      <td>2018-07-03</td>\n",
              "      <td>74.19</td>\n",
              "    </tr>\n",
              "    <tr>\n",
              "      <th>8219</th>\n",
              "      <td>2018-07-04</td>\n",
              "      <td>NaN</td>\n",
              "    </tr>\n",
              "    <tr>\n",
              "      <th>8220</th>\n",
              "      <td>2018-07-05</td>\n",
              "      <td>73.05</td>\n",
              "    </tr>\n",
              "    <tr>\n",
              "      <th>8221</th>\n",
              "      <td>2018-07-06</td>\n",
              "      <td>73.78</td>\n",
              "    </tr>\n",
              "    <tr>\n",
              "      <th>8222</th>\n",
              "      <td>2018-07-09</td>\n",
              "      <td>73.93</td>\n",
              "    </tr>\n",
              "  </tbody>\n",
              "</table>\n",
              "</div>\n",
              "      <button class=\"colab-df-convert\" onclick=\"convertToInteractive('df-36ccc220-ad63-464b-893a-ac95911ebe6a')\"\n",
              "              title=\"Convert this dataframe to an interactive table.\"\n",
              "              style=\"display:none;\">\n",
              "        \n",
              "  <svg xmlns=\"http://www.w3.org/2000/svg\" height=\"24px\"viewBox=\"0 0 24 24\"\n",
              "       width=\"24px\">\n",
              "    <path d=\"M0 0h24v24H0V0z\" fill=\"none\"/>\n",
              "    <path d=\"M18.56 5.44l.94 2.06.94-2.06 2.06-.94-2.06-.94-.94-2.06-.94 2.06-2.06.94zm-11 1L8.5 8.5l.94-2.06 2.06-.94-2.06-.94L8.5 2.5l-.94 2.06-2.06.94zm10 10l.94 2.06.94-2.06 2.06-.94-2.06-.94-.94-2.06-.94 2.06-2.06.94z\"/><path d=\"M17.41 7.96l-1.37-1.37c-.4-.4-.92-.59-1.43-.59-.52 0-1.04.2-1.43.59L10.3 9.45l-7.72 7.72c-.78.78-.78 2.05 0 2.83L4 21.41c.39.39.9.59 1.41.59.51 0 1.02-.2 1.41-.59l7.78-7.78 2.81-2.81c.8-.78.8-2.07 0-2.86zM5.41 20L4 18.59l7.72-7.72 1.47 1.35L5.41 20z\"/>\n",
              "  </svg>\n",
              "      </button>\n",
              "      \n",
              "  <style>\n",
              "    .colab-df-container {\n",
              "      display:flex;\n",
              "      flex-wrap:wrap;\n",
              "      gap: 12px;\n",
              "    }\n",
              "\n",
              "    .colab-df-convert {\n",
              "      background-color: #E8F0FE;\n",
              "      border: none;\n",
              "      border-radius: 50%;\n",
              "      cursor: pointer;\n",
              "      display: none;\n",
              "      fill: #1967D2;\n",
              "      height: 32px;\n",
              "      padding: 0 0 0 0;\n",
              "      width: 32px;\n",
              "    }\n",
              "\n",
              "    .colab-df-convert:hover {\n",
              "      background-color: #E2EBFA;\n",
              "      box-shadow: 0px 1px 2px rgba(60, 64, 67, 0.3), 0px 1px 3px 1px rgba(60, 64, 67, 0.15);\n",
              "      fill: #174EA6;\n",
              "    }\n",
              "\n",
              "    [theme=dark] .colab-df-convert {\n",
              "      background-color: #3B4455;\n",
              "      fill: #D2E3FC;\n",
              "    }\n",
              "\n",
              "    [theme=dark] .colab-df-convert:hover {\n",
              "      background-color: #434B5C;\n",
              "      box-shadow: 0px 1px 3px 1px rgba(0, 0, 0, 0.15);\n",
              "      filter: drop-shadow(0px 1px 2px rgba(0, 0, 0, 0.3));\n",
              "      fill: #FFFFFF;\n",
              "    }\n",
              "  </style>\n",
              "\n",
              "      <script>\n",
              "        const buttonEl =\n",
              "          document.querySelector('#df-36ccc220-ad63-464b-893a-ac95911ebe6a button.colab-df-convert');\n",
              "        buttonEl.style.display =\n",
              "          google.colab.kernel.accessAllowed ? 'block' : 'none';\n",
              "\n",
              "        async function convertToInteractive(key) {\n",
              "          const element = document.querySelector('#df-36ccc220-ad63-464b-893a-ac95911ebe6a');\n",
              "          const dataTable =\n",
              "            await google.colab.kernel.invokeFunction('convertToInteractive',\n",
              "                                                     [key], {});\n",
              "          if (!dataTable) return;\n",
              "\n",
              "          const docLinkHtml = 'Like what you see? Visit the ' +\n",
              "            '<a target=\"_blank\" href=https://colab.research.google.com/notebooks/data_table.ipynb>data table notebook</a>'\n",
              "            + ' to learn more about interactive tables.';\n",
              "          element.innerHTML = '';\n",
              "          dataTable['output_type'] = 'display_data';\n",
              "          await google.colab.output.renderOutput(dataTable, element);\n",
              "          const docLink = document.createElement('div');\n",
              "          docLink.innerHTML = docLinkHtml;\n",
              "          element.appendChild(docLink);\n",
              "        }\n",
              "      </script>\n",
              "    </div>\n",
              "  </div>\n",
              "  "
            ]
          },
          "metadata": {},
          "execution_count": 7
        }
      ],
      "source": [
        "data.tail(15)"
      ]
    },
    {
      "cell_type": "markdown",
      "id": "89d99aa8",
      "metadata": {
        "id": "89d99aa8"
      },
      "source": [
        "# Handling the Missing Values"
      ]
    },
    {
      "cell_type": "code",
      "execution_count": null,
      "id": "12af86fa",
      "metadata": {
        "id": "12af86fa",
        "outputId": "34f71638-128d-4111-8973-f968326de30f",
        "colab": {
          "base_uri": "https://localhost:8080/"
        }
      },
      "outputs": [
        {
          "output_type": "execute_result",
          "data": {
            "text/plain": [
              "Date             False\n",
              "Closing Value     True\n",
              "dtype: bool"
            ]
          },
          "metadata": {},
          "execution_count": 8
        }
      ],
      "source": [
        "data.isnull().any()"
      ]
    },
    {
      "cell_type": "code",
      "execution_count": null,
      "id": "57ddefb5",
      "metadata": {
        "id": "57ddefb5",
        "outputId": "70b58572-1c14-4ba6-c427-27c00ebcac9b",
        "colab": {
          "base_uri": "https://localhost:8080/"
        }
      },
      "outputs": [
        {
          "output_type": "execute_result",
          "data": {
            "text/plain": [
              "Date             0\n",
              "Closing Value    7\n",
              "dtype: int64"
            ]
          },
          "metadata": {},
          "execution_count": 9
        }
      ],
      "source": [
        "data.isnull().sum()"
      ]
    },
    {
      "cell_type": "code",
      "execution_count": null,
      "id": "ef5fa8a3",
      "metadata": {
        "id": "ef5fa8a3",
        "outputId": "381565a8-db9f-4066-b7d5-2da6a12ff171",
        "colab": {
          "base_uri": "https://localhost:8080/"
        }
      },
      "outputs": [
        {
          "output_type": "execute_result",
          "data": {
            "text/plain": [
              "Timestamp('2002-04-05 22:11:15.082086912')"
            ]
          },
          "metadata": {},
          "execution_count": 10
        }
      ],
      "source": [
        "\n",
        "data['Date'].mean()"
      ]
    },
    {
      "cell_type": "code",
      "execution_count": null,
      "id": "3c84499a",
      "metadata": {
        "id": "3c84499a",
        "outputId": "8fe49699-71e9-4d4a-96c2-0c8d878eb63f",
        "colab": {
          "base_uri": "https://localhost:8080/"
        }
      },
      "outputs": [
        {
          "output_type": "execute_result",
          "data": {
            "text/plain": [
              "29.61"
            ]
          },
          "metadata": {},
          "execution_count": 11
        }
      ],
      "source": [
        "data['Closing Value'].median()"
      ]
    },
    {
      "cell_type": "code",
      "execution_count": null,
      "id": "fc941e7a",
      "metadata": {
        "id": "fc941e7a",
        "outputId": "20610f4e-32a7-4cf4-93fb-3ddc9589e0a6",
        "colab": {
          "base_uri": "https://localhost:8080/"
        }
      },
      "outputs": [
        {
          "output_type": "execute_result",
          "data": {
            "text/plain": [
              "0    18.63\n",
              "1    20.38\n",
              "dtype: float64"
            ]
          },
          "metadata": {},
          "execution_count": 12
        }
      ],
      "source": [
        "data['Closing Value'].mode()"
      ]
    },
    {
      "cell_type": "code",
      "execution_count": null,
      "id": "2d1456b8",
      "metadata": {
        "id": "2d1456b8"
      },
      "outputs": [],
      "source": [
        "data['Date'].fillna(data['Date'].mean(),inplace=True)"
      ]
    },
    {
      "cell_type": "code",
      "execution_count": null,
      "id": "c84c01b0",
      "metadata": {
        "id": "c84c01b0",
        "outputId": "22cc985e-334f-4055-a419-f65eaecb0c5c",
        "colab": {
          "base_uri": "https://localhost:8080/",
          "height": 424
        }
      },
      "outputs": [
        {
          "output_type": "execute_result",
          "data": {
            "text/plain": [
              "           Date  Closing Value\n",
              "0    1986-01-02          25.56\n",
              "1    1986-01-03          26.00\n",
              "2    1986-01-06          26.53\n",
              "3    1986-01-07          25.85\n",
              "4    1986-01-08          25.87\n",
              "...         ...            ...\n",
              "8218 2018-07-03          74.19\n",
              "8219 2018-07-04            NaN\n",
              "8220 2018-07-05          73.05\n",
              "8221 2018-07-06          73.78\n",
              "8222 2018-07-09          73.93\n",
              "\n",
              "[8223 rows x 2 columns]"
            ],
            "text/html": [
              "\n",
              "  <div id=\"df-55cf3fbe-d682-4eca-9c59-46ea92ee01be\">\n",
              "    <div class=\"colab-df-container\">\n",
              "      <div>\n",
              "<style scoped>\n",
              "    .dataframe tbody tr th:only-of-type {\n",
              "        vertical-align: middle;\n",
              "    }\n",
              "\n",
              "    .dataframe tbody tr th {\n",
              "        vertical-align: top;\n",
              "    }\n",
              "\n",
              "    .dataframe thead th {\n",
              "        text-align: right;\n",
              "    }\n",
              "</style>\n",
              "<table border=\"1\" class=\"dataframe\">\n",
              "  <thead>\n",
              "    <tr style=\"text-align: right;\">\n",
              "      <th></th>\n",
              "      <th>Date</th>\n",
              "      <th>Closing Value</th>\n",
              "    </tr>\n",
              "  </thead>\n",
              "  <tbody>\n",
              "    <tr>\n",
              "      <th>0</th>\n",
              "      <td>1986-01-02</td>\n",
              "      <td>25.56</td>\n",
              "    </tr>\n",
              "    <tr>\n",
              "      <th>1</th>\n",
              "      <td>1986-01-03</td>\n",
              "      <td>26.00</td>\n",
              "    </tr>\n",
              "    <tr>\n",
              "      <th>2</th>\n",
              "      <td>1986-01-06</td>\n",
              "      <td>26.53</td>\n",
              "    </tr>\n",
              "    <tr>\n",
              "      <th>3</th>\n",
              "      <td>1986-01-07</td>\n",
              "      <td>25.85</td>\n",
              "    </tr>\n",
              "    <tr>\n",
              "      <th>4</th>\n",
              "      <td>1986-01-08</td>\n",
              "      <td>25.87</td>\n",
              "    </tr>\n",
              "    <tr>\n",
              "      <th>...</th>\n",
              "      <td>...</td>\n",
              "      <td>...</td>\n",
              "    </tr>\n",
              "    <tr>\n",
              "      <th>8218</th>\n",
              "      <td>2018-07-03</td>\n",
              "      <td>74.19</td>\n",
              "    </tr>\n",
              "    <tr>\n",
              "      <th>8219</th>\n",
              "      <td>2018-07-04</td>\n",
              "      <td>NaN</td>\n",
              "    </tr>\n",
              "    <tr>\n",
              "      <th>8220</th>\n",
              "      <td>2018-07-05</td>\n",
              "      <td>73.05</td>\n",
              "    </tr>\n",
              "    <tr>\n",
              "      <th>8221</th>\n",
              "      <td>2018-07-06</td>\n",
              "      <td>73.78</td>\n",
              "    </tr>\n",
              "    <tr>\n",
              "      <th>8222</th>\n",
              "      <td>2018-07-09</td>\n",
              "      <td>73.93</td>\n",
              "    </tr>\n",
              "  </tbody>\n",
              "</table>\n",
              "<p>8223 rows × 2 columns</p>\n",
              "</div>\n",
              "      <button class=\"colab-df-convert\" onclick=\"convertToInteractive('df-55cf3fbe-d682-4eca-9c59-46ea92ee01be')\"\n",
              "              title=\"Convert this dataframe to an interactive table.\"\n",
              "              style=\"display:none;\">\n",
              "        \n",
              "  <svg xmlns=\"http://www.w3.org/2000/svg\" height=\"24px\"viewBox=\"0 0 24 24\"\n",
              "       width=\"24px\">\n",
              "    <path d=\"M0 0h24v24H0V0z\" fill=\"none\"/>\n",
              "    <path d=\"M18.56 5.44l.94 2.06.94-2.06 2.06-.94-2.06-.94-.94-2.06-.94 2.06-2.06.94zm-11 1L8.5 8.5l.94-2.06 2.06-.94-2.06-.94L8.5 2.5l-.94 2.06-2.06.94zm10 10l.94 2.06.94-2.06 2.06-.94-2.06-.94-.94-2.06-.94 2.06-2.06.94z\"/><path d=\"M17.41 7.96l-1.37-1.37c-.4-.4-.92-.59-1.43-.59-.52 0-1.04.2-1.43.59L10.3 9.45l-7.72 7.72c-.78.78-.78 2.05 0 2.83L4 21.41c.39.39.9.59 1.41.59.51 0 1.02-.2 1.41-.59l7.78-7.78 2.81-2.81c.8-.78.8-2.07 0-2.86zM5.41 20L4 18.59l7.72-7.72 1.47 1.35L5.41 20z\"/>\n",
              "  </svg>\n",
              "      </button>\n",
              "      \n",
              "  <style>\n",
              "    .colab-df-container {\n",
              "      display:flex;\n",
              "      flex-wrap:wrap;\n",
              "      gap: 12px;\n",
              "    }\n",
              "\n",
              "    .colab-df-convert {\n",
              "      background-color: #E8F0FE;\n",
              "      border: none;\n",
              "      border-radius: 50%;\n",
              "      cursor: pointer;\n",
              "      display: none;\n",
              "      fill: #1967D2;\n",
              "      height: 32px;\n",
              "      padding: 0 0 0 0;\n",
              "      width: 32px;\n",
              "    }\n",
              "\n",
              "    .colab-df-convert:hover {\n",
              "      background-color: #E2EBFA;\n",
              "      box-shadow: 0px 1px 2px rgba(60, 64, 67, 0.3), 0px 1px 3px 1px rgba(60, 64, 67, 0.15);\n",
              "      fill: #174EA6;\n",
              "    }\n",
              "\n",
              "    [theme=dark] .colab-df-convert {\n",
              "      background-color: #3B4455;\n",
              "      fill: #D2E3FC;\n",
              "    }\n",
              "\n",
              "    [theme=dark] .colab-df-convert:hover {\n",
              "      background-color: #434B5C;\n",
              "      box-shadow: 0px 1px 3px 1px rgba(0, 0, 0, 0.15);\n",
              "      filter: drop-shadow(0px 1px 2px rgba(0, 0, 0, 0.3));\n",
              "      fill: #FFFFFF;\n",
              "    }\n",
              "  </style>\n",
              "\n",
              "      <script>\n",
              "        const buttonEl =\n",
              "          document.querySelector('#df-55cf3fbe-d682-4eca-9c59-46ea92ee01be button.colab-df-convert');\n",
              "        buttonEl.style.display =\n",
              "          google.colab.kernel.accessAllowed ? 'block' : 'none';\n",
              "\n",
              "        async function convertToInteractive(key) {\n",
              "          const element = document.querySelector('#df-55cf3fbe-d682-4eca-9c59-46ea92ee01be');\n",
              "          const dataTable =\n",
              "            await google.colab.kernel.invokeFunction('convertToInteractive',\n",
              "                                                     [key], {});\n",
              "          if (!dataTable) return;\n",
              "\n",
              "          const docLinkHtml = 'Like what you see? Visit the ' +\n",
              "            '<a target=\"_blank\" href=https://colab.research.google.com/notebooks/data_table.ipynb>data table notebook</a>'\n",
              "            + ' to learn more about interactive tables.';\n",
              "          element.innerHTML = '';\n",
              "          dataTable['output_type'] = 'display_data';\n",
              "          await google.colab.output.renderOutput(dataTable, element);\n",
              "          const docLink = document.createElement('div');\n",
              "          docLink.innerHTML = docLinkHtml;\n",
              "          element.appendChild(docLink);\n",
              "        }\n",
              "      </script>\n",
              "    </div>\n",
              "  </div>\n",
              "  "
            ]
          },
          "metadata": {},
          "execution_count": 14
        }
      ],
      "source": [
        "data"
      ]
    },
    {
      "cell_type": "code",
      "execution_count": null,
      "id": "088f260b",
      "metadata": {
        "id": "088f260b"
      },
      "outputs": [],
      "source": [
        "data['Date'].fillna(data['Date'].median(),inplace=True)"
      ]
    },
    {
      "cell_type": "code",
      "execution_count": null,
      "id": "f23327b4",
      "metadata": {
        "id": "f23327b4"
      },
      "outputs": [],
      "source": [
        "data['Closing Value'].fillna(data['Closing Value'].mode(),inplace=True)"
      ]
    },
    {
      "cell_type": "code",
      "execution_count": null,
      "id": "be297da8",
      "metadata": {
        "id": "be297da8",
        "outputId": "ae0a184f-8248-46c7-b56c-96d37614ae0e",
        "colab": {
          "base_uri": "https://localhost:8080/",
          "height": 424
        }
      },
      "outputs": [
        {
          "output_type": "execute_result",
          "data": {
            "text/plain": [
              "           Date  Closing Value\n",
              "0    1986-01-02          25.56\n",
              "1    1986-01-03          26.00\n",
              "2    1986-01-06          26.53\n",
              "3    1986-01-07          25.85\n",
              "4    1986-01-08          25.87\n",
              "...         ...            ...\n",
              "8218 2018-07-03          74.19\n",
              "8219 2018-07-04            NaN\n",
              "8220 2018-07-05          73.05\n",
              "8221 2018-07-06          73.78\n",
              "8222 2018-07-09          73.93\n",
              "\n",
              "[8223 rows x 2 columns]"
            ],
            "text/html": [
              "\n",
              "  <div id=\"df-dbedc901-ef91-4c5f-b598-5f17673660b5\">\n",
              "    <div class=\"colab-df-container\">\n",
              "      <div>\n",
              "<style scoped>\n",
              "    .dataframe tbody tr th:only-of-type {\n",
              "        vertical-align: middle;\n",
              "    }\n",
              "\n",
              "    .dataframe tbody tr th {\n",
              "        vertical-align: top;\n",
              "    }\n",
              "\n",
              "    .dataframe thead th {\n",
              "        text-align: right;\n",
              "    }\n",
              "</style>\n",
              "<table border=\"1\" class=\"dataframe\">\n",
              "  <thead>\n",
              "    <tr style=\"text-align: right;\">\n",
              "      <th></th>\n",
              "      <th>Date</th>\n",
              "      <th>Closing Value</th>\n",
              "    </tr>\n",
              "  </thead>\n",
              "  <tbody>\n",
              "    <tr>\n",
              "      <th>0</th>\n",
              "      <td>1986-01-02</td>\n",
              "      <td>25.56</td>\n",
              "    </tr>\n",
              "    <tr>\n",
              "      <th>1</th>\n",
              "      <td>1986-01-03</td>\n",
              "      <td>26.00</td>\n",
              "    </tr>\n",
              "    <tr>\n",
              "      <th>2</th>\n",
              "      <td>1986-01-06</td>\n",
              "      <td>26.53</td>\n",
              "    </tr>\n",
              "    <tr>\n",
              "      <th>3</th>\n",
              "      <td>1986-01-07</td>\n",
              "      <td>25.85</td>\n",
              "    </tr>\n",
              "    <tr>\n",
              "      <th>4</th>\n",
              "      <td>1986-01-08</td>\n",
              "      <td>25.87</td>\n",
              "    </tr>\n",
              "    <tr>\n",
              "      <th>...</th>\n",
              "      <td>...</td>\n",
              "      <td>...</td>\n",
              "    </tr>\n",
              "    <tr>\n",
              "      <th>8218</th>\n",
              "      <td>2018-07-03</td>\n",
              "      <td>74.19</td>\n",
              "    </tr>\n",
              "    <tr>\n",
              "      <th>8219</th>\n",
              "      <td>2018-07-04</td>\n",
              "      <td>NaN</td>\n",
              "    </tr>\n",
              "    <tr>\n",
              "      <th>8220</th>\n",
              "      <td>2018-07-05</td>\n",
              "      <td>73.05</td>\n",
              "    </tr>\n",
              "    <tr>\n",
              "      <th>8221</th>\n",
              "      <td>2018-07-06</td>\n",
              "      <td>73.78</td>\n",
              "    </tr>\n",
              "    <tr>\n",
              "      <th>8222</th>\n",
              "      <td>2018-07-09</td>\n",
              "      <td>73.93</td>\n",
              "    </tr>\n",
              "  </tbody>\n",
              "</table>\n",
              "<p>8223 rows × 2 columns</p>\n",
              "</div>\n",
              "      <button class=\"colab-df-convert\" onclick=\"convertToInteractive('df-dbedc901-ef91-4c5f-b598-5f17673660b5')\"\n",
              "              title=\"Convert this dataframe to an interactive table.\"\n",
              "              style=\"display:none;\">\n",
              "        \n",
              "  <svg xmlns=\"http://www.w3.org/2000/svg\" height=\"24px\"viewBox=\"0 0 24 24\"\n",
              "       width=\"24px\">\n",
              "    <path d=\"M0 0h24v24H0V0z\" fill=\"none\"/>\n",
              "    <path d=\"M18.56 5.44l.94 2.06.94-2.06 2.06-.94-2.06-.94-.94-2.06-.94 2.06-2.06.94zm-11 1L8.5 8.5l.94-2.06 2.06-.94-2.06-.94L8.5 2.5l-.94 2.06-2.06.94zm10 10l.94 2.06.94-2.06 2.06-.94-2.06-.94-.94-2.06-.94 2.06-2.06.94z\"/><path d=\"M17.41 7.96l-1.37-1.37c-.4-.4-.92-.59-1.43-.59-.52 0-1.04.2-1.43.59L10.3 9.45l-7.72 7.72c-.78.78-.78 2.05 0 2.83L4 21.41c.39.39.9.59 1.41.59.51 0 1.02-.2 1.41-.59l7.78-7.78 2.81-2.81c.8-.78.8-2.07 0-2.86zM5.41 20L4 18.59l7.72-7.72 1.47 1.35L5.41 20z\"/>\n",
              "  </svg>\n",
              "      </button>\n",
              "      \n",
              "  <style>\n",
              "    .colab-df-container {\n",
              "      display:flex;\n",
              "      flex-wrap:wrap;\n",
              "      gap: 12px;\n",
              "    }\n",
              "\n",
              "    .colab-df-convert {\n",
              "      background-color: #E8F0FE;\n",
              "      border: none;\n",
              "      border-radius: 50%;\n",
              "      cursor: pointer;\n",
              "      display: none;\n",
              "      fill: #1967D2;\n",
              "      height: 32px;\n",
              "      padding: 0 0 0 0;\n",
              "      width: 32px;\n",
              "    }\n",
              "\n",
              "    .colab-df-convert:hover {\n",
              "      background-color: #E2EBFA;\n",
              "      box-shadow: 0px 1px 2px rgba(60, 64, 67, 0.3), 0px 1px 3px 1px rgba(60, 64, 67, 0.15);\n",
              "      fill: #174EA6;\n",
              "    }\n",
              "\n",
              "    [theme=dark] .colab-df-convert {\n",
              "      background-color: #3B4455;\n",
              "      fill: #D2E3FC;\n",
              "    }\n",
              "\n",
              "    [theme=dark] .colab-df-convert:hover {\n",
              "      background-color: #434B5C;\n",
              "      box-shadow: 0px 1px 3px 1px rgba(0, 0, 0, 0.15);\n",
              "      filter: drop-shadow(0px 1px 2px rgba(0, 0, 0, 0.3));\n",
              "      fill: #FFFFFF;\n",
              "    }\n",
              "  </style>\n",
              "\n",
              "      <script>\n",
              "        const buttonEl =\n",
              "          document.querySelector('#df-dbedc901-ef91-4c5f-b598-5f17673660b5 button.colab-df-convert');\n",
              "        buttonEl.style.display =\n",
              "          google.colab.kernel.accessAllowed ? 'block' : 'none';\n",
              "\n",
              "        async function convertToInteractive(key) {\n",
              "          const element = document.querySelector('#df-dbedc901-ef91-4c5f-b598-5f17673660b5');\n",
              "          const dataTable =\n",
              "            await google.colab.kernel.invokeFunction('convertToInteractive',\n",
              "                                                     [key], {});\n",
              "          if (!dataTable) return;\n",
              "\n",
              "          const docLinkHtml = 'Like what you see? Visit the ' +\n",
              "            '<a target=\"_blank\" href=https://colab.research.google.com/notebooks/data_table.ipynb>data table notebook</a>'\n",
              "            + ' to learn more about interactive tables.';\n",
              "          element.innerHTML = '';\n",
              "          dataTable['output_type'] = 'display_data';\n",
              "          await google.colab.output.renderOutput(dataTable, element);\n",
              "          const docLink = document.createElement('div');\n",
              "          docLink.innerHTML = docLinkHtml;\n",
              "          element.appendChild(docLink);\n",
              "        }\n",
              "      </script>\n",
              "    </div>\n",
              "  </div>\n",
              "  "
            ]
          },
          "metadata": {},
          "execution_count": 17
        }
      ],
      "source": [
        "data"
      ]
    },
    {
      "cell_type": "code",
      "execution_count": null,
      "id": "2cad2334",
      "metadata": {
        "id": "2cad2334",
        "outputId": "af833838-edce-46f2-f6dd-2a3ea249f488",
        "colab": {
          "base_uri": "https://localhost:8080/",
          "height": 677
        }
      },
      "outputs": [
        {
          "output_type": "execute_result",
          "data": {
            "text/plain": [
              "         Date  Closing Value\n",
              "0  1986-01-02          25.56\n",
              "1  1986-01-03          26.00\n",
              "2  1986-01-06          26.53\n",
              "3  1986-01-07          25.85\n",
              "4  1986-01-08          25.87\n",
              "5  1986-01-09          26.03\n",
              "6  1986-01-10          25.65\n",
              "7  1986-01-13          25.08\n",
              "8  1986-01-14          24.97\n",
              "9  1986-01-15          25.18\n",
              "10 1986-01-16          23.98\n",
              "11 1986-01-17          23.63\n",
              "12 1986-01-20          21.33\n",
              "13 1986-01-21          20.61\n",
              "14 1986-01-22          20.25\n",
              "15 1986-01-23          19.93\n",
              "16 1986-01-24          19.45\n",
              "17 1986-01-27          20.87\n",
              "18 1986-01-28          19.45\n",
              "19 1986-01-29          19.61"
            ],
            "text/html": [
              "\n",
              "  <div id=\"df-57915cf6-f87d-48b9-9691-d47121675b7e\">\n",
              "    <div class=\"colab-df-container\">\n",
              "      <div>\n",
              "<style scoped>\n",
              "    .dataframe tbody tr th:only-of-type {\n",
              "        vertical-align: middle;\n",
              "    }\n",
              "\n",
              "    .dataframe tbody tr th {\n",
              "        vertical-align: top;\n",
              "    }\n",
              "\n",
              "    .dataframe thead th {\n",
              "        text-align: right;\n",
              "    }\n",
              "</style>\n",
              "<table border=\"1\" class=\"dataframe\">\n",
              "  <thead>\n",
              "    <tr style=\"text-align: right;\">\n",
              "      <th></th>\n",
              "      <th>Date</th>\n",
              "      <th>Closing Value</th>\n",
              "    </tr>\n",
              "  </thead>\n",
              "  <tbody>\n",
              "    <tr>\n",
              "      <th>0</th>\n",
              "      <td>1986-01-02</td>\n",
              "      <td>25.56</td>\n",
              "    </tr>\n",
              "    <tr>\n",
              "      <th>1</th>\n",
              "      <td>1986-01-03</td>\n",
              "      <td>26.00</td>\n",
              "    </tr>\n",
              "    <tr>\n",
              "      <th>2</th>\n",
              "      <td>1986-01-06</td>\n",
              "      <td>26.53</td>\n",
              "    </tr>\n",
              "    <tr>\n",
              "      <th>3</th>\n",
              "      <td>1986-01-07</td>\n",
              "      <td>25.85</td>\n",
              "    </tr>\n",
              "    <tr>\n",
              "      <th>4</th>\n",
              "      <td>1986-01-08</td>\n",
              "      <td>25.87</td>\n",
              "    </tr>\n",
              "    <tr>\n",
              "      <th>5</th>\n",
              "      <td>1986-01-09</td>\n",
              "      <td>26.03</td>\n",
              "    </tr>\n",
              "    <tr>\n",
              "      <th>6</th>\n",
              "      <td>1986-01-10</td>\n",
              "      <td>25.65</td>\n",
              "    </tr>\n",
              "    <tr>\n",
              "      <th>7</th>\n",
              "      <td>1986-01-13</td>\n",
              "      <td>25.08</td>\n",
              "    </tr>\n",
              "    <tr>\n",
              "      <th>8</th>\n",
              "      <td>1986-01-14</td>\n",
              "      <td>24.97</td>\n",
              "    </tr>\n",
              "    <tr>\n",
              "      <th>9</th>\n",
              "      <td>1986-01-15</td>\n",
              "      <td>25.18</td>\n",
              "    </tr>\n",
              "    <tr>\n",
              "      <th>10</th>\n",
              "      <td>1986-01-16</td>\n",
              "      <td>23.98</td>\n",
              "    </tr>\n",
              "    <tr>\n",
              "      <th>11</th>\n",
              "      <td>1986-01-17</td>\n",
              "      <td>23.63</td>\n",
              "    </tr>\n",
              "    <tr>\n",
              "      <th>12</th>\n",
              "      <td>1986-01-20</td>\n",
              "      <td>21.33</td>\n",
              "    </tr>\n",
              "    <tr>\n",
              "      <th>13</th>\n",
              "      <td>1986-01-21</td>\n",
              "      <td>20.61</td>\n",
              "    </tr>\n",
              "    <tr>\n",
              "      <th>14</th>\n",
              "      <td>1986-01-22</td>\n",
              "      <td>20.25</td>\n",
              "    </tr>\n",
              "    <tr>\n",
              "      <th>15</th>\n",
              "      <td>1986-01-23</td>\n",
              "      <td>19.93</td>\n",
              "    </tr>\n",
              "    <tr>\n",
              "      <th>16</th>\n",
              "      <td>1986-01-24</td>\n",
              "      <td>19.45</td>\n",
              "    </tr>\n",
              "    <tr>\n",
              "      <th>17</th>\n",
              "      <td>1986-01-27</td>\n",
              "      <td>20.87</td>\n",
              "    </tr>\n",
              "    <tr>\n",
              "      <th>18</th>\n",
              "      <td>1986-01-28</td>\n",
              "      <td>19.45</td>\n",
              "    </tr>\n",
              "    <tr>\n",
              "      <th>19</th>\n",
              "      <td>1986-01-29</td>\n",
              "      <td>19.61</td>\n",
              "    </tr>\n",
              "  </tbody>\n",
              "</table>\n",
              "</div>\n",
              "      <button class=\"colab-df-convert\" onclick=\"convertToInteractive('df-57915cf6-f87d-48b9-9691-d47121675b7e')\"\n",
              "              title=\"Convert this dataframe to an interactive table.\"\n",
              "              style=\"display:none;\">\n",
              "        \n",
              "  <svg xmlns=\"http://www.w3.org/2000/svg\" height=\"24px\"viewBox=\"0 0 24 24\"\n",
              "       width=\"24px\">\n",
              "    <path d=\"M0 0h24v24H0V0z\" fill=\"none\"/>\n",
              "    <path d=\"M18.56 5.44l.94 2.06.94-2.06 2.06-.94-2.06-.94-.94-2.06-.94 2.06-2.06.94zm-11 1L8.5 8.5l.94-2.06 2.06-.94-2.06-.94L8.5 2.5l-.94 2.06-2.06.94zm10 10l.94 2.06.94-2.06 2.06-.94-2.06-.94-.94-2.06-.94 2.06-2.06.94z\"/><path d=\"M17.41 7.96l-1.37-1.37c-.4-.4-.92-.59-1.43-.59-.52 0-1.04.2-1.43.59L10.3 9.45l-7.72 7.72c-.78.78-.78 2.05 0 2.83L4 21.41c.39.39.9.59 1.41.59.51 0 1.02-.2 1.41-.59l7.78-7.78 2.81-2.81c.8-.78.8-2.07 0-2.86zM5.41 20L4 18.59l7.72-7.72 1.47 1.35L5.41 20z\"/>\n",
              "  </svg>\n",
              "      </button>\n",
              "      \n",
              "  <style>\n",
              "    .colab-df-container {\n",
              "      display:flex;\n",
              "      flex-wrap:wrap;\n",
              "      gap: 12px;\n",
              "    }\n",
              "\n",
              "    .colab-df-convert {\n",
              "      background-color: #E8F0FE;\n",
              "      border: none;\n",
              "      border-radius: 50%;\n",
              "      cursor: pointer;\n",
              "      display: none;\n",
              "      fill: #1967D2;\n",
              "      height: 32px;\n",
              "      padding: 0 0 0 0;\n",
              "      width: 32px;\n",
              "    }\n",
              "\n",
              "    .colab-df-convert:hover {\n",
              "      background-color: #E2EBFA;\n",
              "      box-shadow: 0px 1px 2px rgba(60, 64, 67, 0.3), 0px 1px 3px 1px rgba(60, 64, 67, 0.15);\n",
              "      fill: #174EA6;\n",
              "    }\n",
              "\n",
              "    [theme=dark] .colab-df-convert {\n",
              "      background-color: #3B4455;\n",
              "      fill: #D2E3FC;\n",
              "    }\n",
              "\n",
              "    [theme=dark] .colab-df-convert:hover {\n",
              "      background-color: #434B5C;\n",
              "      box-shadow: 0px 1px 3px 1px rgba(0, 0, 0, 0.15);\n",
              "      filter: drop-shadow(0px 1px 2px rgba(0, 0, 0, 0.3));\n",
              "      fill: #FFFFFF;\n",
              "    }\n",
              "  </style>\n",
              "\n",
              "      <script>\n",
              "        const buttonEl =\n",
              "          document.querySelector('#df-57915cf6-f87d-48b9-9691-d47121675b7e button.colab-df-convert');\n",
              "        buttonEl.style.display =\n",
              "          google.colab.kernel.accessAllowed ? 'block' : 'none';\n",
              "\n",
              "        async function convertToInteractive(key) {\n",
              "          const element = document.querySelector('#df-57915cf6-f87d-48b9-9691-d47121675b7e');\n",
              "          const dataTable =\n",
              "            await google.colab.kernel.invokeFunction('convertToInteractive',\n",
              "                                                     [key], {});\n",
              "          if (!dataTable) return;\n",
              "\n",
              "          const docLinkHtml = 'Like what you see? Visit the ' +\n",
              "            '<a target=\"_blank\" href=https://colab.research.google.com/notebooks/data_table.ipynb>data table notebook</a>'\n",
              "            + ' to learn more about interactive tables.';\n",
              "          element.innerHTML = '';\n",
              "          dataTable['output_type'] = 'display_data';\n",
              "          await google.colab.output.renderOutput(dataTable, element);\n",
              "          const docLink = document.createElement('div');\n",
              "          docLink.innerHTML = docLinkHtml;\n",
              "          element.appendChild(docLink);\n",
              "        }\n",
              "      </script>\n",
              "    </div>\n",
              "  </div>\n",
              "  "
            ]
          },
          "metadata": {},
          "execution_count": 18
        }
      ],
      "source": [
        "data.head(20)"
      ]
    },
    {
      "cell_type": "code",
      "execution_count": null,
      "id": "8c368a75",
      "metadata": {
        "id": "8c368a75",
        "outputId": "95d3dcc5-a848-4b5b-cb78-c2640b5978d9",
        "colab": {
          "base_uri": "https://localhost:8080/",
          "height": 300
        }
      },
      "outputs": [
        {
          "output_type": "execute_result",
          "data": {
            "text/plain": [
              "       Closing Value\n",
              "count    8216.000000\n",
              "mean       43.492139\n",
              "std        29.616804\n",
              "min        10.250000\n",
              "25%        19.577500\n",
              "50%        29.610000\n",
              "75%        63.402500\n",
              "max       145.310000"
            ],
            "text/html": [
              "\n",
              "  <div id=\"df-cc2c1d0a-b455-4e96-a395-d6b389396462\">\n",
              "    <div class=\"colab-df-container\">\n",
              "      <div>\n",
              "<style scoped>\n",
              "    .dataframe tbody tr th:only-of-type {\n",
              "        vertical-align: middle;\n",
              "    }\n",
              "\n",
              "    .dataframe tbody tr th {\n",
              "        vertical-align: top;\n",
              "    }\n",
              "\n",
              "    .dataframe thead th {\n",
              "        text-align: right;\n",
              "    }\n",
              "</style>\n",
              "<table border=\"1\" class=\"dataframe\">\n",
              "  <thead>\n",
              "    <tr style=\"text-align: right;\">\n",
              "      <th></th>\n",
              "      <th>Closing Value</th>\n",
              "    </tr>\n",
              "  </thead>\n",
              "  <tbody>\n",
              "    <tr>\n",
              "      <th>count</th>\n",
              "      <td>8216.000000</td>\n",
              "    </tr>\n",
              "    <tr>\n",
              "      <th>mean</th>\n",
              "      <td>43.492139</td>\n",
              "    </tr>\n",
              "    <tr>\n",
              "      <th>std</th>\n",
              "      <td>29.616804</td>\n",
              "    </tr>\n",
              "    <tr>\n",
              "      <th>min</th>\n",
              "      <td>10.250000</td>\n",
              "    </tr>\n",
              "    <tr>\n",
              "      <th>25%</th>\n",
              "      <td>19.577500</td>\n",
              "    </tr>\n",
              "    <tr>\n",
              "      <th>50%</th>\n",
              "      <td>29.610000</td>\n",
              "    </tr>\n",
              "    <tr>\n",
              "      <th>75%</th>\n",
              "      <td>63.402500</td>\n",
              "    </tr>\n",
              "    <tr>\n",
              "      <th>max</th>\n",
              "      <td>145.310000</td>\n",
              "    </tr>\n",
              "  </tbody>\n",
              "</table>\n",
              "</div>\n",
              "      <button class=\"colab-df-convert\" onclick=\"convertToInteractive('df-cc2c1d0a-b455-4e96-a395-d6b389396462')\"\n",
              "              title=\"Convert this dataframe to an interactive table.\"\n",
              "              style=\"display:none;\">\n",
              "        \n",
              "  <svg xmlns=\"http://www.w3.org/2000/svg\" height=\"24px\"viewBox=\"0 0 24 24\"\n",
              "       width=\"24px\">\n",
              "    <path d=\"M0 0h24v24H0V0z\" fill=\"none\"/>\n",
              "    <path d=\"M18.56 5.44l.94 2.06.94-2.06 2.06-.94-2.06-.94-.94-2.06-.94 2.06-2.06.94zm-11 1L8.5 8.5l.94-2.06 2.06-.94-2.06-.94L8.5 2.5l-.94 2.06-2.06.94zm10 10l.94 2.06.94-2.06 2.06-.94-2.06-.94-.94-2.06-.94 2.06-2.06.94z\"/><path d=\"M17.41 7.96l-1.37-1.37c-.4-.4-.92-.59-1.43-.59-.52 0-1.04.2-1.43.59L10.3 9.45l-7.72 7.72c-.78.78-.78 2.05 0 2.83L4 21.41c.39.39.9.59 1.41.59.51 0 1.02-.2 1.41-.59l7.78-7.78 2.81-2.81c.8-.78.8-2.07 0-2.86zM5.41 20L4 18.59l7.72-7.72 1.47 1.35L5.41 20z\"/>\n",
              "  </svg>\n",
              "      </button>\n",
              "      \n",
              "  <style>\n",
              "    .colab-df-container {\n",
              "      display:flex;\n",
              "      flex-wrap:wrap;\n",
              "      gap: 12px;\n",
              "    }\n",
              "\n",
              "    .colab-df-convert {\n",
              "      background-color: #E8F0FE;\n",
              "      border: none;\n",
              "      border-radius: 50%;\n",
              "      cursor: pointer;\n",
              "      display: none;\n",
              "      fill: #1967D2;\n",
              "      height: 32px;\n",
              "      padding: 0 0 0 0;\n",
              "      width: 32px;\n",
              "    }\n",
              "\n",
              "    .colab-df-convert:hover {\n",
              "      background-color: #E2EBFA;\n",
              "      box-shadow: 0px 1px 2px rgba(60, 64, 67, 0.3), 0px 1px 3px 1px rgba(60, 64, 67, 0.15);\n",
              "      fill: #174EA6;\n",
              "    }\n",
              "\n",
              "    [theme=dark] .colab-df-convert {\n",
              "      background-color: #3B4455;\n",
              "      fill: #D2E3FC;\n",
              "    }\n",
              "\n",
              "    [theme=dark] .colab-df-convert:hover {\n",
              "      background-color: #434B5C;\n",
              "      box-shadow: 0px 1px 3px 1px rgba(0, 0, 0, 0.15);\n",
              "      filter: drop-shadow(0px 1px 2px rgba(0, 0, 0, 0.3));\n",
              "      fill: #FFFFFF;\n",
              "    }\n",
              "  </style>\n",
              "\n",
              "      <script>\n",
              "        const buttonEl =\n",
              "          document.querySelector('#df-cc2c1d0a-b455-4e96-a395-d6b389396462 button.colab-df-convert');\n",
              "        buttonEl.style.display =\n",
              "          google.colab.kernel.accessAllowed ? 'block' : 'none';\n",
              "\n",
              "        async function convertToInteractive(key) {\n",
              "          const element = document.querySelector('#df-cc2c1d0a-b455-4e96-a395-d6b389396462');\n",
              "          const dataTable =\n",
              "            await google.colab.kernel.invokeFunction('convertToInteractive',\n",
              "                                                     [key], {});\n",
              "          if (!dataTable) return;\n",
              "\n",
              "          const docLinkHtml = 'Like what you see? Visit the ' +\n",
              "            '<a target=\"_blank\" href=https://colab.research.google.com/notebooks/data_table.ipynb>data table notebook</a>'\n",
              "            + ' to learn more about interactive tables.';\n",
              "          element.innerHTML = '';\n",
              "          dataTable['output_type'] = 'display_data';\n",
              "          await google.colab.output.renderOutput(dataTable, element);\n",
              "          const docLink = document.createElement('div');\n",
              "          docLink.innerHTML = docLinkHtml;\n",
              "          element.appendChild(docLink);\n",
              "        }\n",
              "      </script>\n",
              "    </div>\n",
              "  </div>\n",
              "  "
            ]
          },
          "metadata": {},
          "execution_count": 19
        }
      ],
      "source": [
        "data.describe()"
      ]
    },
    {
      "cell_type": "code",
      "execution_count": null,
      "id": "2f978c73",
      "metadata": {
        "id": "2f978c73"
      },
      "outputs": [],
      "source": [
        "data.dropna(axis=0,inplace=True)"
      ]
    },
    {
      "cell_type": "code",
      "execution_count": null,
      "id": "8c64817a",
      "metadata": {
        "id": "8c64817a",
        "outputId": "94801261-9706-4ea8-c8b6-107da6f33e86",
        "colab": {
          "base_uri": "https://localhost:8080/"
        }
      },
      "outputs": [
        {
          "output_type": "execute_result",
          "data": {
            "text/plain": [
              "Date             0\n",
              "Closing Value    0\n",
              "dtype: int64"
            ]
          },
          "metadata": {},
          "execution_count": 21
        }
      ],
      "source": [
        "data.isnull().sum()"
      ]
    },
    {
      "cell_type": "code",
      "execution_count": null,
      "id": "36e69458",
      "metadata": {
        "id": "36e69458"
      },
      "outputs": [],
      "source": [
        "data_oil=data.reset_index()['Closing Value']"
      ]
    },
    {
      "cell_type": "code",
      "execution_count": null,
      "id": "97c59b0b",
      "metadata": {
        "id": "97c59b0b",
        "outputId": "226f0958-8400-4a79-e346-b0631a7f65f4",
        "colab": {
          "base_uri": "https://localhost:8080/"
        }
      },
      "outputs": [
        {
          "output_type": "execute_result",
          "data": {
            "text/plain": [
              "0       25.56\n",
              "1       26.00\n",
              "2       26.53\n",
              "3       25.85\n",
              "4       25.87\n",
              "        ...  \n",
              "8211    73.89\n",
              "8212    74.19\n",
              "8213    73.05\n",
              "8214    73.78\n",
              "8215    73.93\n",
              "Name: Closing Value, Length: 8216, dtype: float64"
            ]
          },
          "metadata": {},
          "execution_count": 23
        }
      ],
      "source": [
        "data_oil"
      ]
    },
    {
      "cell_type": "markdown",
      "id": "b8fb63d1",
      "metadata": {
        "id": "b8fb63d1"
      },
      "source": [
        "# feature scalling"
      ]
    },
    {
      "cell_type": "code",
      "execution_count": null,
      "id": "7d3d79be",
      "metadata": {
        "id": "7d3d79be"
      },
      "outputs": [],
      "source": [
        "from sklearn.preprocessing import MinMaxScaler \n",
        "scaler=MinMaxScaler(feature_range=(0,1))\n",
        "data_oil=scaler.fit_transform(np.array(data_oil).reshape(-1,1))"
      ]
    },
    {
      "cell_type": "code",
      "execution_count": null,
      "id": "705c8bf9",
      "metadata": {
        "id": "705c8bf9"
      },
      "outputs": [],
      "source": [
        "sc =MinMaxScaler()"
      ]
    },
    {
      "cell_type": "code",
      "execution_count": null,
      "id": "bb9a115f",
      "metadata": {
        "id": "bb9a115f"
      },
      "outputs": [],
      "source": [
        "scaled_training = sc.fit_transform(data_oil)"
      ]
    },
    {
      "cell_type": "code",
      "execution_count": null,
      "id": "c386d958",
      "metadata": {
        "id": "c386d958",
        "outputId": "a7242d80-2903-4381-b8d0-8c9827ad4c35",
        "colab": {
          "base_uri": "https://localhost:8080/"
        }
      },
      "outputs": [
        {
          "output_type": "execute_result",
          "data": {
            "text/plain": [
              "array([[0.11335703],\n",
              "       [0.11661484],\n",
              "       [0.12053902],\n",
              "       ...,\n",
              "       [0.46497853],\n",
              "       [0.47038353],\n",
              "       [0.47149415]])"
            ]
          },
          "metadata": {},
          "execution_count": 27
        }
      ],
      "source": [
        "scaled_training"
      ]
    },
    {
      "cell_type": "code",
      "execution_count": null,
      "id": "85f89c3c",
      "metadata": {
        "id": "85f89c3c"
      },
      "outputs": [],
      "source": [
        "scaled_testing = sc.fit_transform(data_oil)"
      ]
    },
    {
      "cell_type": "code",
      "execution_count": null,
      "id": "9222fe8b",
      "metadata": {
        "id": "9222fe8b",
        "outputId": "6c1e1311-ca7f-4698-e90d-f90837a6b0af",
        "colab": {
          "base_uri": "https://localhost:8080/"
        }
      },
      "outputs": [
        {
          "output_type": "execute_result",
          "data": {
            "text/plain": [
              "array([[0.11335703],\n",
              "       [0.11661484],\n",
              "       [0.12053902],\n",
              "       ...,\n",
              "       [0.46497853],\n",
              "       [0.47038353],\n",
              "       [0.47149415]])"
            ]
          },
          "metadata": {},
          "execution_count": 29
        }
      ],
      "source": [
        "scaled_testing"
      ]
    },
    {
      "cell_type": "markdown",
      "id": "314f6dac",
      "metadata": {
        "id": "314f6dac"
      },
      "source": [
        "# Data Visualization"
      ]
    },
    {
      "cell_type": "code",
      "execution_count": null,
      "id": "8b945a79",
      "metadata": {
        "id": "8b945a79",
        "outputId": "97d80bf9-6419-4f12-9741-11dd4a05377c",
        "colab": {
          "base_uri": "https://localhost:8080/",
          "height": 282
        }
      },
      "outputs": [
        {
          "output_type": "execute_result",
          "data": {
            "text/plain": [
              "[<matplotlib.lines.Line2D at 0x7f31a301a650>]"
            ]
          },
          "metadata": {},
          "execution_count": 30
        },
        {
          "output_type": "display_data",
          "data": {
            "text/plain": [
              "<Figure size 432x288 with 1 Axes>"
            ],
            "image/png": "[encoded data removed]"
          },
          "metadata": {
            "needs_background": "light"
          }
        }
      ],
      "source": [
        "plt.plot(data_oil)"
      ]
    },
    {
      "cell_type": "markdown",
      "id": "15a8092f",
      "metadata": {
        "id": "15a8092f"
      },
      "source": [
        "# Split the Data into Train & Test"
      ]
    },
    {
      "cell_type": "code",
      "execution_count": null,
      "id": "301d5ddf",
      "metadata": {
        "id": "301d5ddf"
      },
      "outputs": [],
      "source": [
        "# independendant and dependant varibles\n",
        "x_train = []\n",
        "y_train = []"
      ]
    },
    {
      "cell_type": "code",
      "execution_count": null,
      "id": "f338f3c8",
      "metadata": {
        "id": "f338f3c8",
        "outputId": "c3e5e358-6315-4609-a0cb-ac4574276d59",
        "colab": {
          "base_uri": "https://localhost:8080/"
        }
      },
      "outputs": [
        {
          "output_type": "execute_result",
          "data": {
            "text/plain": [
              "(8216, 1)"
            ]
          },
          "metadata": {},
          "execution_count": 32
        }
      ],
      "source": [
        "scaled_training.shape"
      ]
    },
    {
      "cell_type": "code",
      "execution_count": null,
      "id": "fbebf60b",
      "metadata": {
        "id": "fbebf60b"
      },
      "outputs": [],
      "source": [
        "training_size=int(len(data_oil)*0.65)\n",
        "test_size=len(data_oil)-training_size\n",
        "train_data,test_data=data_oil[0:training_size,:],data_oil[training_size:len(data_oil),:1]"
      ]
    },
    {
      "cell_type": "code",
      "execution_count": null,
      "id": "d14de5c9",
      "metadata": {
        "id": "d14de5c9",
        "outputId": "504030b9-b2e3-43b0-e38f-878b76681cb0",
        "colab": {
          "base_uri": "https://localhost:8080/"
        }
      },
      "outputs": [
        {
          "output_type": "execute_result",
          "data": {
            "text/plain": [
              "(5340, 2876)"
            ]
          },
          "metadata": {},
          "execution_count": 34
        }
      ],
      "source": [
        "training_size,test_size"
      ]
    },
    {
      "cell_type": "code",
      "execution_count": null,
      "id": "c16aa608",
      "metadata": {
        "id": "c16aa608",
        "outputId": "24a8c764-7d3a-4609-fc56-15253a810281",
        "colab": {
          "base_uri": "https://localhost:8080/"
        }
      },
      "outputs": [
        {
          "output_type": "execute_result",
          "data": {
            "text/plain": [
              "(5340, 1)"
            ]
          },
          "metadata": {},
          "execution_count": 35
        }
      ],
      "source": [
        "train_data.shape"
      ]
    },
    {
      "cell_type": "markdown",
      "id": "d8dd2078",
      "metadata": {
        "id": "d8dd2078"
      },
      "source": [
        "# Creating A Dataset with silding windows"
      ]
    },
    {
      "cell_type": "code",
      "execution_count": null,
      "id": "d2b34a31",
      "metadata": {
        "id": "d2b34a31"
      },
      "outputs": [],
      "source": [
        "##convert an array of values into a dataset matrix\n",
        "def create_dataset (dataset,time_step=1):\n",
        "    dataX,dataY = [],[]\n",
        "    for i in range(len(dataset)-time_step-1):\n",
        "        a = dataset[i:(i+time_step),0]\n",
        "        dataX.append(a)\n",
        "        dataY.append(dataset[i + time_step, 0])\n",
        "    return np.array(dataX), np.array(dataY)"
      ]
    },
    {
      "cell_type": "code",
      "execution_count": null,
      "id": "90ebbecf",
      "metadata": {
        "id": "90ebbecf"
      },
      "outputs": [],
      "source": [
        "#reshape into X=t,t 1, t 2, t 3 and Y=t14\n",
        "time_step = 10\n",
        "x_train,y_train = create_dataset(train_data, time_step)\n",
        "x_test, y_test = create_dataset(test_data, time_step)"
      ]
    },
    {
      "cell_type": "code",
      "execution_count": null,
      "id": "4ea67510",
      "metadata": {
        "id": "4ea67510",
        "outputId": "636df6f8-b754-483d-aa1c-ba2ed8b23e8d",
        "colab": {
          "base_uri": "https://localhost:8080/"
        }
      },
      "outputs": [
        {
          "output_type": "stream",
          "name": "stdout",
          "text": [
            "(5329, 10)\n",
            "(5329,)\n"
          ]
        },
        {
          "output_type": "execute_result",
          "data": {
            "text/plain": [
              "(None, None)"
            ]
          },
          "metadata": {},
          "execution_count": 38
        }
      ],
      "source": [
        "print(x_train.shape), print(y_train.shape)"
      ]
    },
    {
      "cell_type": "code",
      "execution_count": null,
      "id": "9eb22921",
      "metadata": {
        "id": "9eb22921",
        "outputId": "f80e8a74-7970-4ea9-bea1-a18d3a836d76",
        "colab": {
          "base_uri": "https://localhost:8080/"
        }
      },
      "outputs": [
        {
          "output_type": "stream",
          "name": "stdout",
          "text": [
            "(2865, 10)\n",
            "(2865,)\n"
          ]
        },
        {
          "output_type": "execute_result",
          "data": {
            "text/plain": [
              "(None, None)"
            ]
          },
          "metadata": {},
          "execution_count": 39
        }
      ],
      "source": [
        "print(x_test.shape), print(y_test.shape)"
      ]
    },
    {
      "cell_type": "code",
      "execution_count": null,
      "id": "de26a5d0",
      "metadata": {
        "id": "de26a5d0",
        "outputId": "b85975e7-4e8c-422e-ef1e-ff4797e1fe92",
        "colab": {
          "base_uri": "https://localhost:8080/"
        }
      },
      "outputs": [
        {
          "output_type": "execute_result",
          "data": {
            "text/plain": [
              "array([[0.11335703, 0.11661484, 0.12053902, ..., 0.10980305, 0.1089886 ,\n",
              "        0.11054346],\n",
              "       [0.11661484, 0.12053902, 0.11550422, ..., 0.1089886 , 0.11054346,\n",
              "        0.10165852],\n",
              "       [0.12053902, 0.11550422, 0.1156523 , ..., 0.11054346, 0.10165852,\n",
              "        0.09906708],\n",
              "       ...,\n",
              "       [0.36731823, 0.35176958, 0.36080261, ..., 0.36391234, 0.37042796,\n",
              "        0.37042796],\n",
              "       [0.35176958, 0.36080261, 0.35354657, ..., 0.37042796, 0.37042796,\n",
              "        0.37879461],\n",
              "       [0.36080261, 0.35354657, 0.35295424, ..., 0.37042796, 0.37879461,\n",
              "        0.37916482]])"
            ]
          },
          "metadata": {},
          "execution_count": 40
        }
      ],
      "source": [
        "x_train"
      ]
    },
    {
      "cell_type": "code",
      "execution_count": null,
      "id": "7f803d0c",
      "metadata": {
        "id": "7f803d0c"
      },
      "outputs": [],
      "source": [
        "x_train =x_train.reshape(x_train.shape[0],x_train.shape[1], 1)\n",
        "x_test =x_test.reshape(x_test.shape[0],x_test.shape[1], 1)"
      ]
    },
    {
      "cell_type": "code",
      "execution_count": null,
      "id": "a9e0cc8a",
      "metadata": {
        "id": "a9e0cc8a",
        "outputId": "b59d51a6-3388-4774-a026-3720af36bf95",
        "colab": {
          "base_uri": "https://localhost:8080/"
        }
      },
      "outputs": [
        {
          "output_type": "execute_result",
          "data": {
            "text/plain": [
              "array([[[0.11335703],\n",
              "        [0.11661484],\n",
              "        [0.12053902],\n",
              "        ...,\n",
              "        [0.10980305],\n",
              "        [0.1089886 ],\n",
              "        [0.11054346]],\n",
              "\n",
              "       [[0.11661484],\n",
              "        [0.12053902],\n",
              "        [0.11550422],\n",
              "        ...,\n",
              "        [0.1089886 ],\n",
              "        [0.11054346],\n",
              "        [0.10165852]],\n",
              "\n",
              "       [[0.12053902],\n",
              "        [0.11550422],\n",
              "        [0.1156523 ],\n",
              "        ...,\n",
              "        [0.11054346],\n",
              "        [0.10165852],\n",
              "        [0.09906708]],\n",
              "\n",
              "       ...,\n",
              "\n",
              "       [[0.36731823],\n",
              "        [0.35176958],\n",
              "        [0.36080261],\n",
              "        ...,\n",
              "        [0.36391234],\n",
              "        [0.37042796],\n",
              "        [0.37042796]],\n",
              "\n",
              "       [[0.35176958],\n",
              "        [0.36080261],\n",
              "        [0.35354657],\n",
              "        ...,\n",
              "        [0.37042796],\n",
              "        [0.37042796],\n",
              "        [0.37879461]],\n",
              "\n",
              "       [[0.36080261],\n",
              "        [0.35354657],\n",
              "        [0.35295424],\n",
              "        ...,\n",
              "        [0.37042796],\n",
              "        [0.37879461],\n",
              "        [0.37916482]]])"
            ]
          },
          "metadata": {},
          "execution_count": 42
        }
      ],
      "source": [
        "x_train"
      ]
    },
    {
      "cell_type": "code",
      "execution_count": null,
      "id": "05909d12",
      "metadata": {
        "id": "05909d12",
        "outputId": "bbf66822-9d7d-4aca-823c-0314a953dd68",
        "colab": {
          "base_uri": "https://localhost:8080/"
        }
      },
      "outputs": [
        {
          "output_type": "execute_result",
          "data": {
            "text/plain": [
              "array([[[0.38005331],\n",
              "        [0.36872501],\n",
              "        [0.37324152],\n",
              "        ...,\n",
              "        [0.3537687 ],\n",
              "        [0.35465719],\n",
              "        [0.3499926 ]],\n",
              "\n",
              "       [[0.36872501],\n",
              "        [0.37324152],\n",
              "        [0.38205242],\n",
              "        ...,\n",
              "        [0.35465719],\n",
              "        [0.3499926 ],\n",
              "        [0.3465867 ]],\n",
              "\n",
              "       [[0.37324152],\n",
              "        [0.38205242],\n",
              "        [0.38042352],\n",
              "        ...,\n",
              "        [0.3499926 ],\n",
              "        [0.3465867 ],\n",
              "        [0.34355101]],\n",
              "\n",
              "       ...,\n",
              "\n",
              "       [[0.40604176],\n",
              "        [0.41218718],\n",
              "        [0.41041019],\n",
              "        ...,\n",
              "        [0.46794017],\n",
              "        [0.47297497],\n",
              "        [0.47119799]],\n",
              "\n",
              "       [[0.41218718],\n",
              "        [0.41041019],\n",
              "        [0.43513994],\n",
              "        ...,\n",
              "        [0.47297497],\n",
              "        [0.47119799],\n",
              "        [0.47341922]],\n",
              "\n",
              "       [[0.41041019],\n",
              "        [0.43513994],\n",
              "        [0.4417296 ],\n",
              "        ...,\n",
              "        [0.47119799],\n",
              "        [0.47341922],\n",
              "        [0.46497853]]])"
            ]
          },
          "metadata": {},
          "execution_count": 43
        }
      ],
      "source": [
        "x_test"
      ]
    },
    {
      "cell_type": "code",
      "source": [
        "!pip install tensorflow\n",
        "!pip install keras"
      ],
      "metadata": {
        "colab": {
          "base_uri": "https://localhost:8080/"
        },
        "id": "_VvbMbfC-C8O",
        "outputId": "7a9789b6-f003-4128-aaec-9271bd323721"
      },
      "id": "_VvbMbfC-C8O",
      "execution_count": null,
      "outputs": [
        {
          "output_type": "stream",
          "name": "stdout",
          "text": [
            "Looking in indexes: https://pypi.org/simple, https://us-python.pkg.dev/colab-wheels/public/simple/\n",
            "Requirement already satisfied: tensorflow in /usr/local/lib/python3.7/dist-packages (2.9.2)\n",
            "Requirement already satisfied: protobuf<3.20,>=3.9.2 in /usr/local/lib/python3.7/dist-packages (from tensorflow) (3.19.6)\n",
            "Requirement already satisfied: opt-einsum>=2.3.2 in /usr/local/lib/python3.7/dist-packages (from tensorflow) (3.3.0)\n",
            "Requirement already satisfied: libclang>=13.0.0 in /usr/local/lib/python3.7/dist-packages (from tensorflow) (14.0.6)\n",
            "Requirement already satisfied: keras-preprocessing>=1.1.1 in /usr/local/lib/python3.7/dist-packages (from tensorflow) (1.1.2)\n",
            "Requirement already satisfied: packaging in /usr/local/lib/python3.7/dist-packages (from tensorflow) (21.3)\n",
            "Requirement already satisfied: setuptools in /usr/local/lib/python3.7/dist-packages (from tensorflow) (57.4.0)\n",
            "Requirement already satisfied: h5py>=2.9.0 in /usr/local/lib/python3.7/dist-packages (from tensorflow) (3.1.0)\n",
            "Requirement already satisfied: typing-extensions>=3.6.6 in /usr/local/lib/python3.7/dist-packages (from tensorflow) (4.1.1)\n",
            "Requirement already satisfied: tensorflow-estimator<2.10.0,>=2.9.0rc0 in /usr/local/lib/python3.7/dist-packages (from tensorflow) (2.9.0)\n",
            "Requirement already satisfied: tensorboard<2.10,>=2.9 in /usr/local/lib/python3.7/dist-packages (from tensorflow) (2.9.1)\n",
            "Requirement already satisfied: grpcio<2.0,>=1.24.3 in /usr/local/lib/python3.7/dist-packages (from tensorflow) (1.50.0)\n",
            "Requirement already satisfied: tensorflow-io-gcs-filesystem>=0.23.1 in /usr/local/lib/python3.7/dist-packages (from tensorflow) (0.27.0)\n",
            "Requirement already satisfied: gast<=0.4.0,>=0.2.1 in /usr/local/lib/python3.7/dist-packages (from tensorflow) (0.4.0)\n",
            "Requirement already satisfied: keras<2.10.0,>=2.9.0rc0 in /usr/local/lib/python3.7/dist-packages (from tensorflow) (2.9.0)\n",
            "Requirement already satisfied: numpy>=1.20 in /usr/local/lib/python3.7/dist-packages (from tensorflow) (1.21.6)\n",
            "Requirement already satisfied: wrapt>=1.11.0 in /usr/local/lib/python3.7/dist-packages (from tensorflow) (1.14.1)\n",
            "Requirement already satisfied: absl-py>=1.0.0 in /usr/local/lib/python3.7/dist-packages (from tensorflow) (1.3.0)\n",
            "Requirement already satisfied: flatbuffers<2,>=1.12 in /usr/local/lib/python3.7/dist-packages (from tensorflow) (1.12)\n",
            "Requirement already satisfied: astunparse>=1.6.0 in /usr/local/lib/python3.7/dist-packages (from tensorflow) (1.6.3)\n",
            "Requirement already satisfied: termcolor>=1.1.0 in /usr/local/lib/python3.7/dist-packages (from tensorflow) (2.1.0)\n",
            "Requirement already satisfied: google-pasta>=0.1.1 in /usr/local/lib/python3.7/dist-packages (from tensorflow) (0.2.0)\n",
            "Requirement already satisfied: six>=1.12.0 in /usr/local/lib/python3.7/dist-packages (from tensorflow) (1.15.0)\n",
            "Requirement already satisfied: wheel<1.0,>=0.23.0 in /usr/local/lib/python3.7/dist-packages (from astunparse>=1.6.0->tensorflow) (0.38.3)\n",
            "Requirement already satisfied: cached-property in /usr/local/lib/python3.7/dist-packages (from h5py>=2.9.0->tensorflow) (1.5.2)\n",
            "Requirement already satisfied: tensorboard-data-server<0.7.0,>=0.6.0 in /usr/local/lib/python3.7/dist-packages (from tensorboard<2.10,>=2.9->tensorflow) (0.6.1)\n",
            "Requirement already satisfied: requests<3,>=2.21.0 in /usr/local/lib/python3.7/dist-packages (from tensorboard<2.10,>=2.9->tensorflow) (2.23.0)\n",
            "Requirement already satisfied: tensorboard-plugin-wit>=1.6.0 in /usr/local/lib/python3.7/dist-packages (from tensorboard<2.10,>=2.9->tensorflow) (1.8.1)\n",
            "Requirement already satisfied: google-auth-oauthlib<0.5,>=0.4.1 in /usr/local/lib/python3.7/dist-packages (from tensorboard<2.10,>=2.9->tensorflow) (0.4.6)\n",
            "Requirement already satisfied: markdown>=2.6.8 in /usr/local/lib/python3.7/dist-packages (from tensorboard<2.10,>=2.9->tensorflow) (3.4.1)\n",
            "Requirement already satisfied: werkzeug>=1.0.1 in /usr/local/lib/python3.7/dist-packages (from tensorboard<2.10,>=2.9->tensorflow) (1.0.1)\n",
            "Requirement already satisfied: google-auth<3,>=1.6.3 in /usr/local/lib/python3.7/dist-packages (from tensorboard<2.10,>=2.9->tensorflow) (2.14.1)\n",
            "Requirement already satisfied: cachetools<6.0,>=2.0.0 in /usr/local/lib/python3.7/dist-packages (from google-auth<3,>=1.6.3->tensorboard<2.10,>=2.9->tensorflow) (5.2.0)\n",
            "Requirement already satisfied: rsa<5,>=3.1.4 in /usr/local/lib/python3.7/dist-packages (from google-auth<3,>=1.6.3->tensorboard<2.10,>=2.9->tensorflow) (4.9)\n",
            "Requirement already satisfied: pyasn1-modules>=0.2.1 in /usr/local/lib/python3.7/dist-packages (from google-auth<3,>=1.6.3->tensorboard<2.10,>=2.9->tensorflow) (0.2.8)\n",
            "Requirement already satisfied: requests-oauthlib>=0.7.0 in /usr/local/lib/python3.7/dist-packages (from google-auth-oauthlib<0.5,>=0.4.1->tensorboard<2.10,>=2.9->tensorflow) (1.3.1)\n",
            "Requirement already satisfied: importlib-metadata>=4.4 in /usr/local/lib/python3.7/dist-packages (from markdown>=2.6.8->tensorboard<2.10,>=2.9->tensorflow) (4.13.0)\n",
            "Requirement already satisfied: zipp>=0.5 in /usr/local/lib/python3.7/dist-packages (from importlib-metadata>=4.4->markdown>=2.6.8->tensorboard<2.10,>=2.9->tensorflow) (3.10.0)\n",
            "Requirement already satisfied: pyasn1<0.5.0,>=0.4.6 in /usr/local/lib/python3.7/dist-packages (from pyasn1-modules>=0.2.1->google-auth<3,>=1.6.3->tensorboard<2.10,>=2.9->tensorflow) (0.4.8)\n",
            "Requirement already satisfied: certifi>=2017.4.17 in /usr/local/lib/python3.7/dist-packages (from requests<3,>=2.21.0->tensorboard<2.10,>=2.9->tensorflow) (2022.9.24)\n",
            "Requirement already satisfied: idna<3,>=2.5 in /usr/local/lib/python3.7/dist-packages (from requests<3,>=2.21.0->tensorboard<2.10,>=2.9->tensorflow) (2.10)\n",
            "Requirement already satisfied: chardet<4,>=3.0.2 in /usr/local/lib/python3.7/dist-packages (from requests<3,>=2.21.0->tensorboard<2.10,>=2.9->tensorflow) (3.0.4)\n",
            "Requirement already satisfied: urllib3!=1.25.0,!=1.25.1,<1.26,>=1.21.1 in /usr/local/lib/python3.7/dist-packages (from requests<3,>=2.21.0->tensorboard<2.10,>=2.9->tensorflow) (1.24.3)\n",
            "Requirement already satisfied: oauthlib>=3.0.0 in /usr/local/lib/python3.7/dist-packages (from requests-oauthlib>=0.7.0->google-auth-oauthlib<0.5,>=0.4.1->tensorboard<2.10,>=2.9->tensorflow) (3.2.2)\n",
            "Requirement already satisfied: pyparsing!=3.0.5,>=2.0.2 in /usr/local/lib/python3.7/dist-packages (from packaging->tensorflow) (3.0.9)\n",
            "Looking in indexes: https://pypi.org/simple, https://us-python.pkg.dev/colab-wheels/public/simple/\n",
            "Requirement already satisfied: keras in /usr/local/lib/python3.7/dist-packages (2.9.0)\n"
          ]
        }
      ]
    },
    {
      "cell_type": "markdown",
      "source": [
        "Model Building"
      ],
      "metadata": {
        "id": "tPytk57i-n5Z"
      },
      "id": "tPytk57i-n5Z"
    },
    {
      "cell_type": "code",
      "source": [
        "from tensorflow.keras.models import Sequential\n",
        "from tensorflow.keras.layers import Dense\n",
        "from tensorflow.keras.layers import LSTM"
      ],
      "metadata": {
        "id": "0qFplyRN-Si0"
      },
      "id": "0qFplyRN-Si0",
      "execution_count": null,
      "outputs": []
    },
    {
      "cell_type": "code",
      "source": [
        "model= Sequential()"
      ],
      "metadata": {
        "id": "633zxaLR-g2q"
      },
      "id": "633zxaLR-g2q",
      "execution_count": null,
      "outputs": []
    },
    {
      "cell_type": "markdown",
      "source": [
        "Adding LSTM Layer"
      ],
      "metadata": {
        "id": "0PWUBuCP-40q"
      },
      "id": "0PWUBuCP-40q"
    },
    {
      "cell_type": "code",
      "source": [
        "model.add(LSTM(50,return_sequences=True,input_shape=(10,1)))\n",
        "model.add(LSTM(50,return_sequences=True))\n",
        "model.add(LSTM(50))"
      ],
      "metadata": {
        "id": "acLfYbV3-05s"
      },
      "id": "acLfYbV3-05s",
      "execution_count": null,
      "outputs": []
    },
    {
      "cell_type": "markdown",
      "source": [
        "Output Layer"
      ],
      "metadata": {
        "id": "S3VS_feQ_Cdh"
      },
      "id": "S3VS_feQ_Cdh"
    },
    {
      "cell_type": "code",
      "source": [
        "model.add(Dense(1))"
      ],
      "metadata": {
        "id": "nLXQAlWh_Afo"
      },
      "id": "nLXQAlWh_Afo",
      "execution_count": null,
      "outputs": []
    },
    {
      "cell_type": "code",
      "source": [
        "model.summary()"
      ],
      "metadata": {
        "colab": {
          "base_uri": "https://localhost:8080/"
        },
        "id": "EL65dDvG_I_N",
        "outputId": "8aefcd76-14be-47a7-89cc-15e2045e763d"
      },
      "id": "EL65dDvG_I_N",
      "execution_count": null,
      "outputs": [
        {
          "output_type": "stream",
          "name": "stdout",
          "text": [
            "Model: \"sequential\"\n",
            "_________________________________________________________________\n",
            " Layer (type)                Output Shape              Param #   \n",
            "=================================================================\n",
            " lstm (LSTM)                 (None, 10, 50)            10400     \n",
            "                                                                 \n",
            " lstm_1 (LSTM)               (None, 10, 50)            20200     \n",
            "                                                                 \n",
            " lstm_2 (LSTM)               (None, 50)                20200     \n",
            "                                                                 \n",
            " dense (Dense)               (None, 1)                 51        \n",
            "                                                                 \n",
            "=================================================================\n",
            "Total params: 50,851\n",
            "Trainable params: 50,851\n",
            "Non-trainable params: 0\n",
            "_________________________________________________________________\n"
          ]
        }
      ]
    },
    {
      "cell_type": "markdown",
      "source": [
        "Configure the Learning Process"
      ],
      "metadata": {
        "id": "zipcXZjt_XB1"
      },
      "id": "zipcXZjt_XB1"
    },
    {
      "cell_type": "code",
      "source": [
        "model.compile(loss='mean_squared_error',optimizer='adam')"
      ],
      "metadata": {
        "id": "3Q2PUbG1_QPZ"
      },
      "id": "3Q2PUbG1_QPZ",
      "execution_count": null,
      "outputs": []
    },
    {
      "cell_type": "markdown",
      "source": [
        "Train the Model"
      ],
      "metadata": {
        "id": "DT2-nV3V_hcO"
      },
      "id": "DT2-nV3V_hcO"
    },
    {
      "cell_type": "code",
      "source": [
        "model.fit(x_train,y_train,validation_data=(x_test,y_test),epochs=50,batch_size=64,verbose=1)"
      ],
      "metadata": {
        "colab": {
          "base_uri": "https://localhost:8080/"
        },
        "id": "UhFXSQWB_c__",
        "outputId": "d672323d-3388-49a7-e369-ac848b791567"
      },
      "id": "UhFXSQWB_c__",
      "execution_count": null,
      "outputs": [
        {
          "output_type": "stream",
          "name": "stdout",
          "text": [
            "Epoch 1/50\n",
            "84/84 [==============================] - 9s 40ms/step - loss: 0.0020 - val_loss: 8.2699e-04\n",
            "Epoch 2/50\n",
            "84/84 [==============================] - 2s 24ms/step - loss: 1.2548e-04 - val_loss: 7.7065e-04\n",
            "Epoch 3/50\n",
            "84/84 [==============================] - 2s 24ms/step - loss: 1.2288e-04 - val_loss: 7.8564e-04\n",
            "Epoch 4/50\n",
            "84/84 [==============================] - 2s 24ms/step - loss: 1.3105e-04 - val_loss: 8.5406e-04\n",
            "Epoch 5/50\n",
            "84/84 [==============================] - 2s 24ms/step - loss: 1.3607e-04 - val_loss: 8.5440e-04\n",
            "Epoch 6/50\n",
            "84/84 [==============================] - 2s 24ms/step - loss: 1.2241e-04 - val_loss: 8.0580e-04\n",
            "Epoch 7/50\n",
            "84/84 [==============================] - 2s 24ms/step - loss: 1.2112e-04 - val_loss: 7.7663e-04\n",
            "Epoch 8/50\n",
            "84/84 [==============================] - 2s 24ms/step - loss: 1.1859e-04 - val_loss: 7.4617e-04\n",
            "Epoch 9/50\n",
            "84/84 [==============================] - 2s 24ms/step - loss: 1.2778e-04 - val_loss: 7.6276e-04\n",
            "Epoch 10/50\n",
            "84/84 [==============================] - 2s 24ms/step - loss: 1.1289e-04 - val_loss: 6.9597e-04\n",
            "Epoch 11/50\n",
            "84/84 [==============================] - 2s 25ms/step - loss: 1.1438e-04 - val_loss: 6.9535e-04\n",
            "Epoch 12/50\n",
            "84/84 [==============================] - 2s 24ms/step - loss: 1.1396e-04 - val_loss: 8.8287e-04\n",
            "Epoch 13/50\n",
            "84/84 [==============================] - 2s 24ms/step - loss: 1.1210e-04 - val_loss: 6.9895e-04\n",
            "Epoch 14/50\n",
            "84/84 [==============================] - 2s 24ms/step - loss: 1.1391e-04 - val_loss: 6.0163e-04\n",
            "Epoch 15/50\n",
            "84/84 [==============================] - 2s 24ms/step - loss: 1.1321e-04 - val_loss: 6.0127e-04\n",
            "Epoch 16/50\n",
            "84/84 [==============================] - 2s 24ms/step - loss: 1.0718e-04 - val_loss: 5.3659e-04\n",
            "Epoch 17/50\n",
            "84/84 [==============================] - 2s 24ms/step - loss: 9.4917e-05 - val_loss: 5.4002e-04\n",
            "Epoch 18/50\n",
            "84/84 [==============================] - 2s 24ms/step - loss: 9.0812e-05 - val_loss: 0.0011\n",
            "Epoch 19/50\n",
            "84/84 [==============================] - 2s 24ms/step - loss: 1.0234e-04 - val_loss: 4.8625e-04\n",
            "Epoch 20/50\n",
            "84/84 [==============================] - 2s 24ms/step - loss: 8.7693e-05 - val_loss: 4.2550e-04\n",
            "Epoch 21/50\n",
            "84/84 [==============================] - 2s 24ms/step - loss: 8.1366e-05 - val_loss: 3.9851e-04\n",
            "Epoch 22/50\n",
            "84/84 [==============================] - 2s 25ms/step - loss: 8.6953e-05 - val_loss: 7.8807e-04\n",
            "Epoch 23/50\n",
            "84/84 [==============================] - 2s 24ms/step - loss: 8.5367e-05 - val_loss: 6.6177e-04\n",
            "Epoch 24/50\n",
            "84/84 [==============================] - 2s 25ms/step - loss: 7.3754e-05 - val_loss: 4.0066e-04\n",
            "Epoch 25/50\n",
            "84/84 [==============================] - 2s 24ms/step - loss: 7.2850e-05 - val_loss: 0.0013\n",
            "Epoch 26/50\n",
            "84/84 [==============================] - 2s 25ms/step - loss: 7.2017e-05 - val_loss: 8.9789e-04\n",
            "Epoch 27/50\n",
            "84/84 [==============================] - 2s 25ms/step - loss: 7.9936e-05 - val_loss: 4.2672e-04\n",
            "Epoch 28/50\n",
            "84/84 [==============================] - 2s 24ms/step - loss: 6.5826e-05 - val_loss: 3.9922e-04\n",
            "Epoch 29/50\n",
            "84/84 [==============================] - 2s 24ms/step - loss: 6.8504e-05 - val_loss: 3.5010e-04\n",
            "Epoch 30/50\n",
            "84/84 [==============================] - 2s 24ms/step - loss: 6.2318e-05 - val_loss: 2.5618e-04\n",
            "Epoch 31/50\n",
            "84/84 [==============================] - 2s 25ms/step - loss: 5.7542e-05 - val_loss: 7.3846e-04\n",
            "Epoch 32/50\n",
            "84/84 [==============================] - 2s 25ms/step - loss: 5.7156e-05 - val_loss: 2.5432e-04\n",
            "Epoch 33/50\n",
            "84/84 [==============================] - 2s 24ms/step - loss: 5.3942e-05 - val_loss: 5.9105e-04\n",
            "Epoch 34/50\n",
            "84/84 [==============================] - 2s 24ms/step - loss: 4.9896e-05 - val_loss: 2.0506e-04\n",
            "Epoch 35/50\n",
            "84/84 [==============================] - 2s 24ms/step - loss: 4.6796e-05 - val_loss: 4.3451e-04\n",
            "Epoch 36/50\n",
            "84/84 [==============================] - 2s 24ms/step - loss: 4.9779e-05 - val_loss: 2.8342e-04\n",
            "Epoch 37/50\n",
            "84/84 [==============================] - 2s 25ms/step - loss: 4.8219e-05 - val_loss: 1.8452e-04\n",
            "Epoch 38/50\n",
            "84/84 [==============================] - 2s 25ms/step - loss: 4.1711e-05 - val_loss: 1.8359e-04\n",
            "Epoch 39/50\n",
            "84/84 [==============================] - 2s 24ms/step - loss: 3.9718e-05 - val_loss: 2.0619e-04\n",
            "Epoch 40/50\n",
            "84/84 [==============================] - 2s 24ms/step - loss: 4.0566e-05 - val_loss: 2.3733e-04\n",
            "Epoch 41/50\n",
            "84/84 [==============================] - 2s 24ms/step - loss: 3.8208e-05 - val_loss: 2.0399e-04\n",
            "Epoch 42/50\n",
            "84/84 [==============================] - 2s 25ms/step - loss: 3.7560e-05 - val_loss: 2.1112e-04\n",
            "Epoch 43/50\n",
            "84/84 [==============================] - 2s 24ms/step - loss: 3.7675e-05 - val_loss: 1.7664e-04\n",
            "Epoch 44/50\n",
            "84/84 [==============================] - 2s 25ms/step - loss: 3.5197e-05 - val_loss: 2.9777e-04\n",
            "Epoch 45/50\n",
            "84/84 [==============================] - 2s 24ms/step - loss: 3.6231e-05 - val_loss: 2.7025e-04\n",
            "Epoch 46/50\n",
            "84/84 [==============================] - 2s 24ms/step - loss: 3.4968e-05 - val_loss: 1.7979e-04\n",
            "Epoch 47/50\n",
            "84/84 [==============================] - 2s 24ms/step - loss: 3.5599e-05 - val_loss: 2.7516e-04\n",
            "Epoch 48/50\n",
            "84/84 [==============================] - 2s 25ms/step - loss: 3.4231e-05 - val_loss: 1.7913e-04\n",
            "Epoch 49/50\n",
            "84/84 [==============================] - 2s 24ms/step - loss: 3.9347e-05 - val_loss: 1.7629e-04\n",
            "Epoch 50/50\n",
            "84/84 [==============================] - 2s 24ms/step - loss: 3.7037e-05 - val_loss: 2.3525e-04\n"
          ]
        },
        {
          "output_type": "execute_result",
          "data": {
            "text/plain": [
              "<keras.callbacks.History at 0x7f3138126690>"
            ]
          },
          "metadata": {},
          "execution_count": 51
        }
      ]
    },
    {
      "cell_type": "code",
      "source": [
        "##Transformback to original form\n",
        "train_predict=scaler.inverse_transform(train_data) \n",
        "test_predict=scaler.inverse_transform(test_data)\n",
        "### Calculate RMSE performance metrics\n",
        "import math \n",
        "from sklearn.metrics import mean_squared_error\n",
        "math.sqrt(mean_squared_error(train_data,train_predict))"
      ],
      "metadata": {
        "colab": {
          "base_uri": "https://localhost:8080/"
        },
        "id": "yap2MRKkA_CO",
        "outputId": "3c0c2fd8-21c2-4871-aa54-8df13c19c2c9"
      },
      "id": "yap2MRKkA_CO",
      "execution_count": null,
      "outputs": [
        {
          "output_type": "execute_result",
          "data": {
            "text/plain": [
              "29.347830443269938"
            ]
          },
          "metadata": {},
          "execution_count": 52
        }
      ]
    },
    {
      "cell_type": "markdown",
      "source": [
        "save the model"
      ],
      "metadata": {
        "id": "4HyaSnPSFN6Y"
      },
      "id": "4HyaSnPSFN6Y"
    },
    {
      "cell_type": "code",
      "source": [
        "from tensorflow.keras.models import load_model"
      ],
      "metadata": {
        "id": "UozPTf-f-0qt"
      },
      "id": "UozPTf-f-0qt",
      "execution_count": null,
      "outputs": []
    },
    {
      "cell_type": "code",
      "source": [
        "\n",
        "model.save(\"crude_oil.h5\")"
      ],
      "metadata": {
        "id": "wVArfgeeAd9A"
      },
      "id": "wVArfgeeAd9A",
      "execution_count": null,
      "outputs": []
    },
    {
      "cell_type": "markdown",
      "source": [
        "Test the Model"
      ],
      "metadata": {
        "id": "bXzr-y80OsJE"
      },
      "id": "bXzr-y80OsJE"
    },
    {
      "cell_type": "code",
      "source": [
        "##plotting\n",
        "##shift train predictions for plotting\n",
        "look_back=10\n",
        "trainPredictPlot = np.empty_like(data_oil)\n",
        "trainPredictPlot[:,:] = np.nan\n",
        "trainPredictPlot[look_back:len(train_predict)+look_back, :] = train_predict\n",
        "## shift test predictions for plotting\n",
        "testPredictplot = np.empty_like(data)\n",
        "testPredictplot[:,: ] = np.nan\n",
        "testPredictplot[look_back:len(test_predict)+look_back, :] = test_predict\n",
        "# plot baseline and predictions\n",
        "plt.plot(scaler.inverse_transform(data_oil))\n",
        "plt.plot(trainPredictPlot)\n",
        "plt.plot(testPredictplot)\n",
        "plt.show()"
      ],
      "metadata": {
        "id": "hAWsvOJXAstj",
        "colab": {
          "base_uri": "https://localhost:8080/",
          "height": 265
        },
        "outputId": "337ea640-4ad6-4b5e-bc91-ae5c008dd039"
      },
      "id": "hAWsvOJXAstj",
      "execution_count": null,
      "outputs": [
        {
          "output_type": "display_data",
          "data": {
            "text/plain": [
              "<Figure size 432x288 with 1 Axes>"
            ],
            "image/png": "[encoded data removed]"
          },
          "metadata": {
            "needs_background": "light"
          }
        }
      ]
    },
    {
      "cell_type": "code",
      "source": [
        "len(test_data)"
      ],
      "metadata": {
        "colab": {
          "base_uri": "https://localhost:8080/"
        },
        "id": "5uAELRKbSfIx",
        "outputId": "398781ad-0e50-407b-83bb-4d36e88fa97a"
      },
      "id": "5uAELRKbSfIx",
      "execution_count": null,
      "outputs": [
        {
          "output_type": "execute_result",
          "data": {
            "text/plain": [
              "2876"
            ]
          },
          "metadata": {},
          "execution_count": 56
        }
      ]
    },
    {
      "cell_type": "code",
      "source": [
        "x_input=test_data[2866:].reshape(1,-1)\n",
        "x_input.shape"
      ],
      "metadata": {
        "colab": {
          "base_uri": "https://localhost:8080/"
        },
        "id": "_fU6GIVLTJL-",
        "outputId": "cf89a671-e11d-4a24-e191-3560bb4f282b"
      },
      "id": "_fU6GIVLTJL-",
      "execution_count": null,
      "outputs": [
        {
          "output_type": "execute_result",
          "data": {
            "text/plain": [
              "(1, 10)"
            ]
          },
          "metadata": {},
          "execution_count": 57
        }
      ]
    },
    {
      "cell_type": "code",
      "source": [
        "temp_input=list(x_input) \n",
        "temp_input=temp_input[0].tolist()"
      ],
      "metadata": {
        "id": "Plx2ksmzTN6c"
      },
      "id": "Plx2ksmzTN6c",
      "execution_count": null,
      "outputs": []
    },
    {
      "cell_type": "code",
      "source": [
        "temp_input"
      ],
      "metadata": {
        "colab": {
          "base_uri": "https://localhost:8080/"
        },
        "id": "ofmrsaF6TREv",
        "outputId": "dfe3d33b-27a5-4cd2-f748-37bc5f69d6b0"
      },
      "id": "ofmrsaF6TREv",
      "execution_count": null,
      "outputs": [
        {
          "output_type": "execute_result",
          "data": {
            "text/plain": [
              "[0.44172960165852215,\n",
              " 0.48111950244335855,\n",
              " 0.49726047682511476,\n",
              " 0.4679401747371539,\n",
              " 0.4729749740855915,\n",
              " 0.47119798608026064,\n",
              " 0.47341922108692425,\n",
              " 0.4649785280616022,\n",
              " 0.4703835332444839,\n",
              " 0.47149415074781587]"
            ]
          },
          "metadata": {},
          "execution_count": 59
        }
      ]
    },
    {
      "cell_type": "code",
      "source": [
        "lst_output=[]\n",
        "n_steps=10\n",
        "i=0\n",
        "while(i<10):\n",
        "    if(len(temp_input)>10):\n",
        "#print(temp_input)\n",
        "       x_input=np.array(temp_input[1:]) \n",
        "       print(\"{} day input {}\".format(i,x_input))\n",
        "       x_input=x_input.reshape(1,-1)\n",
        "       x_input = x_input.reshape((1, n_steps, 1)) #print(x_input)\n",
        "       yhat = model.predict(x_input, verbose=0)\n",
        "       print(\"{} day output {}\".format(i,yhat))\n",
        "       temp_input.extend(yhat[0].tolist())\n",
        "       temp_input=temp_input[1:] #print(temp_input)\n",
        "       lst_output.extend(yhat.tolist())\n",
        "       i=i+1\n",
        "    else:\n",
        "       x_input = x_input.reshape((1, n_steps,1))\n",
        "       yhat = model.predict(x_input, verbose=0)\n",
        "       print(yhat[0])\n",
        "       temp_input.extend(yhat[0].tolist()) \n",
        "       print(len(temp_input))\n",
        "       lst_output.extend(yhat.tolist())\n",
        "       i=i+1"
      ],
      "metadata": {
        "colab": {
          "base_uri": "https://localhost:8080/"
        },
        "id": "b3nmDjx4TU-Z",
        "outputId": "3438f3bf-933b-430a-b4cc-9cbe2c9f21ac"
      },
      "id": "b3nmDjx4TU-Z",
      "execution_count": null,
      "outputs": [
        {
          "output_type": "stream",
          "name": "stdout",
          "text": [
            "[0.46699706]\n",
            "11\n",
            "1 day input [0.4811195  0.49726048 0.46794017 0.47297497 0.47119799 0.47341922\n",
            " 0.46497853 0.47038353 0.47149415 0.46699706]\n",
            "1 day output [[0.46219343]]\n",
            "2 day input [0.49726048 0.46794017 0.47297497 0.47119799 0.47341922 0.46497853\n",
            " 0.47038353 0.47149415 0.46699706 0.46219343]\n",
            "2 day output [[0.45658037]]\n",
            "3 day input [0.46794017 0.47297497 0.47119799 0.47341922 0.46497853 0.47038353\n",
            " 0.47149415 0.46699706 0.46219343 0.45658037]\n",
            "3 day output [[0.45064297]]\n",
            "4 day input [0.47297497 0.47119799 0.47341922 0.46497853 0.47038353 0.47149415\n",
            " 0.46699706 0.46219343 0.45658037 0.45064297]\n",
            "4 day output [[0.4451336]]\n",
            "5 day input [0.47119799 0.47341922 0.46497853 0.47038353 0.47149415 0.46699706\n",
            " 0.46219343 0.45658037 0.45064297 0.4451336 ]\n",
            "5 day output [[0.4401961]]\n",
            "6 day input [0.47341922 0.46497853 0.47038353 0.47149415 0.46699706 0.46219343\n",
            " 0.45658037 0.45064297 0.4451336  0.4401961 ]\n",
            "6 day output [[0.43590426]]\n",
            "7 day input [0.46497853 0.47038353 0.47149415 0.46699706 0.46219343 0.45658037\n",
            " 0.45064297 0.4451336  0.4401961  0.43590426]\n",
            "7 day output [[0.43213543]]\n",
            "8 day input [0.47038353 0.47149415 0.46699706 0.46219343 0.45658037 0.45064297\n",
            " 0.4451336  0.4401961  0.43590426 0.43213543]\n",
            "8 day output [[0.428812]]\n",
            "9 day input [0.47149415 0.46699706 0.46219343 0.45658037 0.45064297 0.4451336\n",
            " 0.4401961  0.43590426 0.43213543 0.428812  ]\n",
            "9 day output [[0.4256645]]\n"
          ]
        }
      ]
    },
    {
      "cell_type": "code",
      "source": [
        "day_new=np.arange(1,11) \n",
        "day_pred=np.arange(11,21)\n",
        "len(data)"
      ],
      "metadata": {
        "colab": {
          "base_uri": "https://localhost:8080/"
        },
        "id": "ggjXT9CwThzD",
        "outputId": "317a46f4-bf81-4640-8cc1-c1d295c9efac"
      },
      "id": "ggjXT9CwThzD",
      "execution_count": null,
      "outputs": [
        {
          "output_type": "execute_result",
          "data": {
            "text/plain": [
              "8216"
            ]
          },
          "metadata": {},
          "execution_count": 61
        }
      ]
    },
    {
      "cell_type": "code",
      "source": [
        "plt.plot(day_new, scaler.inverse_transform(data_oil[8206:])) \n",
        "plt.plot(day_pred, scaler.inverse_transform(lst_output))"
      ],
      "metadata": {
        "colab": {
          "base_uri": "https://localhost:8080/",
          "height": 282
        },
        "id": "9QVaDXyWT7eO",
        "outputId": "9c7fc8d5-ac6a-4f9a-f1d0-2afa085ce59d"
      },
      "id": "9QVaDXyWT7eO",
      "execution_count": null,
      "outputs": [
        {
          "output_type": "execute_result",
          "data": {
            "text/plain": [
              "[<matplotlib.lines.Line2D at 0x7f3137eae850>]"
            ]
          },
          "metadata": {},
          "execution_count": 62
        },
        {
          "output_type": "display_data",
          "data": {
            "text/plain": [
              "<Figure size 432x288 with 1 Axes>"
            ],
            "image/png": "[encoded data removed]"
          },
          "metadata": {
            "needs_background": "light"
          }
        }
      ]
    },
    {
      "cell_type": "code",
      "source": [
        "df3=data_oil.tolist() \n",
        "df3.extend(lst_output) \n",
        "plt.plot(df3[8100:])"
      ],
      "metadata": {
        "colab": {
          "base_uri": "https://localhost:8080/",
          "height": 282
        },
        "id": "LQGknnoqVJ3E",
        "outputId": "1ed737dc-05dd-4f5c-d5fa-1940b7733eb4"
      },
      "id": "LQGknnoqVJ3E",
      "execution_count": null,
      "outputs": [
        {
          "output_type": "execute_result",
          "data": {
            "text/plain": [
              "[<matplotlib.lines.Line2D at 0x7f3137a76e90>]"
            ]
          },
          "metadata": {},
          "execution_count": 63
        },
        {
          "output_type": "display_data",
          "data": {
            "text/plain": [
              "<Figure size 432x288 with 1 Axes>"
            ],
            "image/png": "[encoded data removed]"
          },
          "metadata": {
            "needs_background": "light"
          }
        }
      ]
    },
    {
      "cell_type": "code",
      "source": [
        "df3=scaler.inverse_transform(df3).tolist()\n",
        "plt.plot(scaler.inverse_transform(data_oil))"
      ],
      "metadata": {
        "colab": {
          "base_uri": "https://localhost:8080/",
          "height": 282
        },
        "id": "XoQ0m05QWfsx",
        "outputId": "79a624e4-069d-4ec1-eb30-fe5834c693d6"
      },
      "id": "XoQ0m05QWfsx",
      "execution_count": null,
      "outputs": [
        {
          "output_type": "execute_result",
          "data": {
            "text/plain": [
              "[<matplotlib.lines.Line2D at 0x7f313795fdd0>]"
            ]
          },
          "metadata": {},
          "execution_count": 64
        },
        {
          "output_type": "display_data",
          "data": {
            "text/plain": [
              "<Figure size 432x288 with 1 Axes>"
            ],
            "image/png": "[encoded data removed]"
          },
          "metadata": {
            "needs_background": "light"
          }
        }
      ]
    },
    {
      "cell_type": "markdown",
      "source": [
        "import libraries"
      ],
      "metadata": {
        "id": "pCHJBm04tPDd"
      },
      "id": "pCHJBm04tPDd"
    },
    {
      "cell_type": "code",
      "source": [
        "! env/bin/activate"
      ],
      "metadata": {
        "colab": {
          "base_uri": "https://localhost:8080/"
        },
        "id": "DwSMt8Otzsn6",
        "outputId": "bafc0259-5fea-4c40-d7b5-df901bff26bd"
      },
      "id": "DwSMt8Otzsn6",
      "execution_count": null,
      "outputs": [
        {
          "output_type": "stream",
          "name": "stdout",
          "text": [
            "/bin/bash: env/bin/activate: No such file or directory\n"
          ]
        }
      ]
    },
    {
      "cell_type": "code",
      "source": [
        "!pip install flask.app"
      ],
      "metadata": {
        "colab": {
          "base_uri": "https://localhost:8080/"
        },
        "id": "sbs-omMfz8T7",
        "outputId": "921e7746-166a-4102-f0d7-4bfbbb2c7c7d"
      },
      "id": "sbs-omMfz8T7",
      "execution_count": null,
      "outputs": [
        {
          "output_type": "stream",
          "name": "stdout",
          "text": [
            "Looking in indexes: https://pypi.org/simple, https://us-python.pkg.dev/colab-wheels/public/simple/\n",
            "Collecting flask.app\n",
            "  Downloading flask_app-1.0.1-py3-none-any.whl (11 kB)\n",
            "Collecting Flask==1.0.3\n",
            "  Downloading Flask-1.0.3-py2.py3-none-any.whl (92 kB)\n",
            "\u001b[K     |████████████████████████████████| 92 kB 5.4 MB/s \n",
            "\u001b[?25hCollecting twine==1.13.0\n",
            "  Downloading twine-1.13.0-py2.py3-none-any.whl (34 kB)\n",
            "Collecting psycopg2-binary==2.8.3\n",
            "  Downloading psycopg2_binary-2.8.3-cp37-cp37m-manylinux1_x86_64.whl (2.9 MB)\n",
            "\u001b[K     |████████████████████████████████| 2.9 MB 61.7 MB/s \n",
            "\u001b[?25hCollecting Flask-SQLAlchemy==2.4.0\n",
            "  Downloading Flask_SQLAlchemy-2.4.0-py2.py3-none-any.whl (17 kB)\n",
            "Collecting Flask-Testing==0.7.1\n",
            "  Downloading Flask-Testing-0.7.1.tar.gz (43 kB)\n",
            "\u001b[K     |████████████████████████████████| 43 kB 2.0 MB/s \n",
            "\u001b[?25hCollecting python-dotenv==0.10.3\n",
            "  Downloading python_dotenv-0.10.3-py2.py3-none-any.whl (16 kB)\n",
            "Collecting Flask-Migrate==2.5.2\n",
            "  Downloading Flask_Migrate-2.5.2-py2.py3-none-any.whl (13 kB)\n",
            "Requirement already satisfied: click>=5.1 in /usr/local/lib/python3.7/dist-packages (from Flask==1.0.3->flask.app) (7.1.2)\n",
            "Requirement already satisfied: itsdangerous>=0.24 in /usr/local/lib/python3.7/dist-packages (from Flask==1.0.3->flask.app) (1.1.0)\n",
            "Requirement already satisfied: Werkzeug>=0.14 in /usr/local/lib/python3.7/dist-packages (from Flask==1.0.3->flask.app) (1.0.1)\n",
            "Requirement already satisfied: Jinja2>=2.10 in /usr/local/lib/python3.7/dist-packages (from Flask==1.0.3->flask.app) (2.11.3)\n",
            "Collecting alembic>=0.7\n",
            "  Downloading alembic-1.8.1-py3-none-any.whl (209 kB)\n",
            "\u001b[K     |████████████████████████████████| 209 kB 53.8 MB/s \n",
            "\u001b[?25hRequirement already satisfied: SQLAlchemy>=0.8.0 in /usr/local/lib/python3.7/dist-packages (from Flask-SQLAlchemy==2.4.0->flask.app) (1.4.43)\n",
            "Requirement already satisfied: tqdm>=4.14 in /usr/local/lib/python3.7/dist-packages (from twine==1.13.0->flask.app) (4.64.1)\n",
            "Requirement already satisfied: setuptools>=0.7.0 in /usr/local/lib/python3.7/dist-packages (from twine==1.13.0->flask.app) (57.4.0)\n",
            "Requirement already satisfied: requests!=2.15,!=2.16,>=2.5.0 in /usr/local/lib/python3.7/dist-packages (from twine==1.13.0->flask.app) (2.23.0)\n",
            "Collecting pkginfo>=1.4.2\n",
            "  Downloading pkginfo-1.8.3-py2.py3-none-any.whl (26 kB)\n",
            "Collecting requests-toolbelt!=0.9.0,>=0.8.0\n",
            "  Downloading requests_toolbelt-0.10.1-py2.py3-none-any.whl (54 kB)\n",
            "\u001b[K     |████████████████████████████████| 54 kB 2.9 MB/s \n",
            "\u001b[?25hCollecting readme-renderer>=21.0\n",
            "  Downloading readme_renderer-37.3-py3-none-any.whl (14 kB)\n",
            "Collecting Mako\n",
            "  Downloading Mako-1.2.3-py3-none-any.whl (78 kB)\n",
            "\u001b[K     |████████████████████████████████| 78 kB 6.5 MB/s \n",
            "\u001b[?25hRequirement already satisfied: importlib-metadata in /usr/local/lib/python3.7/dist-packages (from alembic>=0.7->Flask-Migrate==2.5.2->flask.app) (4.13.0)\n",
            "Requirement already satisfied: importlib-resources in /usr/local/lib/python3.7/dist-packages (from alembic>=0.7->Flask-Migrate==2.5.2->flask.app) (5.10.0)\n",
            "Requirement already satisfied: MarkupSafe>=0.23 in /usr/local/lib/python3.7/dist-packages (from Jinja2>=2.10->Flask==1.0.3->flask.app) (2.0.1)\n",
            "Requirement already satisfied: Pygments>=2.5.1 in /usr/local/lib/python3.7/dist-packages (from readme-renderer>=21.0->twine==1.13.0->flask.app) (2.6.1)\n",
            "Requirement already satisfied: bleach>=2.1.0 in /usr/local/lib/python3.7/dist-packages (from readme-renderer>=21.0->twine==1.13.0->flask.app) (5.0.1)\n",
            "Requirement already satisfied: docutils>=0.13.1 in /usr/local/lib/python3.7/dist-packages (from readme-renderer>=21.0->twine==1.13.0->flask.app) (0.17.1)\n",
            "Requirement already satisfied: six>=1.9.0 in /usr/local/lib/python3.7/dist-packages (from bleach>=2.1.0->readme-renderer>=21.0->twine==1.13.0->flask.app) (1.15.0)\n",
            "Requirement already satisfied: webencodings in /usr/local/lib/python3.7/dist-packages (from bleach>=2.1.0->readme-renderer>=21.0->twine==1.13.0->flask.app) (0.5.1)\n",
            "Requirement already satisfied: urllib3!=1.25.0,!=1.25.1,<1.26,>=1.21.1 in /usr/local/lib/python3.7/dist-packages (from requests!=2.15,!=2.16,>=2.5.0->twine==1.13.0->flask.app) (1.24.3)\n",
            "Requirement already satisfied: chardet<4,>=3.0.2 in /usr/local/lib/python3.7/dist-packages (from requests!=2.15,!=2.16,>=2.5.0->twine==1.13.0->flask.app) (3.0.4)\n",
            "Requirement already satisfied: certifi>=2017.4.17 in /usr/local/lib/python3.7/dist-packages (from requests!=2.15,!=2.16,>=2.5.0->twine==1.13.0->flask.app) (2022.9.24)\n",
            "Requirement already satisfied: idna<3,>=2.5 in /usr/local/lib/python3.7/dist-packages (from requests!=2.15,!=2.16,>=2.5.0->twine==1.13.0->flask.app) (2.10)\n",
            "Requirement already satisfied: greenlet!=0.4.17 in /usr/local/lib/python3.7/dist-packages (from SQLAlchemy>=0.8.0->Flask-SQLAlchemy==2.4.0->flask.app) (2.0.1)\n",
            "Requirement already satisfied: zipp>=0.5 in /usr/local/lib/python3.7/dist-packages (from importlib-metadata->alembic>=0.7->Flask-Migrate==2.5.2->flask.app) (3.10.0)\n",
            "Requirement already satisfied: typing-extensions>=3.6.4 in /usr/local/lib/python3.7/dist-packages (from importlib-metadata->alembic>=0.7->Flask-Migrate==2.5.2->flask.app) (4.1.1)\n",
            "Building wheels for collected packages: Flask-Testing\n",
            "  Building wheel for Flask-Testing (setup.py) ... \u001b[?25l\u001b[?25hdone\n",
            "  Created wheel for Flask-Testing: filename=Flask_Testing-0.7.1-py3-none-any.whl size=8180 sha256=f280845147878d5f9b6ebd724fb0dcf7a7e38a9a2f04bf4b5838f14003577730\n",
            "  Stored in directory: /root/.cache/pip/wheels/fc/39/b4/9080ae08cb7d974d07c9c3cab042d374366916fee7d038ef9a\n",
            "Successfully built Flask-Testing\n",
            "Installing collected packages: Mako, Flask, requests-toolbelt, readme-renderer, pkginfo, Flask-SQLAlchemy, alembic, twine, python-dotenv, psycopg2-binary, Flask-Testing, Flask-Migrate, flask.app\n",
            "  Attempting uninstall: Flask\n",
            "    Found existing installation: Flask 1.1.4\n",
            "    Uninstalling Flask-1.1.4:\n",
            "      Successfully uninstalled Flask-1.1.4\n",
            "Successfully installed Flask-1.0.3 Flask-Migrate-2.5.2 Flask-SQLAlchemy-2.4.0 Flask-Testing-0.7.1 Mako-1.2.3 alembic-1.8.1 flask.app-1.0.1 pkginfo-1.8.3 psycopg2-binary-2.8.3 python-dotenv-0.10.3 readme-renderer-37.3 requests-toolbelt-0.10.1 twine-1.13.0\n"
          ]
        }
      ]
    },
    {
      "cell_type": "code",
      "source": [
        "! app.py"
      ],
      "metadata": {
        "colab": {
          "base_uri": "https://localhost:8080/"
        },
        "id": "oZd13ZTfzRKS",
        "outputId": "80bf06a8-12f4-41f9-f1d5-84116f310c4e"
      },
      "id": "oZd13ZTfzRKS",
      "execution_count": null,
      "outputs": [
        {
          "output_type": "stream",
          "name": "stdout",
          "text": [
            "/bin/bash: app.py: command not found\n"
          ]
        }
      ]
    },
    {
      "cell_type": "code",
      "source": [
        "!import FLASK_APP=app"
      ],
      "metadata": {
        "id": "z2lARmfnyl9l",
        "colab": {
          "base_uri": "https://localhost:8080/"
        },
        "outputId": "69eab99f-669a-4d65-b3c5-6c8d2d259c61"
      },
      "id": "z2lARmfnyl9l",
      "execution_count": null,
      "outputs": [
        {
          "output_type": "stream",
          "name": "stdout",
          "text": [
            "/bin/bash: import: command not found\n"
          ]
        }
      ]
    },
    {
      "cell_type": "code",
      "source": [
        "!export FLASK_ENV=development"
      ],
      "metadata": {
        "id": "RvqG9YIZyvae"
      },
      "id": "RvqG9YIZyvae",
      "execution_count": null,
      "outputs": []
    },
    {
      "cell_type": "code",
      "source": [
        "!flask run"
      ],
      "metadata": {
        "colab": {
          "base_uri": "https://localhost:8080/"
        },
        "id": "fKAWit0iyvqb",
        "outputId": "28102d64-4457-4a1a-ff48-5fa2f76bafcf"
      },
      "id": "fKAWit0iyvqb",
      "execution_count": null,
      "outputs": [
        {
          "output_type": "stream",
          "name": "stdout",
          "text": [
            " * Environment: production\n",
            "\u001b[31m   WARNING: This is a development server. Do not use it in a production deployment.\u001b[0m\n",
            "\u001b[2m   Use a production WSGI server instead.\u001b[0m\n",
            " * Debug mode: off\n",
            "Usage: flask run [OPTIONS]\n",
            "\n",
            "Error: Could not locate a Flask application. You did not provide the \"FLASK_APP\" environment variable, and a \"wsgi.py\" or \"app.py\" module was not found in the current directory.\n"
          ]
        }
      ]
    },
    {
      "cell_type": "code",
      "source": [
        "import numpy as np\n",
        "from flask import Flask,render_template,request #flask is a application\n",
        "#uesd to run/serve our application\n",
        "#request is used to access the files which is uploaded by the user in\n",
        "#our application \n",
        "#render_template is used for rendering the html pages\n",
        "from tensorflow.keras.models import load_model"
      ],
      "metadata": {
        "id": "EquxiCjP5mfo"
      },
      "id": "EquxiCjP5mfo",
      "execution_count": null,
      "outputs": []
    },
    {
      "cell_type": "code",
      "source": [
        "app = Flask(__name__)#our flask app\n",
        "model = load_model('crude_oil.h5',)#loading the model in the flask app\n",
        " \n",
        "@app.route('/')\n",
        "def home() :\n",
        "  return render_template(\"index.html\")\n",
        "@app.route('/about')\n",
        "def home1() :\n",
        "  return render_template(\"index.html\")\n",
        "@app.route('/predict')\n",
        "def home2() :\n",
        "  return render_template(\"web.html\")"
      ],
      "metadata": {
        "id": "oWr-TQ2JqNQK"
      },
      "id": "oWr-TQ2JqNQK",
      "execution_count": null,
      "outputs": []
    },
    {
      "cell_type": "code",
      "source": [
        "@app.route('/login',methods =['POST'])\n",
        "def login() :\n",
        "  x_input=str(request.form['year'])\n",
        "  x_input=x_input.split(',')\n",
        "  print(x_input)\n",
        "  for i in range(0, len(x_input)):\n",
        "     x_input[i] = float(x_input[i])\n",
        "  print(x_input)\n",
        "  x_input=np.array(x_input).reshape(1,-1)\n",
        "  temp_input=list(x_input)\n",
        "  temp_input=temp_input[0].tolist()\n",
        "  lst_output=[]\n",
        "  n_steps=10\n",
        "  i=0"
      ],
      "metadata": {
        "id": "rNCu0wTrqHZ2"
      },
      "id": "rNCu0wTrqHZ2",
      "execution_count": null,
      "outputs": []
    },
    {
      "cell_type": "code",
      "source": [
        "  while(i<1):\n",
        "    if(len(temp_input)>10):\n",
        "      #print(\"temp_input\",temp_input)\n",
        "      x_input=np.array(temp_input[1:])\n",
        "      print(\"{} day input {}\".format(i,x_input))\n",
        "      x_input=x_input.reshape(1,-1)\n",
        "      x_input = x_input.reshape((1,n_steps, 1))\n",
        "      #print(x_input)\n",
        "      yhat =model.predict(x_input, verbose=0)\n",
        "      print(\"{} day output {}\".format(i,yhat))\n",
        "      temp_input.extend(yhat[0].tolist())\n",
        "      temp_input=temp_input[1:]\n",
        "      #print(temp_input)\n",
        "      lst_output.extend(yhat.tolist())\n",
        "      i=i+1\n",
        "  else:\n",
        "      x_input =  (x_input.reshape(1, n_steps,1))\n",
        "      yhat = model.predict( x_input, verbose=0)\n",
        "      print(yhat[0])\n",
        "      temp_input.extend(yhat[0].tolist())\n",
        "      print(len(temp_input))\n",
        "      lst_output.extend(yhat.tolist())\n",
        "      i=i+1\n",
        "\n",
        "  print(lst_output)\n",
        "\n",
        "  return render_template(\"web.html\",showcase = 'The next day predicted value is:'+str(lst_output))\n",
        "  #print str(x)\n",
        "if __name__ == '__main__' :\n",
        "\n",
        "  app.run(debug=True,port=5000)\n",
        "      "
      ],
      "metadata": {
        "colab": {
          "base_uri": "https://localhost:8080/",
          "height": 130
        },
        "id": "vVUmmHS4toMq",
        "outputId": "59898f3f-ce0b-4c03-800f-3b750423de02"
      },
      "id": "vVUmmHS4toMq",
      "execution_count": null,
      "outputs": [
        {
          "output_type": "error",
          "ename": "IndentationError",
          "evalue": "ignored",
          "traceback": [
            "\u001b[0;36m  File \u001b[0;32m\"<ipython-input-75-87193710dadd>\"\u001b[0;36m, line \u001b[0;32m31\u001b[0m\n\u001b[0;31m    app.run(debug=True,port=5000)\u001b[0m\n\u001b[0m      ^\u001b[0m\n\u001b[0;31mIndentationError\u001b[0m\u001b[0;31m:\u001b[0m expected an indented block\n"
          ]
        }
      ]
    },
    {
      "cell_type": "code",
      "source": [],
      "metadata": {
        "id": "77IaJNLuxk-1"
      },
      "id": "77IaJNLuxk-1",
      "execution_count": null,
      "outputs": []
    }
  ],
  "metadata": {
    "kernelspec": {
      "display_name": "Python 3 (ipykernel)",
      "language": "python",
      "name": "python3"
    },
    "language_info": {
      "codemirror_mode": {
        "name": "ipython",
        "version": 3
      },
      "file_extension": ".py",
      "mimetype": "text/x-python",
      "name": "python",
      "nbconvert_exporter": "python",
      "pygments_lexer": "ipython3",
      "version": "3.9.12"
    },
    "colab": {
      "provenance": []
    }
  },
  "nbformat": 4,
  "nbformat_minor": 5
}