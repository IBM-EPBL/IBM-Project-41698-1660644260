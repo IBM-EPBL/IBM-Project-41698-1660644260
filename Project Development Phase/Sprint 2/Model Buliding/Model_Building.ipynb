{
  "cells": [
    {
      "cell_type": "markdown",
      "id": "a4984316",
      "metadata": {
        "id": "a4984316"
      },
      "source": [
        "# Data preprocessing"
      ]
    },
    {
      "cell_type": "raw",
      "id": "b6025a91",
      "metadata": {
        "id": "b6025a91"
      },
      "source": [
        "collect the dataset\n",
        "import the crucial libraries\n",
        "handle the missing values\n",
        "handle the categorical values\n",
        "split the data into train & test\n",
        "feature scalling"
      ]
    },
    {
      "cell_type": "markdown",
      "id": "004df9ed",
      "metadata": {
        "id": "004df9ed"
      },
      "source": [
        "# import the libraries"
      ]
    },
    {
      "cell_type": "code",
      "execution_count": null,
      "id": "14e9134d",
      "metadata": {
        "id": "14e9134d"
      },
      "outputs": [],
      "source": [
        "import pandas as pd\n",
        "import numpy as np\n",
        "import matplotlib.pyplot as plt\n",
        "import os"
      ]
    },
    {
      "cell_type": "code",
      "execution_count": null,
      "id": "96d219a3",
      "metadata": {
        "colab": {
          "base_uri": "https://localhost:8080/",
          "height": 35
        },
        "id": "96d219a3",
        "outputId": "c01f14e1-cb5f-4cd6-832a-7234183e100f"
      },
      "outputs": [
        {
          "output_type": "execute_result",
          "data": {
            "text/plain": [
              "'/content'"
            ],
            "application/vnd.google.colaboratory.intrinsic+json": {
              "type": "string"
            }
          },
          "metadata": {},
          "execution_count": 4
        }
      ],
      "source": [
        "pwd"
      ]
    },
    {
      "cell_type": "code",
      "source": [
        "from google.colab import drive\n",
        "drive.mount('/content/drive')"
      ],
      "metadata": {
        "colab": {
          "base_uri": "https://localhost:8080/"
        },
        "id": "DRgsc5a_8U7I",
        "outputId": "7760e842-f296-473e-b2a4-116e0f335f11"
      },
      "id": "DRgsc5a_8U7I",
      "execution_count": null,
      "outputs": [
        {
          "output_type": "stream",
          "name": "stdout",
          "text": [
            "Mounted at /content/drive\n"
          ]
        }
      ]
    },
    {
      "cell_type": "code",
      "execution_count": null,
      "id": "904ca910",
      "metadata": {
        "id": "904ca910"
      },
      "outputs": [],
      "source": [
        "data = pd.read_excel('/content/Crude Oil Prices Daily.xlsx')"
      ]
    },
    {
      "cell_type": "code",
      "execution_count": null,
      "id": "9161e7f1",
      "metadata": {
        "id": "9161e7f1",
        "outputId": "e6ed022a-01dc-4e09-b99e-467d6bfd0656",
        "colab": {
          "base_uri": "https://localhost:8080/",
          "height": 677
        }
      },
      "outputs": [
        {
          "output_type": "execute_result",
          "data": {
            "text/plain": [
              "         Date  Closing Value\n",
              "0  1986-01-02          25.56\n",
              "1  1986-01-03          26.00\n",
              "2  1986-01-06          26.53\n",
              "3  1986-01-07          25.85\n",
              "4  1986-01-08          25.87\n",
              "5  1986-01-09          26.03\n",
              "6  1986-01-10          25.65\n",
              "7  1986-01-13          25.08\n",
              "8  1986-01-14          24.97\n",
              "9  1986-01-15          25.18\n",
              "10 1986-01-16          23.98\n",
              "11 1986-01-17          23.63\n",
              "12 1986-01-20          21.33\n",
              "13 1986-01-21          20.61\n",
              "14 1986-01-22          20.25\n",
              "15 1986-01-23          19.93\n",
              "16 1986-01-24          19.45\n",
              "17 1986-01-27          20.87\n",
              "18 1986-01-28          19.45\n",
              "19 1986-01-29          19.61"
            ],
            "text/html": [
              "\n",
              "  <div id=\"df-49534cdc-474a-4089-b677-7283c26da956\">\n",
              "    <div class=\"colab-df-container\">\n",
              "      <div>\n",
              "<style scoped>\n",
              "    .dataframe tbody tr th:only-of-type {\n",
              "        vertical-align: middle;\n",
              "    }\n",
              "\n",
              "    .dataframe tbody tr th {\n",
              "        vertical-align: top;\n",
              "    }\n",
              "\n",
              "    .dataframe thead th {\n",
              "        text-align: right;\n",
              "    }\n",
              "</style>\n",
              "<table border=\"1\" class=\"dataframe\">\n",
              "  <thead>\n",
              "    <tr style=\"text-align: right;\">\n",
              "      <th></th>\n",
              "      <th>Date</th>\n",
              "      <th>Closing Value</th>\n",
              "    </tr>\n",
              "  </thead>\n",
              "  <tbody>\n",
              "    <tr>\n",
              "      <th>0</th>\n",
              "      <td>1986-01-02</td>\n",
              "      <td>25.56</td>\n",
              "    </tr>\n",
              "    <tr>\n",
              "      <th>1</th>\n",
              "      <td>1986-01-03</td>\n",
              "      <td>26.00</td>\n",
              "    </tr>\n",
              "    <tr>\n",
              "      <th>2</th>\n",
              "      <td>1986-01-06</td>\n",
              "      <td>26.53</td>\n",
              "    </tr>\n",
              "    <tr>\n",
              "      <th>3</th>\n",
              "      <td>1986-01-07</td>\n",
              "      <td>25.85</td>\n",
              "    </tr>\n",
              "    <tr>\n",
              "      <th>4</th>\n",
              "      <td>1986-01-08</td>\n",
              "      <td>25.87</td>\n",
              "    </tr>\n",
              "    <tr>\n",
              "      <th>5</th>\n",
              "      <td>1986-01-09</td>\n",
              "      <td>26.03</td>\n",
              "    </tr>\n",
              "    <tr>\n",
              "      <th>6</th>\n",
              "      <td>1986-01-10</td>\n",
              "      <td>25.65</td>\n",
              "    </tr>\n",
              "    <tr>\n",
              "      <th>7</th>\n",
              "      <td>1986-01-13</td>\n",
              "      <td>25.08</td>\n",
              "    </tr>\n",
              "    <tr>\n",
              "      <th>8</th>\n",
              "      <td>1986-01-14</td>\n",
              "      <td>24.97</td>\n",
              "    </tr>\n",
              "    <tr>\n",
              "      <th>9</th>\n",
              "      <td>1986-01-15</td>\n",
              "      <td>25.18</td>\n",
              "    </tr>\n",
              "    <tr>\n",
              "      <th>10</th>\n",
              "      <td>1986-01-16</td>\n",
              "      <td>23.98</td>\n",
              "    </tr>\n",
              "    <tr>\n",
              "      <th>11</th>\n",
              "      <td>1986-01-17</td>\n",
              "      <td>23.63</td>\n",
              "    </tr>\n",
              "    <tr>\n",
              "      <th>12</th>\n",
              "      <td>1986-01-20</td>\n",
              "      <td>21.33</td>\n",
              "    </tr>\n",
              "    <tr>\n",
              "      <th>13</th>\n",
              "      <td>1986-01-21</td>\n",
              "      <td>20.61</td>\n",
              "    </tr>\n",
              "    <tr>\n",
              "      <th>14</th>\n",
              "      <td>1986-01-22</td>\n",
              "      <td>20.25</td>\n",
              "    </tr>\n",
              "    <tr>\n",
              "      <th>15</th>\n",
              "      <td>1986-01-23</td>\n",
              "      <td>19.93</td>\n",
              "    </tr>\n",
              "    <tr>\n",
              "      <th>16</th>\n",
              "      <td>1986-01-24</td>\n",
              "      <td>19.45</td>\n",
              "    </tr>\n",
              "    <tr>\n",
              "      <th>17</th>\n",
              "      <td>1986-01-27</td>\n",
              "      <td>20.87</td>\n",
              "    </tr>\n",
              "    <tr>\n",
              "      <th>18</th>\n",
              "      <td>1986-01-28</td>\n",
              "      <td>19.45</td>\n",
              "    </tr>\n",
              "    <tr>\n",
              "      <th>19</th>\n",
              "      <td>1986-01-29</td>\n",
              "      <td>19.61</td>\n",
              "    </tr>\n",
              "  </tbody>\n",
              "</table>\n",
              "</div>\n",
              "      <button class=\"colab-df-convert\" onclick=\"convertToInteractive('df-49534cdc-474a-4089-b677-7283c26da956')\"\n",
              "              title=\"Convert this dataframe to an interactive table.\"\n",
              "              style=\"display:none;\">\n",
              "        \n",
              "  <svg xmlns=\"http://www.w3.org/2000/svg\" height=\"24px\"viewBox=\"0 0 24 24\"\n",
              "       width=\"24px\">\n",
              "    <path d=\"M0 0h24v24H0V0z\" fill=\"none\"/>\n",
              "    <path d=\"M18.56 5.44l.94 2.06.94-2.06 2.06-.94-2.06-.94-.94-2.06-.94 2.06-2.06.94zm-11 1L8.5 8.5l.94-2.06 2.06-.94-2.06-.94L8.5 2.5l-.94 2.06-2.06.94zm10 10l.94 2.06.94-2.06 2.06-.94-2.06-.94-.94-2.06-.94 2.06-2.06.94z\"/><path d=\"M17.41 7.96l-1.37-1.37c-.4-.4-.92-.59-1.43-.59-.52 0-1.04.2-1.43.59L10.3 9.45l-7.72 7.72c-.78.78-.78 2.05 0 2.83L4 21.41c.39.39.9.59 1.41.59.51 0 1.02-.2 1.41-.59l7.78-7.78 2.81-2.81c.8-.78.8-2.07 0-2.86zM5.41 20L4 18.59l7.72-7.72 1.47 1.35L5.41 20z\"/>\n",
              "  </svg>\n",
              "      </button>\n",
              "      \n",
              "  <style>\n",
              "    .colab-df-container {\n",
              "      display:flex;\n",
              "      flex-wrap:wrap;\n",
              "      gap: 12px;\n",
              "    }\n",
              "\n",
              "    .colab-df-convert {\n",
              "      background-color: #E8F0FE;\n",
              "      border: none;\n",
              "      border-radius: 50%;\n",
              "      cursor: pointer;\n",
              "      display: none;\n",
              "      fill: #1967D2;\n",
              "      height: 32px;\n",
              "      padding: 0 0 0 0;\n",
              "      width: 32px;\n",
              "    }\n",
              "\n",
              "    .colab-df-convert:hover {\n",
              "      background-color: #E2EBFA;\n",
              "      box-shadow: 0px 1px 2px rgba(60, 64, 67, 0.3), 0px 1px 3px 1px rgba(60, 64, 67, 0.15);\n",
              "      fill: #174EA6;\n",
              "    }\n",
              "\n",
              "    [theme=dark] .colab-df-convert {\n",
              "      background-color: #3B4455;\n",
              "      fill: #D2E3FC;\n",
              "    }\n",
              "\n",
              "    [theme=dark] .colab-df-convert:hover {\n",
              "      background-color: #434B5C;\n",
              "      box-shadow: 0px 1px 3px 1px rgba(0, 0, 0, 0.15);\n",
              "      filter: drop-shadow(0px 1px 2px rgba(0, 0, 0, 0.3));\n",
              "      fill: #FFFFFF;\n",
              "    }\n",
              "  </style>\n",
              "\n",
              "      <script>\n",
              "        const buttonEl =\n",
              "          document.querySelector('#df-49534cdc-474a-4089-b677-7283c26da956 button.colab-df-convert');\n",
              "        buttonEl.style.display =\n",
              "          google.colab.kernel.accessAllowed ? 'block' : 'none';\n",
              "\n",
              "        async function convertToInteractive(key) {\n",
              "          const element = document.querySelector('#df-49534cdc-474a-4089-b677-7283c26da956');\n",
              "          const dataTable =\n",
              "            await google.colab.kernel.invokeFunction('convertToInteractive',\n",
              "                                                     [key], {});\n",
              "          if (!dataTable) return;\n",
              "\n",
              "          const docLinkHtml = 'Like what you see? Visit the ' +\n",
              "            '<a target=\"_blank\" href=https://colab.research.google.com/notebooks/data_table.ipynb>data table notebook</a>'\n",
              "            + ' to learn more about interactive tables.';\n",
              "          element.innerHTML = '';\n",
              "          dataTable['output_type'] = 'display_data';\n",
              "          await google.colab.output.renderOutput(dataTable, element);\n",
              "          const docLink = document.createElement('div');\n",
              "          docLink.innerHTML = docLinkHtml;\n",
              "          element.appendChild(docLink);\n",
              "        }\n",
              "      </script>\n",
              "    </div>\n",
              "  </div>\n",
              "  "
            ]
          },
          "metadata": {},
          "execution_count": 8
        }
      ],
      "source": [
        "data.head(20)"
      ]
    },
    {
      "cell_type": "code",
      "execution_count": null,
      "id": "14c61cf8",
      "metadata": {
        "id": "14c61cf8",
        "outputId": "e3bfcd8d-21db-4d8b-9277-16ddaf1b0602",
        "colab": {
          "base_uri": "https://localhost:8080/",
          "height": 520
        }
      },
      "outputs": [
        {
          "output_type": "execute_result",
          "data": {
            "text/plain": [
              "           Date  Closing Value\n",
              "8208 2018-06-19          65.09\n",
              "8209 2018-06-20          65.92\n",
              "8210 2018-06-21          65.68\n",
              "8211 2018-06-22          69.02\n",
              "8212 2018-06-25          69.91\n",
              "8213 2018-06-26          75.23\n",
              "8214 2018-06-27          77.41\n",
              "8215 2018-06-28          73.45\n",
              "8216 2018-06-29          74.13\n",
              "8217 2018-07-02          73.89\n",
              "8218 2018-07-03          74.19\n",
              "8219 2018-07-04            NaN\n",
              "8220 2018-07-05          73.05\n",
              "8221 2018-07-06          73.78\n",
              "8222 2018-07-09          73.93"
            ],
            "text/html": [
              "\n",
              "  <div id=\"df-badd4f00-9a2b-45ea-ae86-34f337b6368f\">\n",
              "    <div class=\"colab-df-container\">\n",
              "      <div>\n",
              "<style scoped>\n",
              "    .dataframe tbody tr th:only-of-type {\n",
              "        vertical-align: middle;\n",
              "    }\n",
              "\n",
              "    .dataframe tbody tr th {\n",
              "        vertical-align: top;\n",
              "    }\n",
              "\n",
              "    .dataframe thead th {\n",
              "        text-align: right;\n",
              "    }\n",
              "</style>\n",
              "<table border=\"1\" class=\"dataframe\">\n",
              "  <thead>\n",
              "    <tr style=\"text-align: right;\">\n",
              "      <th></th>\n",
              "      <th>Date</th>\n",
              "      <th>Closing Value</th>\n",
              "    </tr>\n",
              "  </thead>\n",
              "  <tbody>\n",
              "    <tr>\n",
              "      <th>8208</th>\n",
              "      <td>2018-06-19</td>\n",
              "      <td>65.09</td>\n",
              "    </tr>\n",
              "    <tr>\n",
              "      <th>8209</th>\n",
              "      <td>2018-06-20</td>\n",
              "      <td>65.92</td>\n",
              "    </tr>\n",
              "    <tr>\n",
              "      <th>8210</th>\n",
              "      <td>2018-06-21</td>\n",
              "      <td>65.68</td>\n",
              "    </tr>\n",
              "    <tr>\n",
              "      <th>8211</th>\n",
              "      <td>2018-06-22</td>\n",
              "      <td>69.02</td>\n",
              "    </tr>\n",
              "    <tr>\n",
              "      <th>8212</th>\n",
              "      <td>2018-06-25</td>\n",
              "      <td>69.91</td>\n",
              "    </tr>\n",
              "    <tr>\n",
              "      <th>8213</th>\n",
              "      <td>2018-06-26</td>\n",
              "      <td>75.23</td>\n",
              "    </tr>\n",
              "    <tr>\n",
              "      <th>8214</th>\n",
              "      <td>2018-06-27</td>\n",
              "      <td>77.41</td>\n",
              "    </tr>\n",
              "    <tr>\n",
              "      <th>8215</th>\n",
              "      <td>2018-06-28</td>\n",
              "      <td>73.45</td>\n",
              "    </tr>\n",
              "    <tr>\n",
              "      <th>8216</th>\n",
              "      <td>2018-06-29</td>\n",
              "      <td>74.13</td>\n",
              "    </tr>\n",
              "    <tr>\n",
              "      <th>8217</th>\n",
              "      <td>2018-07-02</td>\n",
              "      <td>73.89</td>\n",
              "    </tr>\n",
              "    <tr>\n",
              "      <th>8218</th>\n",
              "      <td>2018-07-03</td>\n",
              "      <td>74.19</td>\n",
              "    </tr>\n",
              "    <tr>\n",
              "      <th>8219</th>\n",
              "      <td>2018-07-04</td>\n",
              "      <td>NaN</td>\n",
              "    </tr>\n",
              "    <tr>\n",
              "      <th>8220</th>\n",
              "      <td>2018-07-05</td>\n",
              "      <td>73.05</td>\n",
              "    </tr>\n",
              "    <tr>\n",
              "      <th>8221</th>\n",
              "      <td>2018-07-06</td>\n",
              "      <td>73.78</td>\n",
              "    </tr>\n",
              "    <tr>\n",
              "      <th>8222</th>\n",
              "      <td>2018-07-09</td>\n",
              "      <td>73.93</td>\n",
              "    </tr>\n",
              "  </tbody>\n",
              "</table>\n",
              "</div>\n",
              "      <button class=\"colab-df-convert\" onclick=\"convertToInteractive('df-badd4f00-9a2b-45ea-ae86-34f337b6368f')\"\n",
              "              title=\"Convert this dataframe to an interactive table.\"\n",
              "              style=\"display:none;\">\n",
              "        \n",
              "  <svg xmlns=\"http://www.w3.org/2000/svg\" height=\"24px\"viewBox=\"0 0 24 24\"\n",
              "       width=\"24px\">\n",
              "    <path d=\"M0 0h24v24H0V0z\" fill=\"none\"/>\n",
              "    <path d=\"M18.56 5.44l.94 2.06.94-2.06 2.06-.94-2.06-.94-.94-2.06-.94 2.06-2.06.94zm-11 1L8.5 8.5l.94-2.06 2.06-.94-2.06-.94L8.5 2.5l-.94 2.06-2.06.94zm10 10l.94 2.06.94-2.06 2.06-.94-2.06-.94-.94-2.06-.94 2.06-2.06.94z\"/><path d=\"M17.41 7.96l-1.37-1.37c-.4-.4-.92-.59-1.43-.59-.52 0-1.04.2-1.43.59L10.3 9.45l-7.72 7.72c-.78.78-.78 2.05 0 2.83L4 21.41c.39.39.9.59 1.41.59.51 0 1.02-.2 1.41-.59l7.78-7.78 2.81-2.81c.8-.78.8-2.07 0-2.86zM5.41 20L4 18.59l7.72-7.72 1.47 1.35L5.41 20z\"/>\n",
              "  </svg>\n",
              "      </button>\n",
              "      \n",
              "  <style>\n",
              "    .colab-df-container {\n",
              "      display:flex;\n",
              "      flex-wrap:wrap;\n",
              "      gap: 12px;\n",
              "    }\n",
              "\n",
              "    .colab-df-convert {\n",
              "      background-color: #E8F0FE;\n",
              "      border: none;\n",
              "      border-radius: 50%;\n",
              "      cursor: pointer;\n",
              "      display: none;\n",
              "      fill: #1967D2;\n",
              "      height: 32px;\n",
              "      padding: 0 0 0 0;\n",
              "      width: 32px;\n",
              "    }\n",
              "\n",
              "    .colab-df-convert:hover {\n",
              "      background-color: #E2EBFA;\n",
              "      box-shadow: 0px 1px 2px rgba(60, 64, 67, 0.3), 0px 1px 3px 1px rgba(60, 64, 67, 0.15);\n",
              "      fill: #174EA6;\n",
              "    }\n",
              "\n",
              "    [theme=dark] .colab-df-convert {\n",
              "      background-color: #3B4455;\n",
              "      fill: #D2E3FC;\n",
              "    }\n",
              "\n",
              "    [theme=dark] .colab-df-convert:hover {\n",
              "      background-color: #434B5C;\n",
              "      box-shadow: 0px 1px 3px 1px rgba(0, 0, 0, 0.15);\n",
              "      filter: drop-shadow(0px 1px 2px rgba(0, 0, 0, 0.3));\n",
              "      fill: #FFFFFF;\n",
              "    }\n",
              "  </style>\n",
              "\n",
              "      <script>\n",
              "        const buttonEl =\n",
              "          document.querySelector('#df-badd4f00-9a2b-45ea-ae86-34f337b6368f button.colab-df-convert');\n",
              "        buttonEl.style.display =\n",
              "          google.colab.kernel.accessAllowed ? 'block' : 'none';\n",
              "\n",
              "        async function convertToInteractive(key) {\n",
              "          const element = document.querySelector('#df-badd4f00-9a2b-45ea-ae86-34f337b6368f');\n",
              "          const dataTable =\n",
              "            await google.colab.kernel.invokeFunction('convertToInteractive',\n",
              "                                                     [key], {});\n",
              "          if (!dataTable) return;\n",
              "\n",
              "          const docLinkHtml = 'Like what you see? Visit the ' +\n",
              "            '<a target=\"_blank\" href=https://colab.research.google.com/notebooks/data_table.ipynb>data table notebook</a>'\n",
              "            + ' to learn more about interactive tables.';\n",
              "          element.innerHTML = '';\n",
              "          dataTable['output_type'] = 'display_data';\n",
              "          await google.colab.output.renderOutput(dataTable, element);\n",
              "          const docLink = document.createElement('div');\n",
              "          docLink.innerHTML = docLinkHtml;\n",
              "          element.appendChild(docLink);\n",
              "        }\n",
              "      </script>\n",
              "    </div>\n",
              "  </div>\n",
              "  "
            ]
          },
          "metadata": {},
          "execution_count": 9
        }
      ],
      "source": [
        "data.tail(15)"
      ]
    },
    {
      "cell_type": "markdown",
      "id": "89d99aa8",
      "metadata": {
        "id": "89d99aa8"
      },
      "source": [
        "# Handling the Missing Values"
      ]
    },
    {
      "cell_type": "code",
      "execution_count": null,
      "id": "12af86fa",
      "metadata": {
        "id": "12af86fa",
        "outputId": "a80fcc5a-178c-44b8-f78e-9d1e8afff1e7",
        "colab": {
          "base_uri": "https://localhost:8080/"
        }
      },
      "outputs": [
        {
          "output_type": "execute_result",
          "data": {
            "text/plain": [
              "Date             False\n",
              "Closing Value     True\n",
              "dtype: bool"
            ]
          },
          "metadata": {},
          "execution_count": 10
        }
      ],
      "source": [
        "data.isnull().any()"
      ]
    },
    {
      "cell_type": "code",
      "execution_count": null,
      "id": "57ddefb5",
      "metadata": {
        "id": "57ddefb5",
        "outputId": "708ec2e0-98eb-43c9-eab2-eafe506e9cd9",
        "colab": {
          "base_uri": "https://localhost:8080/"
        }
      },
      "outputs": [
        {
          "output_type": "execute_result",
          "data": {
            "text/plain": [
              "Date             0\n",
              "Closing Value    7\n",
              "dtype: int64"
            ]
          },
          "metadata": {},
          "execution_count": 11
        }
      ],
      "source": [
        "data.isnull().sum()"
      ]
    },
    {
      "cell_type": "code",
      "execution_count": null,
      "id": "ef5fa8a3",
      "metadata": {
        "id": "ef5fa8a3",
        "outputId": "110ea57e-27f4-49be-d089-fe30d9369b05",
        "colab": {
          "base_uri": "https://localhost:8080/"
        }
      },
      "outputs": [
        {
          "output_type": "execute_result",
          "data": {
            "text/plain": [
              "Timestamp('2002-04-05 22:11:15.082086912')"
            ]
          },
          "metadata": {},
          "execution_count": 12
        }
      ],
      "source": [
        "data['Date'].mean()"
      ]
    },
    {
      "cell_type": "code",
      "execution_count": null,
      "id": "3c84499a",
      "metadata": {
        "id": "3c84499a",
        "outputId": "d32bf368-5a3d-4099-aec1-409f6ecd3539",
        "colab": {
          "base_uri": "https://localhost:8080/"
        }
      },
      "outputs": [
        {
          "output_type": "execute_result",
          "data": {
            "text/plain": [
              "29.61"
            ]
          },
          "metadata": {},
          "execution_count": 13
        }
      ],
      "source": [
        "data['Closing Value'].median()"
      ]
    },
    {
      "cell_type": "code",
      "execution_count": null,
      "id": "fc941e7a",
      "metadata": {
        "id": "fc941e7a",
        "outputId": "ee6e12c7-3a70-4adc-e5a3-b28a6e1d646f",
        "colab": {
          "base_uri": "https://localhost:8080/"
        }
      },
      "outputs": [
        {
          "output_type": "execute_result",
          "data": {
            "text/plain": [
              "0    18.63\n",
              "1    20.38\n",
              "dtype: float64"
            ]
          },
          "metadata": {},
          "execution_count": 14
        }
      ],
      "source": [
        "data['Closing Value'].mode()"
      ]
    },
    {
      "cell_type": "code",
      "execution_count": null,
      "id": "2d1456b8",
      "metadata": {
        "id": "2d1456b8"
      },
      "outputs": [],
      "source": [
        "data['Date'].fillna(data['Date'].mean(),inplace=True)"
      ]
    },
    {
      "cell_type": "code",
      "execution_count": null,
      "id": "c84c01b0",
      "metadata": {
        "id": "c84c01b0",
        "outputId": "419f1ca9-7f4f-4860-bf95-af31d8629de4",
        "colab": {
          "base_uri": "https://localhost:8080/",
          "height": 424
        }
      },
      "outputs": [
        {
          "output_type": "execute_result",
          "data": {
            "text/plain": [
              "           Date  Closing Value\n",
              "0    1986-01-02          25.56\n",
              "1    1986-01-03          26.00\n",
              "2    1986-01-06          26.53\n",
              "3    1986-01-07          25.85\n",
              "4    1986-01-08          25.87\n",
              "...         ...            ...\n",
              "8218 2018-07-03          74.19\n",
              "8219 2018-07-04            NaN\n",
              "8220 2018-07-05          73.05\n",
              "8221 2018-07-06          73.78\n",
              "8222 2018-07-09          73.93\n",
              "\n",
              "[8223 rows x 2 columns]"
            ],
            "text/html": [
              "\n",
              "  <div id=\"df-a569e8ff-ae7c-468e-a2e5-e50c51100eee\">\n",
              "    <div class=\"colab-df-container\">\n",
              "      <div>\n",
              "<style scoped>\n",
              "    .dataframe tbody tr th:only-of-type {\n",
              "        vertical-align: middle;\n",
              "    }\n",
              "\n",
              "    .dataframe tbody tr th {\n",
              "        vertical-align: top;\n",
              "    }\n",
              "\n",
              "    .dataframe thead th {\n",
              "        text-align: right;\n",
              "    }\n",
              "</style>\n",
              "<table border=\"1\" class=\"dataframe\">\n",
              "  <thead>\n",
              "    <tr style=\"text-align: right;\">\n",
              "      <th></th>\n",
              "      <th>Date</th>\n",
              "      <th>Closing Value</th>\n",
              "    </tr>\n",
              "  </thead>\n",
              "  <tbody>\n",
              "    <tr>\n",
              "      <th>0</th>\n",
              "      <td>1986-01-02</td>\n",
              "      <td>25.56</td>\n",
              "    </tr>\n",
              "    <tr>\n",
              "      <th>1</th>\n",
              "      <td>1986-01-03</td>\n",
              "      <td>26.00</td>\n",
              "    </tr>\n",
              "    <tr>\n",
              "      <th>2</th>\n",
              "      <td>1986-01-06</td>\n",
              "      <td>26.53</td>\n",
              "    </tr>\n",
              "    <tr>\n",
              "      <th>3</th>\n",
              "      <td>1986-01-07</td>\n",
              "      <td>25.85</td>\n",
              "    </tr>\n",
              "    <tr>\n",
              "      <th>4</th>\n",
              "      <td>1986-01-08</td>\n",
              "      <td>25.87</td>\n",
              "    </tr>\n",
              "    <tr>\n",
              "      <th>...</th>\n",
              "      <td>...</td>\n",
              "      <td>...</td>\n",
              "    </tr>\n",
              "    <tr>\n",
              "      <th>8218</th>\n",
              "      <td>2018-07-03</td>\n",
              "      <td>74.19</td>\n",
              "    </tr>\n",
              "    <tr>\n",
              "      <th>8219</th>\n",
              "      <td>2018-07-04</td>\n",
              "      <td>NaN</td>\n",
              "    </tr>\n",
              "    <tr>\n",
              "      <th>8220</th>\n",
              "      <td>2018-07-05</td>\n",
              "      <td>73.05</td>\n",
              "    </tr>\n",
              "    <tr>\n",
              "      <th>8221</th>\n",
              "      <td>2018-07-06</td>\n",
              "      <td>73.78</td>\n",
              "    </tr>\n",
              "    <tr>\n",
              "      <th>8222</th>\n",
              "      <td>2018-07-09</td>\n",
              "      <td>73.93</td>\n",
              "    </tr>\n",
              "  </tbody>\n",
              "</table>\n",
              "<p>8223 rows × 2 columns</p>\n",
              "</div>\n",
              "      <button class=\"colab-df-convert\" onclick=\"convertToInteractive('df-a569e8ff-ae7c-468e-a2e5-e50c51100eee')\"\n",
              "              title=\"Convert this dataframe to an interactive table.\"\n",
              "              style=\"display:none;\">\n",
              "        \n",
              "  <svg xmlns=\"http://www.w3.org/2000/svg\" height=\"24px\"viewBox=\"0 0 24 24\"\n",
              "       width=\"24px\">\n",
              "    <path d=\"M0 0h24v24H0V0z\" fill=\"none\"/>\n",
              "    <path d=\"M18.56 5.44l.94 2.06.94-2.06 2.06-.94-2.06-.94-.94-2.06-.94 2.06-2.06.94zm-11 1L8.5 8.5l.94-2.06 2.06-.94-2.06-.94L8.5 2.5l-.94 2.06-2.06.94zm10 10l.94 2.06.94-2.06 2.06-.94-2.06-.94-.94-2.06-.94 2.06-2.06.94z\"/><path d=\"M17.41 7.96l-1.37-1.37c-.4-.4-.92-.59-1.43-.59-.52 0-1.04.2-1.43.59L10.3 9.45l-7.72 7.72c-.78.78-.78 2.05 0 2.83L4 21.41c.39.39.9.59 1.41.59.51 0 1.02-.2 1.41-.59l7.78-7.78 2.81-2.81c.8-.78.8-2.07 0-2.86zM5.41 20L4 18.59l7.72-7.72 1.47 1.35L5.41 20z\"/>\n",
              "  </svg>\n",
              "      </button>\n",
              "      \n",
              "  <style>\n",
              "    .colab-df-container {\n",
              "      display:flex;\n",
              "      flex-wrap:wrap;\n",
              "      gap: 12px;\n",
              "    }\n",
              "\n",
              "    .colab-df-convert {\n",
              "      background-color: #E8F0FE;\n",
              "      border: none;\n",
              "      border-radius: 50%;\n",
              "      cursor: pointer;\n",
              "      display: none;\n",
              "      fill: #1967D2;\n",
              "      height: 32px;\n",
              "      padding: 0 0 0 0;\n",
              "      width: 32px;\n",
              "    }\n",
              "\n",
              "    .colab-df-convert:hover {\n",
              "      background-color: #E2EBFA;\n",
              "      box-shadow: 0px 1px 2px rgba(60, 64, 67, 0.3), 0px 1px 3px 1px rgba(60, 64, 67, 0.15);\n",
              "      fill: #174EA6;\n",
              "    }\n",
              "\n",
              "    [theme=dark] .colab-df-convert {\n",
              "      background-color: #3B4455;\n",
              "      fill: #D2E3FC;\n",
              "    }\n",
              "\n",
              "    [theme=dark] .colab-df-convert:hover {\n",
              "      background-color: #434B5C;\n",
              "      box-shadow: 0px 1px 3px 1px rgba(0, 0, 0, 0.15);\n",
              "      filter: drop-shadow(0px 1px 2px rgba(0, 0, 0, 0.3));\n",
              "      fill: #FFFFFF;\n",
              "    }\n",
              "  </style>\n",
              "\n",
              "      <script>\n",
              "        const buttonEl =\n",
              "          document.querySelector('#df-a569e8ff-ae7c-468e-a2e5-e50c51100eee button.colab-df-convert');\n",
              "        buttonEl.style.display =\n",
              "          google.colab.kernel.accessAllowed ? 'block' : 'none';\n",
              "\n",
              "        async function convertToInteractive(key) {\n",
              "          const element = document.querySelector('#df-a569e8ff-ae7c-468e-a2e5-e50c51100eee');\n",
              "          const dataTable =\n",
              "            await google.colab.kernel.invokeFunction('convertToInteractive',\n",
              "                                                     [key], {});\n",
              "          if (!dataTable) return;\n",
              "\n",
              "          const docLinkHtml = 'Like what you see? Visit the ' +\n",
              "            '<a target=\"_blank\" href=https://colab.research.google.com/notebooks/data_table.ipynb>data table notebook</a>'\n",
              "            + ' to learn more about interactive tables.';\n",
              "          element.innerHTML = '';\n",
              "          dataTable['output_type'] = 'display_data';\n",
              "          await google.colab.output.renderOutput(dataTable, element);\n",
              "          const docLink = document.createElement('div');\n",
              "          docLink.innerHTML = docLinkHtml;\n",
              "          element.appendChild(docLink);\n",
              "        }\n",
              "      </script>\n",
              "    </div>\n",
              "  </div>\n",
              "  "
            ]
          },
          "metadata": {},
          "execution_count": 16
        }
      ],
      "source": [
        "data"
      ]
    },
    {
      "cell_type": "code",
      "execution_count": null,
      "id": "088f260b",
      "metadata": {
        "id": "088f260b"
      },
      "outputs": [],
      "source": [
        "data['Date'].fillna(data['Date'].median(),inplace=True)"
      ]
    },
    {
      "cell_type": "code",
      "execution_count": null,
      "id": "f23327b4",
      "metadata": {
        "id": "f23327b4"
      },
      "outputs": [],
      "source": [
        "data['Closing Value'].fillna(data['Closing Value'].mode(),inplace=True)"
      ]
    },
    {
      "cell_type": "code",
      "execution_count": null,
      "id": "be297da8",
      "metadata": {
        "id": "be297da8",
        "outputId": "8a919634-e01c-4161-8e6a-c0574cf1611c",
        "colab": {
          "base_uri": "https://localhost:8080/",
          "height": 424
        }
      },
      "outputs": [
        {
          "output_type": "execute_result",
          "data": {
            "text/plain": [
              "           Date  Closing Value\n",
              "0    1986-01-02          25.56\n",
              "1    1986-01-03          26.00\n",
              "2    1986-01-06          26.53\n",
              "3    1986-01-07          25.85\n",
              "4    1986-01-08          25.87\n",
              "...         ...            ...\n",
              "8218 2018-07-03          74.19\n",
              "8219 2018-07-04            NaN\n",
              "8220 2018-07-05          73.05\n",
              "8221 2018-07-06          73.78\n",
              "8222 2018-07-09          73.93\n",
              "\n",
              "[8223 rows x 2 columns]"
            ],
            "text/html": [
              "\n",
              "  <div id=\"df-a7ced606-cfa2-4b21-b779-4c7d987ce39b\">\n",
              "    <div class=\"colab-df-container\">\n",
              "      <div>\n",
              "<style scoped>\n",
              "    .dataframe tbody tr th:only-of-type {\n",
              "        vertical-align: middle;\n",
              "    }\n",
              "\n",
              "    .dataframe tbody tr th {\n",
              "        vertical-align: top;\n",
              "    }\n",
              "\n",
              "    .dataframe thead th {\n",
              "        text-align: right;\n",
              "    }\n",
              "</style>\n",
              "<table border=\"1\" class=\"dataframe\">\n",
              "  <thead>\n",
              "    <tr style=\"text-align: right;\">\n",
              "      <th></th>\n",
              "      <th>Date</th>\n",
              "      <th>Closing Value</th>\n",
              "    </tr>\n",
              "  </thead>\n",
              "  <tbody>\n",
              "    <tr>\n",
              "      <th>0</th>\n",
              "      <td>1986-01-02</td>\n",
              "      <td>25.56</td>\n",
              "    </tr>\n",
              "    <tr>\n",
              "      <th>1</th>\n",
              "      <td>1986-01-03</td>\n",
              "      <td>26.00</td>\n",
              "    </tr>\n",
              "    <tr>\n",
              "      <th>2</th>\n",
              "      <td>1986-01-06</td>\n",
              "      <td>26.53</td>\n",
              "    </tr>\n",
              "    <tr>\n",
              "      <th>3</th>\n",
              "      <td>1986-01-07</td>\n",
              "      <td>25.85</td>\n",
              "    </tr>\n",
              "    <tr>\n",
              "      <th>4</th>\n",
              "      <td>1986-01-08</td>\n",
              "      <td>25.87</td>\n",
              "    </tr>\n",
              "    <tr>\n",
              "      <th>...</th>\n",
              "      <td>...</td>\n",
              "      <td>...</td>\n",
              "    </tr>\n",
              "    <tr>\n",
              "      <th>8218</th>\n",
              "      <td>2018-07-03</td>\n",
              "      <td>74.19</td>\n",
              "    </tr>\n",
              "    <tr>\n",
              "      <th>8219</th>\n",
              "      <td>2018-07-04</td>\n",
              "      <td>NaN</td>\n",
              "    </tr>\n",
              "    <tr>\n",
              "      <th>8220</th>\n",
              "      <td>2018-07-05</td>\n",
              "      <td>73.05</td>\n",
              "    </tr>\n",
              "    <tr>\n",
              "      <th>8221</th>\n",
              "      <td>2018-07-06</td>\n",
              "      <td>73.78</td>\n",
              "    </tr>\n",
              "    <tr>\n",
              "      <th>8222</th>\n",
              "      <td>2018-07-09</td>\n",
              "      <td>73.93</td>\n",
              "    </tr>\n",
              "  </tbody>\n",
              "</table>\n",
              "<p>8223 rows × 2 columns</p>\n",
              "</div>\n",
              "      <button class=\"colab-df-convert\" onclick=\"convertToInteractive('df-a7ced606-cfa2-4b21-b779-4c7d987ce39b')\"\n",
              "              title=\"Convert this dataframe to an interactive table.\"\n",
              "              style=\"display:none;\">\n",
              "        \n",
              "  <svg xmlns=\"http://www.w3.org/2000/svg\" height=\"24px\"viewBox=\"0 0 24 24\"\n",
              "       width=\"24px\">\n",
              "    <path d=\"M0 0h24v24H0V0z\" fill=\"none\"/>\n",
              "    <path d=\"M18.56 5.44l.94 2.06.94-2.06 2.06-.94-2.06-.94-.94-2.06-.94 2.06-2.06.94zm-11 1L8.5 8.5l.94-2.06 2.06-.94-2.06-.94L8.5 2.5l-.94 2.06-2.06.94zm10 10l.94 2.06.94-2.06 2.06-.94-2.06-.94-.94-2.06-.94 2.06-2.06.94z\"/><path d=\"M17.41 7.96l-1.37-1.37c-.4-.4-.92-.59-1.43-.59-.52 0-1.04.2-1.43.59L10.3 9.45l-7.72 7.72c-.78.78-.78 2.05 0 2.83L4 21.41c.39.39.9.59 1.41.59.51 0 1.02-.2 1.41-.59l7.78-7.78 2.81-2.81c.8-.78.8-2.07 0-2.86zM5.41 20L4 18.59l7.72-7.72 1.47 1.35L5.41 20z\"/>\n",
              "  </svg>\n",
              "      </button>\n",
              "      \n",
              "  <style>\n",
              "    .colab-df-container {\n",
              "      display:flex;\n",
              "      flex-wrap:wrap;\n",
              "      gap: 12px;\n",
              "    }\n",
              "\n",
              "    .colab-df-convert {\n",
              "      background-color: #E8F0FE;\n",
              "      border: none;\n",
              "      border-radius: 50%;\n",
              "      cursor: pointer;\n",
              "      display: none;\n",
              "      fill: #1967D2;\n",
              "      height: 32px;\n",
              "      padding: 0 0 0 0;\n",
              "      width: 32px;\n",
              "    }\n",
              "\n",
              "    .colab-df-convert:hover {\n",
              "      background-color: #E2EBFA;\n",
              "      box-shadow: 0px 1px 2px rgba(60, 64, 67, 0.3), 0px 1px 3px 1px rgba(60, 64, 67, 0.15);\n",
              "      fill: #174EA6;\n",
              "    }\n",
              "\n",
              "    [theme=dark] .colab-df-convert {\n",
              "      background-color: #3B4455;\n",
              "      fill: #D2E3FC;\n",
              "    }\n",
              "\n",
              "    [theme=dark] .colab-df-convert:hover {\n",
              "      background-color: #434B5C;\n",
              "      box-shadow: 0px 1px 3px 1px rgba(0, 0, 0, 0.15);\n",
              "      filter: drop-shadow(0px 1px 2px rgba(0, 0, 0, 0.3));\n",
              "      fill: #FFFFFF;\n",
              "    }\n",
              "  </style>\n",
              "\n",
              "      <script>\n",
              "        const buttonEl =\n",
              "          document.querySelector('#df-a7ced606-cfa2-4b21-b779-4c7d987ce39b button.colab-df-convert');\n",
              "        buttonEl.style.display =\n",
              "          google.colab.kernel.accessAllowed ? 'block' : 'none';\n",
              "\n",
              "        async function convertToInteractive(key) {\n",
              "          const element = document.querySelector('#df-a7ced606-cfa2-4b21-b779-4c7d987ce39b');\n",
              "          const dataTable =\n",
              "            await google.colab.kernel.invokeFunction('convertToInteractive',\n",
              "                                                     [key], {});\n",
              "          if (!dataTable) return;\n",
              "\n",
              "          const docLinkHtml = 'Like what you see? Visit the ' +\n",
              "            '<a target=\"_blank\" href=https://colab.research.google.com/notebooks/data_table.ipynb>data table notebook</a>'\n",
              "            + ' to learn more about interactive tables.';\n",
              "          element.innerHTML = '';\n",
              "          dataTable['output_type'] = 'display_data';\n",
              "          await google.colab.output.renderOutput(dataTable, element);\n",
              "          const docLink = document.createElement('div');\n",
              "          docLink.innerHTML = docLinkHtml;\n",
              "          element.appendChild(docLink);\n",
              "        }\n",
              "      </script>\n",
              "    </div>\n",
              "  </div>\n",
              "  "
            ]
          },
          "metadata": {},
          "execution_count": 19
        }
      ],
      "source": [
        "data"
      ]
    },
    {
      "cell_type": "code",
      "execution_count": null,
      "id": "2cad2334",
      "metadata": {
        "id": "2cad2334",
        "outputId": "86809aef-d084-4b12-db15-46a214100b8c",
        "colab": {
          "base_uri": "https://localhost:8080/",
          "height": 677
        }
      },
      "outputs": [
        {
          "output_type": "execute_result",
          "data": {
            "text/plain": [
              "         Date  Closing Value\n",
              "0  1986-01-02          25.56\n",
              "1  1986-01-03          26.00\n",
              "2  1986-01-06          26.53\n",
              "3  1986-01-07          25.85\n",
              "4  1986-01-08          25.87\n",
              "5  1986-01-09          26.03\n",
              "6  1986-01-10          25.65\n",
              "7  1986-01-13          25.08\n",
              "8  1986-01-14          24.97\n",
              "9  1986-01-15          25.18\n",
              "10 1986-01-16          23.98\n",
              "11 1986-01-17          23.63\n",
              "12 1986-01-20          21.33\n",
              "13 1986-01-21          20.61\n",
              "14 1986-01-22          20.25\n",
              "15 1986-01-23          19.93\n",
              "16 1986-01-24          19.45\n",
              "17 1986-01-27          20.87\n",
              "18 1986-01-28          19.45\n",
              "19 1986-01-29          19.61"
            ],
            "text/html": [
              "\n",
              "  <div id=\"df-adf04f6b-5b47-419e-ac49-e1703ef25070\">\n",
              "    <div class=\"colab-df-container\">\n",
              "      <div>\n",
              "<style scoped>\n",
              "    .dataframe tbody tr th:only-of-type {\n",
              "        vertical-align: middle;\n",
              "    }\n",
              "\n",
              "    .dataframe tbody tr th {\n",
              "        vertical-align: top;\n",
              "    }\n",
              "\n",
              "    .dataframe thead th {\n",
              "        text-align: right;\n",
              "    }\n",
              "</style>\n",
              "<table border=\"1\" class=\"dataframe\">\n",
              "  <thead>\n",
              "    <tr style=\"text-align: right;\">\n",
              "      <th></th>\n",
              "      <th>Date</th>\n",
              "      <th>Closing Value</th>\n",
              "    </tr>\n",
              "  </thead>\n",
              "  <tbody>\n",
              "    <tr>\n",
              "      <th>0</th>\n",
              "      <td>1986-01-02</td>\n",
              "      <td>25.56</td>\n",
              "    </tr>\n",
              "    <tr>\n",
              "      <th>1</th>\n",
              "      <td>1986-01-03</td>\n",
              "      <td>26.00</td>\n",
              "    </tr>\n",
              "    <tr>\n",
              "      <th>2</th>\n",
              "      <td>1986-01-06</td>\n",
              "      <td>26.53</td>\n",
              "    </tr>\n",
              "    <tr>\n",
              "      <th>3</th>\n",
              "      <td>1986-01-07</td>\n",
              "      <td>25.85</td>\n",
              "    </tr>\n",
              "    <tr>\n",
              "      <th>4</th>\n",
              "      <td>1986-01-08</td>\n",
              "      <td>25.87</td>\n",
              "    </tr>\n",
              "    <tr>\n",
              "      <th>5</th>\n",
              "      <td>1986-01-09</td>\n",
              "      <td>26.03</td>\n",
              "    </tr>\n",
              "    <tr>\n",
              "      <th>6</th>\n",
              "      <td>1986-01-10</td>\n",
              "      <td>25.65</td>\n",
              "    </tr>\n",
              "    <tr>\n",
              "      <th>7</th>\n",
              "      <td>1986-01-13</td>\n",
              "      <td>25.08</td>\n",
              "    </tr>\n",
              "    <tr>\n",
              "      <th>8</th>\n",
              "      <td>1986-01-14</td>\n",
              "      <td>24.97</td>\n",
              "    </tr>\n",
              "    <tr>\n",
              "      <th>9</th>\n",
              "      <td>1986-01-15</td>\n",
              "      <td>25.18</td>\n",
              "    </tr>\n",
              "    <tr>\n",
              "      <th>10</th>\n",
              "      <td>1986-01-16</td>\n",
              "      <td>23.98</td>\n",
              "    </tr>\n",
              "    <tr>\n",
              "      <th>11</th>\n",
              "      <td>1986-01-17</td>\n",
              "      <td>23.63</td>\n",
              "    </tr>\n",
              "    <tr>\n",
              "      <th>12</th>\n",
              "      <td>1986-01-20</td>\n",
              "      <td>21.33</td>\n",
              "    </tr>\n",
              "    <tr>\n",
              "      <th>13</th>\n",
              "      <td>1986-01-21</td>\n",
              "      <td>20.61</td>\n",
              "    </tr>\n",
              "    <tr>\n",
              "      <th>14</th>\n",
              "      <td>1986-01-22</td>\n",
              "      <td>20.25</td>\n",
              "    </tr>\n",
              "    <tr>\n",
              "      <th>15</th>\n",
              "      <td>1986-01-23</td>\n",
              "      <td>19.93</td>\n",
              "    </tr>\n",
              "    <tr>\n",
              "      <th>16</th>\n",
              "      <td>1986-01-24</td>\n",
              "      <td>19.45</td>\n",
              "    </tr>\n",
              "    <tr>\n",
              "      <th>17</th>\n",
              "      <td>1986-01-27</td>\n",
              "      <td>20.87</td>\n",
              "    </tr>\n",
              "    <tr>\n",
              "      <th>18</th>\n",
              "      <td>1986-01-28</td>\n",
              "      <td>19.45</td>\n",
              "    </tr>\n",
              "    <tr>\n",
              "      <th>19</th>\n",
              "      <td>1986-01-29</td>\n",
              "      <td>19.61</td>\n",
              "    </tr>\n",
              "  </tbody>\n",
              "</table>\n",
              "</div>\n",
              "      <button class=\"colab-df-convert\" onclick=\"convertToInteractive('df-adf04f6b-5b47-419e-ac49-e1703ef25070')\"\n",
              "              title=\"Convert this dataframe to an interactive table.\"\n",
              "              style=\"display:none;\">\n",
              "        \n",
              "  <svg xmlns=\"http://www.w3.org/2000/svg\" height=\"24px\"viewBox=\"0 0 24 24\"\n",
              "       width=\"24px\">\n",
              "    <path d=\"M0 0h24v24H0V0z\" fill=\"none\"/>\n",
              "    <path d=\"M18.56 5.44l.94 2.06.94-2.06 2.06-.94-2.06-.94-.94-2.06-.94 2.06-2.06.94zm-11 1L8.5 8.5l.94-2.06 2.06-.94-2.06-.94L8.5 2.5l-.94 2.06-2.06.94zm10 10l.94 2.06.94-2.06 2.06-.94-2.06-.94-.94-2.06-.94 2.06-2.06.94z\"/><path d=\"M17.41 7.96l-1.37-1.37c-.4-.4-.92-.59-1.43-.59-.52 0-1.04.2-1.43.59L10.3 9.45l-7.72 7.72c-.78.78-.78 2.05 0 2.83L4 21.41c.39.39.9.59 1.41.59.51 0 1.02-.2 1.41-.59l7.78-7.78 2.81-2.81c.8-.78.8-2.07 0-2.86zM5.41 20L4 18.59l7.72-7.72 1.47 1.35L5.41 20z\"/>\n",
              "  </svg>\n",
              "      </button>\n",
              "      \n",
              "  <style>\n",
              "    .colab-df-container {\n",
              "      display:flex;\n",
              "      flex-wrap:wrap;\n",
              "      gap: 12px;\n",
              "    }\n",
              "\n",
              "    .colab-df-convert {\n",
              "      background-color: #E8F0FE;\n",
              "      border: none;\n",
              "      border-radius: 50%;\n",
              "      cursor: pointer;\n",
              "      display: none;\n",
              "      fill: #1967D2;\n",
              "      height: 32px;\n",
              "      padding: 0 0 0 0;\n",
              "      width: 32px;\n",
              "    }\n",
              "\n",
              "    .colab-df-convert:hover {\n",
              "      background-color: #E2EBFA;\n",
              "      box-shadow: 0px 1px 2px rgba(60, 64, 67, 0.3), 0px 1px 3px 1px rgba(60, 64, 67, 0.15);\n",
              "      fill: #174EA6;\n",
              "    }\n",
              "\n",
              "    [theme=dark] .colab-df-convert {\n",
              "      background-color: #3B4455;\n",
              "      fill: #D2E3FC;\n",
              "    }\n",
              "\n",
              "    [theme=dark] .colab-df-convert:hover {\n",
              "      background-color: #434B5C;\n",
              "      box-shadow: 0px 1px 3px 1px rgba(0, 0, 0, 0.15);\n",
              "      filter: drop-shadow(0px 1px 2px rgba(0, 0, 0, 0.3));\n",
              "      fill: #FFFFFF;\n",
              "    }\n",
              "  </style>\n",
              "\n",
              "      <script>\n",
              "        const buttonEl =\n",
              "          document.querySelector('#df-adf04f6b-5b47-419e-ac49-e1703ef25070 button.colab-df-convert');\n",
              "        buttonEl.style.display =\n",
              "          google.colab.kernel.accessAllowed ? 'block' : 'none';\n",
              "\n",
              "        async function convertToInteractive(key) {\n",
              "          const element = document.querySelector('#df-adf04f6b-5b47-419e-ac49-e1703ef25070');\n",
              "          const dataTable =\n",
              "            await google.colab.kernel.invokeFunction('convertToInteractive',\n",
              "                                                     [key], {});\n",
              "          if (!dataTable) return;\n",
              "\n",
              "          const docLinkHtml = 'Like what you see? Visit the ' +\n",
              "            '<a target=\"_blank\" href=https://colab.research.google.com/notebooks/data_table.ipynb>data table notebook</a>'\n",
              "            + ' to learn more about interactive tables.';\n",
              "          element.innerHTML = '';\n",
              "          dataTable['output_type'] = 'display_data';\n",
              "          await google.colab.output.renderOutput(dataTable, element);\n",
              "          const docLink = document.createElement('div');\n",
              "          docLink.innerHTML = docLinkHtml;\n",
              "          element.appendChild(docLink);\n",
              "        }\n",
              "      </script>\n",
              "    </div>\n",
              "  </div>\n",
              "  "
            ]
          },
          "metadata": {},
          "execution_count": 20
        }
      ],
      "source": [
        "data.head(20)"
      ]
    },
    {
      "cell_type": "code",
      "execution_count": null,
      "id": "8c368a75",
      "metadata": {
        "id": "8c368a75",
        "outputId": "37ba074a-3f3d-4ada-8db0-7dd3209e04a3",
        "colab": {
          "base_uri": "https://localhost:8080/",
          "height": 300
        }
      },
      "outputs": [
        {
          "output_type": "execute_result",
          "data": {
            "text/plain": [
              "       Closing Value\n",
              "count    8216.000000\n",
              "mean       43.492139\n",
              "std        29.616804\n",
              "min        10.250000\n",
              "25%        19.577500\n",
              "50%        29.610000\n",
              "75%        63.402500\n",
              "max       145.310000"
            ],
            "text/html": [
              "\n",
              "  <div id=\"df-79efa95d-d6d9-4149-8d9e-a31e295ebe9f\">\n",
              "    <div class=\"colab-df-container\">\n",
              "      <div>\n",
              "<style scoped>\n",
              "    .dataframe tbody tr th:only-of-type {\n",
              "        vertical-align: middle;\n",
              "    }\n",
              "\n",
              "    .dataframe tbody tr th {\n",
              "        vertical-align: top;\n",
              "    }\n",
              "\n",
              "    .dataframe thead th {\n",
              "        text-align: right;\n",
              "    }\n",
              "</style>\n",
              "<table border=\"1\" class=\"dataframe\">\n",
              "  <thead>\n",
              "    <tr style=\"text-align: right;\">\n",
              "      <th></th>\n",
              "      <th>Closing Value</th>\n",
              "    </tr>\n",
              "  </thead>\n",
              "  <tbody>\n",
              "    <tr>\n",
              "      <th>count</th>\n",
              "      <td>8216.000000</td>\n",
              "    </tr>\n",
              "    <tr>\n",
              "      <th>mean</th>\n",
              "      <td>43.492139</td>\n",
              "    </tr>\n",
              "    <tr>\n",
              "      <th>std</th>\n",
              "      <td>29.616804</td>\n",
              "    </tr>\n",
              "    <tr>\n",
              "      <th>min</th>\n",
              "      <td>10.250000</td>\n",
              "    </tr>\n",
              "    <tr>\n",
              "      <th>25%</th>\n",
              "      <td>19.577500</td>\n",
              "    </tr>\n",
              "    <tr>\n",
              "      <th>50%</th>\n",
              "      <td>29.610000</td>\n",
              "    </tr>\n",
              "    <tr>\n",
              "      <th>75%</th>\n",
              "      <td>63.402500</td>\n",
              "    </tr>\n",
              "    <tr>\n",
              "      <th>max</th>\n",
              "      <td>145.310000</td>\n",
              "    </tr>\n",
              "  </tbody>\n",
              "</table>\n",
              "</div>\n",
              "      <button class=\"colab-df-convert\" onclick=\"convertToInteractive('df-79efa95d-d6d9-4149-8d9e-a31e295ebe9f')\"\n",
              "              title=\"Convert this dataframe to an interactive table.\"\n",
              "              style=\"display:none;\">\n",
              "        \n",
              "  <svg xmlns=\"http://www.w3.org/2000/svg\" height=\"24px\"viewBox=\"0 0 24 24\"\n",
              "       width=\"24px\">\n",
              "    <path d=\"M0 0h24v24H0V0z\" fill=\"none\"/>\n",
              "    <path d=\"M18.56 5.44l.94 2.06.94-2.06 2.06-.94-2.06-.94-.94-2.06-.94 2.06-2.06.94zm-11 1L8.5 8.5l.94-2.06 2.06-.94-2.06-.94L8.5 2.5l-.94 2.06-2.06.94zm10 10l.94 2.06.94-2.06 2.06-.94-2.06-.94-.94-2.06-.94 2.06-2.06.94z\"/><path d=\"M17.41 7.96l-1.37-1.37c-.4-.4-.92-.59-1.43-.59-.52 0-1.04.2-1.43.59L10.3 9.45l-7.72 7.72c-.78.78-.78 2.05 0 2.83L4 21.41c.39.39.9.59 1.41.59.51 0 1.02-.2 1.41-.59l7.78-7.78 2.81-2.81c.8-.78.8-2.07 0-2.86zM5.41 20L4 18.59l7.72-7.72 1.47 1.35L5.41 20z\"/>\n",
              "  </svg>\n",
              "      </button>\n",
              "      \n",
              "  <style>\n",
              "    .colab-df-container {\n",
              "      display:flex;\n",
              "      flex-wrap:wrap;\n",
              "      gap: 12px;\n",
              "    }\n",
              "\n",
              "    .colab-df-convert {\n",
              "      background-color: #E8F0FE;\n",
              "      border: none;\n",
              "      border-radius: 50%;\n",
              "      cursor: pointer;\n",
              "      display: none;\n",
              "      fill: #1967D2;\n",
              "      height: 32px;\n",
              "      padding: 0 0 0 0;\n",
              "      width: 32px;\n",
              "    }\n",
              "\n",
              "    .colab-df-convert:hover {\n",
              "      background-color: #E2EBFA;\n",
              "      box-shadow: 0px 1px 2px rgba(60, 64, 67, 0.3), 0px 1px 3px 1px rgba(60, 64, 67, 0.15);\n",
              "      fill: #174EA6;\n",
              "    }\n",
              "\n",
              "    [theme=dark] .colab-df-convert {\n",
              "      background-color: #3B4455;\n",
              "      fill: #D2E3FC;\n",
              "    }\n",
              "\n",
              "    [theme=dark] .colab-df-convert:hover {\n",
              "      background-color: #434B5C;\n",
              "      box-shadow: 0px 1px 3px 1px rgba(0, 0, 0, 0.15);\n",
              "      filter: drop-shadow(0px 1px 2px rgba(0, 0, 0, 0.3));\n",
              "      fill: #FFFFFF;\n",
              "    }\n",
              "  </style>\n",
              "\n",
              "      <script>\n",
              "        const buttonEl =\n",
              "          document.querySelector('#df-79efa95d-d6d9-4149-8d9e-a31e295ebe9f button.colab-df-convert');\n",
              "        buttonEl.style.display =\n",
              "          google.colab.kernel.accessAllowed ? 'block' : 'none';\n",
              "\n",
              "        async function convertToInteractive(key) {\n",
              "          const element = document.querySelector('#df-79efa95d-d6d9-4149-8d9e-a31e295ebe9f');\n",
              "          const dataTable =\n",
              "            await google.colab.kernel.invokeFunction('convertToInteractive',\n",
              "                                                     [key], {});\n",
              "          if (!dataTable) return;\n",
              "\n",
              "          const docLinkHtml = 'Like what you see? Visit the ' +\n",
              "            '<a target=\"_blank\" href=https://colab.research.google.com/notebooks/data_table.ipynb>data table notebook</a>'\n",
              "            + ' to learn more about interactive tables.';\n",
              "          element.innerHTML = '';\n",
              "          dataTable['output_type'] = 'display_data';\n",
              "          await google.colab.output.renderOutput(dataTable, element);\n",
              "          const docLink = document.createElement('div');\n",
              "          docLink.innerHTML = docLinkHtml;\n",
              "          element.appendChild(docLink);\n",
              "        }\n",
              "      </script>\n",
              "    </div>\n",
              "  </div>\n",
              "  "
            ]
          },
          "metadata": {},
          "execution_count": 21
        }
      ],
      "source": [
        "data.describe()"
      ]
    },
    {
      "cell_type": "code",
      "execution_count": null,
      "id": "2f978c73",
      "metadata": {
        "id": "2f978c73"
      },
      "outputs": [],
      "source": [
        "data.dropna(axis=0,inplace=True)"
      ]
    },
    {
      "cell_type": "code",
      "execution_count": null,
      "id": "8c64817a",
      "metadata": {
        "id": "8c64817a",
        "outputId": "0e4a86f4-eb85-4c7a-9ea8-8afd4d52c02c",
        "colab": {
          "base_uri": "https://localhost:8080/"
        }
      },
      "outputs": [
        {
          "output_type": "execute_result",
          "data": {
            "text/plain": [
              "Date             0\n",
              "Closing Value    0\n",
              "dtype: int64"
            ]
          },
          "metadata": {},
          "execution_count": 23
        }
      ],
      "source": [
        "data.isnull().sum()"
      ]
    },
    {
      "cell_type": "code",
      "execution_count": null,
      "id": "36e69458",
      "metadata": {
        "id": "36e69458"
      },
      "outputs": [],
      "source": [
        "data_oil=data.reset_index()['Closing Value']"
      ]
    },
    {
      "cell_type": "code",
      "execution_count": null,
      "id": "97c59b0b",
      "metadata": {
        "id": "97c59b0b",
        "outputId": "3ef84fe8-a98c-4830-8a65-d08b82bb46c8",
        "colab": {
          "base_uri": "https://localhost:8080/"
        }
      },
      "outputs": [
        {
          "output_type": "execute_result",
          "data": {
            "text/plain": [
              "0       25.56\n",
              "1       26.00\n",
              "2       26.53\n",
              "3       25.85\n",
              "4       25.87\n",
              "        ...  \n",
              "8211    73.89\n",
              "8212    74.19\n",
              "8213    73.05\n",
              "8214    73.78\n",
              "8215    73.93\n",
              "Name: Closing Value, Length: 8216, dtype: float64"
            ]
          },
          "metadata": {},
          "execution_count": 25
        }
      ],
      "source": [
        "data_oil"
      ]
    },
    {
      "cell_type": "markdown",
      "id": "b8fb63d1",
      "metadata": {
        "id": "b8fb63d1"
      },
      "source": [
        "# feature scalling"
      ]
    },
    {
      "cell_type": "code",
      "execution_count": null,
      "id": "7d3d79be",
      "metadata": {
        "id": "7d3d79be"
      },
      "outputs": [],
      "source": [
        "from sklearn.preprocessing import MinMaxScaler \n",
        "scaler=MinMaxScaler(feature_range=(0,1))\n",
        "data_oil=scaler.fit_transform(np.array(data_oil).reshape(-1,1))"
      ]
    },
    {
      "cell_type": "code",
      "execution_count": null,
      "id": "705c8bf9",
      "metadata": {
        "id": "705c8bf9"
      },
      "outputs": [],
      "source": [
        "sc =MinMaxScaler()"
      ]
    },
    {
      "cell_type": "code",
      "execution_count": null,
      "id": "bb9a115f",
      "metadata": {
        "id": "bb9a115f"
      },
      "outputs": [],
      "source": [
        "scaled_training = sc.fit_transform(data_oil)"
      ]
    },
    {
      "cell_type": "code",
      "execution_count": null,
      "id": "c386d958",
      "metadata": {
        "id": "c386d958",
        "outputId": "9a842ee1-dd07-453e-b7db-a16bf92c78bd",
        "colab": {
          "base_uri": "https://localhost:8080/"
        }
      },
      "outputs": [
        {
          "output_type": "execute_result",
          "data": {
            "text/plain": [
              "array([[0.11335703],\n",
              "       [0.11661484],\n",
              "       [0.12053902],\n",
              "       ...,\n",
              "       [0.46497853],\n",
              "       [0.47038353],\n",
              "       [0.47149415]])"
            ]
          },
          "metadata": {},
          "execution_count": 29
        }
      ],
      "source": [
        "scaled_training"
      ]
    },
    {
      "cell_type": "code",
      "execution_count": null,
      "id": "85f89c3c",
      "metadata": {
        "id": "85f89c3c"
      },
      "outputs": [],
      "source": [
        "scaled_testing = sc.fit_transform(data_oil)"
      ]
    },
    {
      "cell_type": "code",
      "execution_count": null,
      "id": "9222fe8b",
      "metadata": {
        "id": "9222fe8b",
        "outputId": "cc8bf0a2-74f8-4c16-c0f4-ca09d5116509",
        "colab": {
          "base_uri": "https://localhost:8080/"
        }
      },
      "outputs": [
        {
          "output_type": "execute_result",
          "data": {
            "text/plain": [
              "array([[0.11335703],\n",
              "       [0.11661484],\n",
              "       [0.12053902],\n",
              "       ...,\n",
              "       [0.46497853],\n",
              "       [0.47038353],\n",
              "       [0.47149415]])"
            ]
          },
          "metadata": {},
          "execution_count": 31
        }
      ],
      "source": [
        "scaled_testing"
      ]
    },
    {
      "cell_type": "markdown",
      "id": "314f6dac",
      "metadata": {
        "id": "314f6dac"
      },
      "source": [
        "# Data Visualization"
      ]
    },
    {
      "cell_type": "code",
      "execution_count": null,
      "id": "8b945a79",
      "metadata": {
        "id": "8b945a79",
        "outputId": "c9e99a30-b3a1-4cd6-8792-42d1f796282f",
        "colab": {
          "base_uri": "https://localhost:8080/",
          "height": 282
        }
      },
      "outputs": [
        {
          "output_type": "execute_result",
          "data": {
            "text/plain": [
              "[<matplotlib.lines.Line2D at 0x7eff9399ffd0>]"
            ]
          },
          "metadata": {},
          "execution_count": 32
        },
        {
          "output_type": "display_data",
          "data": {
            "text/plain": [
              "<Figure size 432x288 with 1 Axes>"
            ],
            "image/png": "[encoded data removed]"
          },
          "metadata": {
            "needs_background": "light"
          }
        }
      ],
      "source": [
        "plt.plot(data_oil)"
      ]
    },
    {
      "cell_type": "markdown",
      "id": "15a8092f",
      "metadata": {
        "id": "15a8092f"
      },
      "source": [
        "# Split the Data into Train & Test"
      ]
    },
    {
      "cell_type": "code",
      "execution_count": null,
      "id": "301d5ddf",
      "metadata": {
        "id": "301d5ddf"
      },
      "outputs": [],
      "source": [
        "# independendant and dependant varibles\n",
        "x_train = []\n",
        "y_train = []"
      ]
    },
    {
      "cell_type": "code",
      "execution_count": null,
      "id": "f338f3c8",
      "metadata": {
        "id": "f338f3c8",
        "outputId": "261bdc99-f25e-456b-8d53-71e71ac43e05",
        "colab": {
          "base_uri": "https://localhost:8080/"
        }
      },
      "outputs": [
        {
          "output_type": "execute_result",
          "data": {
            "text/plain": [
              "(8216, 1)"
            ]
          },
          "metadata": {},
          "execution_count": 34
        }
      ],
      "source": [
        "scaled_training.shape"
      ]
    },
    {
      "cell_type": "code",
      "execution_count": null,
      "id": "fbebf60b",
      "metadata": {
        "id": "fbebf60b"
      },
      "outputs": [],
      "source": [
        "training_size=int(len(data_oil)*0.65)\n",
        "test_size=len(data_oil)-training_size\n",
        "train_data,test_data=data_oil[0:training_size,:],data_oil[training_size:len(data_oil),:1]"
      ]
    },
    {
      "cell_type": "code",
      "execution_count": null,
      "id": "d14de5c9",
      "metadata": {
        "id": "d14de5c9",
        "outputId": "4753a13c-319c-428f-c990-5b895f6c6dc6",
        "colab": {
          "base_uri": "https://localhost:8080/"
        }
      },
      "outputs": [
        {
          "output_type": "execute_result",
          "data": {
            "text/plain": [
              "(5340, 2876)"
            ]
          },
          "metadata": {},
          "execution_count": 36
        }
      ],
      "source": [
        "training_size,test_size"
      ]
    },
    {
      "cell_type": "code",
      "execution_count": null,
      "id": "c16aa608",
      "metadata": {
        "id": "c16aa608",
        "outputId": "b16c03eb-0275-489a-ff86-9c97e8aada1c",
        "colab": {
          "base_uri": "https://localhost:8080/"
        }
      },
      "outputs": [
        {
          "output_type": "execute_result",
          "data": {
            "text/plain": [
              "(5340, 1)"
            ]
          },
          "metadata": {},
          "execution_count": 37
        }
      ],
      "source": [
        "train_data.shape"
      ]
    },
    {
      "cell_type": "markdown",
      "id": "d8dd2078",
      "metadata": {
        "id": "d8dd2078"
      },
      "source": [
        "# Creating A Dataset with silding windows"
      ]
    },
    {
      "cell_type": "code",
      "execution_count": null,
      "id": "d2b34a31",
      "metadata": {
        "id": "d2b34a31"
      },
      "outputs": [],
      "source": [
        "##convert an array of values into a dataset matrix\n",
        "def create_dataset (dataset,time_step=1):\n",
        "    dataX,dataY = [],[]\n",
        "    for i in range(len(dataset)-time_step-1):\n",
        "        a = dataset[i:(i+time_step),0]\n",
        "        dataX.append(a)\n",
        "        dataY.append(dataset[i + time_step, 0])\n",
        "    return np.array(dataX), np.array(dataY)"
      ]
    },
    {
      "cell_type": "code",
      "execution_count": null,
      "id": "90ebbecf",
      "metadata": {
        "id": "90ebbecf"
      },
      "outputs": [],
      "source": [
        "#reshape into X=t,t 1, t 2, t 3 and Y=t14\n",
        "time_step = 10\n",
        "x_train,y_train = create_dataset(train_data, time_step)\n",
        "x_test, y_test = create_dataset(test_data, time_step)"
      ]
    },
    {
      "cell_type": "code",
      "execution_count": null,
      "id": "4ea67510",
      "metadata": {
        "id": "4ea67510",
        "outputId": "006b1699-e06a-451b-bc28-e93c47c90f42",
        "colab": {
          "base_uri": "https://localhost:8080/"
        }
      },
      "outputs": [
        {
          "output_type": "stream",
          "name": "stdout",
          "text": [
            "(5329, 10)\n",
            "(5329,)\n"
          ]
        },
        {
          "output_type": "execute_result",
          "data": {
            "text/plain": [
              "(None, None)"
            ]
          },
          "metadata": {},
          "execution_count": 40
        }
      ],
      "source": [
        "print(x_train.shape), print(y_train.shape)"
      ]
    },
    {
      "cell_type": "code",
      "execution_count": null,
      "id": "9eb22921",
      "metadata": {
        "id": "9eb22921",
        "outputId": "7cd98fc4-ba69-40a6-8ce8-5bdf1c82fb26",
        "colab": {
          "base_uri": "https://localhost:8080/"
        }
      },
      "outputs": [
        {
          "output_type": "stream",
          "name": "stdout",
          "text": [
            "(2865, 10)\n",
            "(2865,)\n"
          ]
        },
        {
          "output_type": "execute_result",
          "data": {
            "text/plain": [
              "(None, None)"
            ]
          },
          "metadata": {},
          "execution_count": 41
        }
      ],
      "source": [
        "print(x_test.shape), print(y_test.shape)"
      ]
    },
    {
      "cell_type": "code",
      "execution_count": null,
      "id": "de26a5d0",
      "metadata": {
        "id": "de26a5d0",
        "outputId": "b4376ff6-3c69-4f0a-83ae-844347a9dc2d",
        "colab": {
          "base_uri": "https://localhost:8080/"
        }
      },
      "outputs": [
        {
          "output_type": "execute_result",
          "data": {
            "text/plain": [
              "array([[0.11335703, 0.11661484, 0.12053902, ..., 0.10980305, 0.1089886 ,\n",
              "        0.11054346],\n",
              "       [0.11661484, 0.12053902, 0.11550422, ..., 0.1089886 , 0.11054346,\n",
              "        0.10165852],\n",
              "       [0.12053902, 0.11550422, 0.1156523 , ..., 0.11054346, 0.10165852,\n",
              "        0.09906708],\n",
              "       ...,\n",
              "       [0.36731823, 0.35176958, 0.36080261, ..., 0.36391234, 0.37042796,\n",
              "        0.37042796],\n",
              "       [0.35176958, 0.36080261, 0.35354657, ..., 0.37042796, 0.37042796,\n",
              "        0.37879461],\n",
              "       [0.36080261, 0.35354657, 0.35295424, ..., 0.37042796, 0.37879461,\n",
              "        0.37916482]])"
            ]
          },
          "metadata": {},
          "execution_count": 42
        }
      ],
      "source": [
        "x_train"
      ]
    },
    {
      "cell_type": "code",
      "execution_count": null,
      "id": "7f803d0c",
      "metadata": {
        "id": "7f803d0c"
      },
      "outputs": [],
      "source": [
        "x_train =x_train.reshape(x_train.shape[0],x_train.shape[1], 1)\n",
        "x_test =x_test.reshape(x_test.shape[0],x_test.shape[1], 1)"
      ]
    },
    {
      "cell_type": "code",
      "execution_count": null,
      "id": "a9e0cc8a",
      "metadata": {
        "id": "a9e0cc8a",
        "outputId": "e5fc6564-a996-42cf-c9c0-a491b7b60f77",
        "colab": {
          "base_uri": "https://localhost:8080/"
        }
      },
      "outputs": [
        {
          "output_type": "execute_result",
          "data": {
            "text/plain": [
              "array([[[0.11335703],\n",
              "        [0.11661484],\n",
              "        [0.12053902],\n",
              "        ...,\n",
              "        [0.10980305],\n",
              "        [0.1089886 ],\n",
              "        [0.11054346]],\n",
              "\n",
              "       [[0.11661484],\n",
              "        [0.12053902],\n",
              "        [0.11550422],\n",
              "        ...,\n",
              "        [0.1089886 ],\n",
              "        [0.11054346],\n",
              "        [0.10165852]],\n",
              "\n",
              "       [[0.12053902],\n",
              "        [0.11550422],\n",
              "        [0.1156523 ],\n",
              "        ...,\n",
              "        [0.11054346],\n",
              "        [0.10165852],\n",
              "        [0.09906708]],\n",
              "\n",
              "       ...,\n",
              "\n",
              "       [[0.36731823],\n",
              "        [0.35176958],\n",
              "        [0.36080261],\n",
              "        ...,\n",
              "        [0.36391234],\n",
              "        [0.37042796],\n",
              "        [0.37042796]],\n",
              "\n",
              "       [[0.35176958],\n",
              "        [0.36080261],\n",
              "        [0.35354657],\n",
              "        ...,\n",
              "        [0.37042796],\n",
              "        [0.37042796],\n",
              "        [0.37879461]],\n",
              "\n",
              "       [[0.36080261],\n",
              "        [0.35354657],\n",
              "        [0.35295424],\n",
              "        ...,\n",
              "        [0.37042796],\n",
              "        [0.37879461],\n",
              "        [0.37916482]]])"
            ]
          },
          "metadata": {},
          "execution_count": 44
        }
      ],
      "source": [
        "x_train"
      ]
    },
    {
      "cell_type": "code",
      "execution_count": null,
      "id": "05909d12",
      "metadata": {
        "id": "05909d12",
        "outputId": "d1fb440f-8cda-404a-bd37-a639c504e23b",
        "colab": {
          "base_uri": "https://localhost:8080/"
        }
      },
      "outputs": [
        {
          "output_type": "execute_result",
          "data": {
            "text/plain": [
              "array([[[0.38005331],\n",
              "        [0.36872501],\n",
              "        [0.37324152],\n",
              "        ...,\n",
              "        [0.3537687 ],\n",
              "        [0.35465719],\n",
              "        [0.3499926 ]],\n",
              "\n",
              "       [[0.36872501],\n",
              "        [0.37324152],\n",
              "        [0.38205242],\n",
              "        ...,\n",
              "        [0.35465719],\n",
              "        [0.3499926 ],\n",
              "        [0.3465867 ]],\n",
              "\n",
              "       [[0.37324152],\n",
              "        [0.38205242],\n",
              "        [0.38042352],\n",
              "        ...,\n",
              "        [0.3499926 ],\n",
              "        [0.3465867 ],\n",
              "        [0.34355101]],\n",
              "\n",
              "       ...,\n",
              "\n",
              "       [[0.40604176],\n",
              "        [0.41218718],\n",
              "        [0.41041019],\n",
              "        ...,\n",
              "        [0.46794017],\n",
              "        [0.47297497],\n",
              "        [0.47119799]],\n",
              "\n",
              "       [[0.41218718],\n",
              "        [0.41041019],\n",
              "        [0.43513994],\n",
              "        ...,\n",
              "        [0.47297497],\n",
              "        [0.47119799],\n",
              "        [0.47341922]],\n",
              "\n",
              "       [[0.41041019],\n",
              "        [0.43513994],\n",
              "        [0.4417296 ],\n",
              "        ...,\n",
              "        [0.47119799],\n",
              "        [0.47341922],\n",
              "        [0.46497853]]])"
            ]
          },
          "metadata": {},
          "execution_count": 45
        }
      ],
      "source": [
        "x_test"
      ]
    },
    {
      "cell_type": "code",
      "source": [
        "!pip install tensorflow\n",
        "!pip install keras"
      ],
      "metadata": {
        "colab": {
          "base_uri": "https://localhost:8080/"
        },
        "id": "_VvbMbfC-C8O",
        "outputId": "6cec7811-d3b7-4e6c-b2a4-5e34e1ef3f0b"
      },
      "id": "_VvbMbfC-C8O",
      "execution_count": null,
      "outputs": [
        {
          "output_type": "stream",
          "name": "stdout",
          "text": [
            "Looking in indexes: https://pypi.org/simple, https://us-python.pkg.dev/colab-wheels/public/simple/\n",
            "Requirement already satisfied: tensorflow in /usr/local/lib/python3.7/dist-packages (2.9.2)\n",
            "Requirement already satisfied: astunparse>=1.6.0 in /usr/local/lib/python3.7/dist-packages (from tensorflow) (1.6.3)\n",
            "Requirement already satisfied: gast<=0.4.0,>=0.2.1 in /usr/local/lib/python3.7/dist-packages (from tensorflow) (0.4.0)\n",
            "Requirement already satisfied: tensorboard<2.10,>=2.9 in /usr/local/lib/python3.7/dist-packages (from tensorflow) (2.9.1)\n",
            "Requirement already satisfied: h5py>=2.9.0 in /usr/local/lib/python3.7/dist-packages (from tensorflow) (3.1.0)\n",
            "Requirement already satisfied: keras-preprocessing>=1.1.1 in /usr/local/lib/python3.7/dist-packages (from tensorflow) (1.1.2)\n",
            "Requirement already satisfied: grpcio<2.0,>=1.24.3 in /usr/local/lib/python3.7/dist-packages (from tensorflow) (1.50.0)\n",
            "Requirement already satisfied: keras<2.10.0,>=2.9.0rc0 in /usr/local/lib/python3.7/dist-packages (from tensorflow) (2.9.0)\n",
            "Requirement already satisfied: setuptools in /usr/local/lib/python3.7/dist-packages (from tensorflow) (57.4.0)\n",
            "Requirement already satisfied: absl-py>=1.0.0 in /usr/local/lib/python3.7/dist-packages (from tensorflow) (1.3.0)\n",
            "Requirement already satisfied: google-pasta>=0.1.1 in /usr/local/lib/python3.7/dist-packages (from tensorflow) (0.2.0)\n",
            "Requirement already satisfied: typing-extensions>=3.6.6 in /usr/local/lib/python3.7/dist-packages (from tensorflow) (4.1.1)\n",
            "Requirement already satisfied: packaging in /usr/local/lib/python3.7/dist-packages (from tensorflow) (21.3)\n",
            "Requirement already satisfied: six>=1.12.0 in /usr/local/lib/python3.7/dist-packages (from tensorflow) (1.15.0)\n",
            "Requirement already satisfied: numpy>=1.20 in /usr/local/lib/python3.7/dist-packages (from tensorflow) (1.21.6)\n",
            "Requirement already satisfied: opt-einsum>=2.3.2 in /usr/local/lib/python3.7/dist-packages (from tensorflow) (3.3.0)\n",
            "Requirement already satisfied: protobuf<3.20,>=3.9.2 in /usr/local/lib/python3.7/dist-packages (from tensorflow) (3.19.6)\n",
            "Requirement already satisfied: libclang>=13.0.0 in /usr/local/lib/python3.7/dist-packages (from tensorflow) (14.0.6)\n",
            "Requirement already satisfied: tensorflow-estimator<2.10.0,>=2.9.0rc0 in /usr/local/lib/python3.7/dist-packages (from tensorflow) (2.9.0)\n",
            "Requirement already satisfied: termcolor>=1.1.0 in /usr/local/lib/python3.7/dist-packages (from tensorflow) (2.1.0)\n",
            "Requirement already satisfied: wrapt>=1.11.0 in /usr/local/lib/python3.7/dist-packages (from tensorflow) (1.14.1)\n",
            "Requirement already satisfied: flatbuffers<2,>=1.12 in /usr/local/lib/python3.7/dist-packages (from tensorflow) (1.12)\n",
            "Requirement already satisfied: tensorflow-io-gcs-filesystem>=0.23.1 in /usr/local/lib/python3.7/dist-packages (from tensorflow) (0.27.0)\n",
            "Requirement already satisfied: wheel<1.0,>=0.23.0 in /usr/local/lib/python3.7/dist-packages (from astunparse>=1.6.0->tensorflow) (0.38.3)\n",
            "Requirement already satisfied: cached-property in /usr/local/lib/python3.7/dist-packages (from h5py>=2.9.0->tensorflow) (1.5.2)\n",
            "Requirement already satisfied: markdown>=2.6.8 in /usr/local/lib/python3.7/dist-packages (from tensorboard<2.10,>=2.9->tensorflow) (3.4.1)\n",
            "Requirement already satisfied: google-auth-oauthlib<0.5,>=0.4.1 in /usr/local/lib/python3.7/dist-packages (from tensorboard<2.10,>=2.9->tensorflow) (0.4.6)\n",
            "Requirement already satisfied: werkzeug>=1.0.1 in /usr/local/lib/python3.7/dist-packages (from tensorboard<2.10,>=2.9->tensorflow) (1.0.1)\n",
            "Requirement already satisfied: requests<3,>=2.21.0 in /usr/local/lib/python3.7/dist-packages (from tensorboard<2.10,>=2.9->tensorflow) (2.23.0)\n",
            "Requirement already satisfied: google-auth<3,>=1.6.3 in /usr/local/lib/python3.7/dist-packages (from tensorboard<2.10,>=2.9->tensorflow) (2.14.1)\n",
            "Requirement already satisfied: tensorboard-data-server<0.7.0,>=0.6.0 in /usr/local/lib/python3.7/dist-packages (from tensorboard<2.10,>=2.9->tensorflow) (0.6.1)\n",
            "Requirement already satisfied: tensorboard-plugin-wit>=1.6.0 in /usr/local/lib/python3.7/dist-packages (from tensorboard<2.10,>=2.9->tensorflow) (1.8.1)\n",
            "Requirement already satisfied: rsa<5,>=3.1.4 in /usr/local/lib/python3.7/dist-packages (from google-auth<3,>=1.6.3->tensorboard<2.10,>=2.9->tensorflow) (4.9)\n",
            "Requirement already satisfied: pyasn1-modules>=0.2.1 in /usr/local/lib/python3.7/dist-packages (from google-auth<3,>=1.6.3->tensorboard<2.10,>=2.9->tensorflow) (0.2.8)\n",
            "Requirement already satisfied: cachetools<6.0,>=2.0.0 in /usr/local/lib/python3.7/dist-packages (from google-auth<3,>=1.6.3->tensorboard<2.10,>=2.9->tensorflow) (5.2.0)\n",
            "Requirement already satisfied: requests-oauthlib>=0.7.0 in /usr/local/lib/python3.7/dist-packages (from google-auth-oauthlib<0.5,>=0.4.1->tensorboard<2.10,>=2.9->tensorflow) (1.3.1)\n",
            "Requirement already satisfied: importlib-metadata>=4.4 in /usr/local/lib/python3.7/dist-packages (from markdown>=2.6.8->tensorboard<2.10,>=2.9->tensorflow) (4.13.0)\n",
            "Requirement already satisfied: zipp>=0.5 in /usr/local/lib/python3.7/dist-packages (from importlib-metadata>=4.4->markdown>=2.6.8->tensorboard<2.10,>=2.9->tensorflow) (3.10.0)\n",
            "Requirement already satisfied: pyasn1<0.5.0,>=0.4.6 in /usr/local/lib/python3.7/dist-packages (from pyasn1-modules>=0.2.1->google-auth<3,>=1.6.3->tensorboard<2.10,>=2.9->tensorflow) (0.4.8)\n",
            "Requirement already satisfied: urllib3!=1.25.0,!=1.25.1,<1.26,>=1.21.1 in /usr/local/lib/python3.7/dist-packages (from requests<3,>=2.21.0->tensorboard<2.10,>=2.9->tensorflow) (1.24.3)\n",
            "Requirement already satisfied: certifi>=2017.4.17 in /usr/local/lib/python3.7/dist-packages (from requests<3,>=2.21.0->tensorboard<2.10,>=2.9->tensorflow) (2022.9.24)\n",
            "Requirement already satisfied: chardet<4,>=3.0.2 in /usr/local/lib/python3.7/dist-packages (from requests<3,>=2.21.0->tensorboard<2.10,>=2.9->tensorflow) (3.0.4)\n",
            "Requirement already satisfied: idna<3,>=2.5 in /usr/local/lib/python3.7/dist-packages (from requests<3,>=2.21.0->tensorboard<2.10,>=2.9->tensorflow) (2.10)\n",
            "Requirement already satisfied: oauthlib>=3.0.0 in /usr/local/lib/python3.7/dist-packages (from requests-oauthlib>=0.7.0->google-auth-oauthlib<0.5,>=0.4.1->tensorboard<2.10,>=2.9->tensorflow) (3.2.2)\n",
            "Requirement already satisfied: pyparsing!=3.0.5,>=2.0.2 in /usr/local/lib/python3.7/dist-packages (from packaging->tensorflow) (3.0.9)\n",
            "Looking in indexes: https://pypi.org/simple, https://us-python.pkg.dev/colab-wheels/public/simple/\n",
            "Requirement already satisfied: keras in /usr/local/lib/python3.7/dist-packages (2.9.0)\n"
          ]
        }
      ]
    },
    {
      "cell_type": "markdown",
      "source": [
        "Model Building"
      ],
      "metadata": {
        "id": "tPytk57i-n5Z"
      },
      "id": "tPytk57i-n5Z"
    },
    {
      "cell_type": "code",
      "source": [
        "from tensorflow.keras.models import Sequential\n",
        "from tensorflow.keras.layers import Dense\n",
        "from tensorflow.keras.layers import LSTM"
      ],
      "metadata": {
        "id": "0qFplyRN-Si0"
      },
      "id": "0qFplyRN-Si0",
      "execution_count": null,
      "outputs": []
    },
    {
      "cell_type": "code",
      "source": [
        "model= Sequential()"
      ],
      "metadata": {
        "id": "633zxaLR-g2q"
      },
      "id": "633zxaLR-g2q",
      "execution_count": null,
      "outputs": []
    },
    {
      "cell_type": "markdown",
      "source": [
        "Adding LSTM Layer"
      ],
      "metadata": {
        "id": "0PWUBuCP-40q"
      },
      "id": "0PWUBuCP-40q"
    },
    {
      "cell_type": "code",
      "source": [
        "model.add(LSTM(50,return_sequences=True,input_shape=(10,1)))\n",
        "model.add(LSTM(50,return_sequences=True))\n",
        "model.add(LSTM(50))"
      ],
      "metadata": {
        "id": "acLfYbV3-05s"
      },
      "id": "acLfYbV3-05s",
      "execution_count": null,
      "outputs": []
    },
    {
      "cell_type": "markdown",
      "source": [
        "Output Layer"
      ],
      "metadata": {
        "id": "S3VS_feQ_Cdh"
      },
      "id": "S3VS_feQ_Cdh"
    },
    {
      "cell_type": "code",
      "source": [
        "model.add(Dense(1))"
      ],
      "metadata": {
        "id": "nLXQAlWh_Afo"
      },
      "id": "nLXQAlWh_Afo",
      "execution_count": null,
      "outputs": []
    },
    {
      "cell_type": "code",
      "source": [
        "model.summary()"
      ],
      "metadata": {
        "colab": {
          "base_uri": "https://localhost:8080/"
        },
        "id": "EL65dDvG_I_N",
        "outputId": "072be2f4-4b48-493f-aab0-80f9fa57bc36"
      },
      "id": "EL65dDvG_I_N",
      "execution_count": null,
      "outputs": [
        {
          "output_type": "stream",
          "name": "stdout",
          "text": [
            "Model: \"sequential\"\n",
            "_________________________________________________________________\n",
            " Layer (type)                Output Shape              Param #   \n",
            "=================================================================\n",
            " lstm (LSTM)                 (None, 10, 50)            10400     \n",
            "                                                                 \n",
            " lstm_1 (LSTM)               (None, 10, 50)            20200     \n",
            "                                                                 \n",
            " lstm_2 (LSTM)               (None, 50)                20200     \n",
            "                                                                 \n",
            " dense (Dense)               (None, 1)                 51        \n",
            "                                                                 \n",
            "=================================================================\n",
            "Total params: 50,851\n",
            "Trainable params: 50,851\n",
            "Non-trainable params: 0\n",
            "_________________________________________________________________\n"
          ]
        }
      ]
    },
    {
      "cell_type": "markdown",
      "source": [
        "Configure the Learning Process"
      ],
      "metadata": {
        "id": "zipcXZjt_XB1"
      },
      "id": "zipcXZjt_XB1"
    },
    {
      "cell_type": "code",
      "source": [
        "model.compile(loss='mean_squared_error',optimizer='adam')"
      ],
      "metadata": {
        "id": "3Q2PUbG1_QPZ"
      },
      "id": "3Q2PUbG1_QPZ",
      "execution_count": null,
      "outputs": []
    },
    {
      "cell_type": "markdown",
      "source": [
        "Train the Model"
      ],
      "metadata": {
        "id": "DT2-nV3V_hcO"
      },
      "id": "DT2-nV3V_hcO"
    },
    {
      "cell_type": "code",
      "source": [
        "model.fit(x_train,y_train,validation_data=(x_test,y_test),epochs=50,batch_size=64,verbose=1)"
      ],
      "metadata": {
        "colab": {
          "base_uri": "https://localhost:8080/"
        },
        "id": "UhFXSQWB_c__",
        "outputId": "ffe011da-5014-4f03-d4c5-3288ce8a4e55"
      },
      "id": "UhFXSQWB_c__",
      "execution_count": null,
      "outputs": [
        {
          "output_type": "stream",
          "name": "stdout",
          "text": [
            "Epoch 1/50\n",
            "84/84 [==============================] - 10s 44ms/step - loss: 0.0020 - val_loss: 0.0015\n",
            "Epoch 2/50\n",
            "84/84 [==============================] - 2s 27ms/step - loss: 1.3862e-04 - val_loss: 8.6335e-04\n",
            "Epoch 3/50\n",
            "84/84 [==============================] - 2s 27ms/step - loss: 1.4226e-04 - val_loss: 9.4601e-04\n",
            "Epoch 4/50\n",
            "84/84 [==============================] - 2s 27ms/step - loss: 1.2768e-04 - val_loss: 0.0010\n",
            "Epoch 5/50\n",
            "84/84 [==============================] - 2s 27ms/step - loss: 1.2728e-04 - val_loss: 0.0010\n",
            "Epoch 6/50\n",
            "84/84 [==============================] - 2s 28ms/step - loss: 1.2417e-04 - val_loss: 0.0017\n",
            "Epoch 7/50\n",
            "84/84 [==============================] - 2s 27ms/step - loss: 1.2370e-04 - val_loss: 7.9908e-04\n",
            "Epoch 8/50\n",
            "84/84 [==============================] - 2s 27ms/step - loss: 1.1759e-04 - val_loss: 7.9550e-04\n",
            "Epoch 9/50\n",
            "84/84 [==============================] - 2s 28ms/step - loss: 1.2148e-04 - val_loss: 0.0012\n",
            "Epoch 10/50\n",
            "84/84 [==============================] - 3s 40ms/step - loss: 1.1728e-04 - val_loss: 0.0017\n",
            "Epoch 11/50\n",
            "84/84 [==============================] - 2s 27ms/step - loss: 1.1885e-04 - val_loss: 7.1015e-04\n",
            "Epoch 12/50\n",
            "84/84 [==============================] - 2s 27ms/step - loss: 1.1513e-04 - val_loss: 7.8692e-04\n",
            "Epoch 13/50\n",
            "84/84 [==============================] - 2s 27ms/step - loss: 1.0770e-04 - val_loss: 0.0010\n",
            "Epoch 14/50\n",
            "84/84 [==============================] - 2s 27ms/step - loss: 1.0392e-04 - val_loss: 8.3476e-04\n",
            "Epoch 15/50\n",
            "84/84 [==============================] - 2s 27ms/step - loss: 1.0713e-04 - val_loss: 0.0018\n",
            "Epoch 16/50\n",
            "84/84 [==============================] - 2s 28ms/step - loss: 1.2615e-04 - val_loss: 7.8615e-04\n",
            "Epoch 17/50\n",
            "84/84 [==============================] - 2s 28ms/step - loss: 1.0993e-04 - val_loss: 0.0011\n",
            "Epoch 18/50\n",
            "84/84 [==============================] - 2s 28ms/step - loss: 9.7578e-05 - val_loss: 5.3220e-04\n",
            "Epoch 19/50\n",
            "84/84 [==============================] - 2s 27ms/step - loss: 8.7143e-05 - val_loss: 5.3778e-04\n",
            "Epoch 20/50\n",
            "84/84 [==============================] - 2s 27ms/step - loss: 9.0064e-05 - val_loss: 4.4311e-04\n",
            "Epoch 21/50\n",
            "84/84 [==============================] - 2s 27ms/step - loss: 8.3838e-05 - val_loss: 5.6072e-04\n",
            "Epoch 22/50\n",
            "84/84 [==============================] - 2s 27ms/step - loss: 7.8306e-05 - val_loss: 0.0011\n",
            "Epoch 23/50\n",
            "84/84 [==============================] - 2s 27ms/step - loss: 8.0787e-05 - val_loss: 6.9091e-04\n",
            "Epoch 24/50\n",
            "84/84 [==============================] - 2s 27ms/step - loss: 7.1886e-05 - val_loss: 3.8318e-04\n",
            "Epoch 25/50\n",
            "84/84 [==============================] - 2s 27ms/step - loss: 7.5076e-05 - val_loss: 0.0018\n",
            "Epoch 26/50\n",
            "84/84 [==============================] - 2s 27ms/step - loss: 8.4642e-05 - val_loss: 5.9330e-04\n",
            "Epoch 27/50\n",
            "84/84 [==============================] - 2s 27ms/step - loss: 6.5886e-05 - val_loss: 3.1278e-04\n",
            "Epoch 28/50\n",
            "84/84 [==============================] - 2s 27ms/step - loss: 6.0263e-05 - val_loss: 3.0330e-04\n",
            "Epoch 29/50\n",
            "84/84 [==============================] - 2s 27ms/step - loss: 7.1245e-05 - val_loss: 4.1243e-04\n",
            "Epoch 30/50\n",
            "84/84 [==============================] - 2s 27ms/step - loss: 6.1189e-05 - val_loss: 3.9796e-04\n",
            "Epoch 31/50\n",
            "84/84 [==============================] - 2s 27ms/step - loss: 5.7631e-05 - val_loss: 6.7783e-04\n",
            "Epoch 32/50\n",
            "84/84 [==============================] - 2s 27ms/step - loss: 5.8364e-05 - val_loss: 3.8779e-04\n",
            "Epoch 33/50\n",
            "84/84 [==============================] - 2s 27ms/step - loss: 6.1050e-05 - val_loss: 2.3615e-04\n",
            "Epoch 34/50\n",
            "84/84 [==============================] - 2s 27ms/step - loss: 5.0119e-05 - val_loss: 2.7200e-04\n",
            "Epoch 35/50\n",
            "84/84 [==============================] - 2s 27ms/step - loss: 5.2407e-05 - val_loss: 6.1805e-04\n",
            "Epoch 36/50\n",
            "84/84 [==============================] - 2s 27ms/step - loss: 5.2601e-05 - val_loss: 2.0368e-04\n",
            "Epoch 37/50\n",
            "84/84 [==============================] - 2s 27ms/step - loss: 4.6517e-05 - val_loss: 1.9651e-04\n",
            "Epoch 38/50\n",
            "84/84 [==============================] - 2s 27ms/step - loss: 5.0300e-05 - val_loss: 2.0068e-04\n",
            "Epoch 39/50\n",
            "84/84 [==============================] - 2s 27ms/step - loss: 4.7627e-05 - val_loss: 3.6666e-04\n",
            "Epoch 40/50\n",
            "84/84 [==============================] - 2s 27ms/step - loss: 4.1568e-05 - val_loss: 1.8976e-04\n",
            "Epoch 41/50\n",
            "84/84 [==============================] - 2s 27ms/step - loss: 4.1156e-05 - val_loss: 1.8673e-04\n",
            "Epoch 42/50\n",
            "84/84 [==============================] - 2s 27ms/step - loss: 3.8689e-05 - val_loss: 3.7569e-04\n",
            "Epoch 43/50\n",
            "84/84 [==============================] - 2s 27ms/step - loss: 4.0018e-05 - val_loss: 1.8133e-04\n",
            "Epoch 44/50\n",
            "84/84 [==============================] - 2s 27ms/step - loss: 3.9208e-05 - val_loss: 1.8975e-04\n",
            "Epoch 45/50\n",
            "84/84 [==============================] - 2s 28ms/step - loss: 3.7887e-05 - val_loss: 2.3160e-04\n",
            "Epoch 46/50\n",
            "84/84 [==============================] - 2s 27ms/step - loss: 3.3991e-05 - val_loss: 2.4257e-04\n",
            "Epoch 47/50\n",
            "84/84 [==============================] - 2s 27ms/step - loss: 3.6100e-05 - val_loss: 2.0409e-04\n",
            "Epoch 48/50\n",
            "84/84 [==============================] - 2s 27ms/step - loss: 3.5092e-05 - val_loss: 2.3686e-04\n",
            "Epoch 49/50\n",
            "84/84 [==============================] - 2s 27ms/step - loss: 3.4064e-05 - val_loss: 3.0386e-04\n",
            "Epoch 50/50\n",
            "84/84 [==============================] - 2s 28ms/step - loss: 3.3969e-05 - val_loss: 2.0879e-04\n"
          ]
        },
        {
          "output_type": "execute_result",
          "data": {
            "text/plain": [
              "<keras.callbacks.History at 0x7eff34b51950>"
            ]
          },
          "metadata": {},
          "execution_count": 53
        }
      ]
    },
    {
      "cell_type": "code",
      "source": [
        "##Transformback to original form\n",
        "train_predict=scaler.inverse_transform(train_data) \n",
        "test_predict=scaler.inverse_transform(test_data)\n",
        "### Calculate RMSE performance metrics\n",
        "import math \n",
        "from sklearn.metrics import mean_squared_error\n",
        "math.sqrt(mean_squared_error(train_data,train_predict))"
      ],
      "metadata": {
        "colab": {
          "base_uri": "https://localhost:8080/"
        },
        "id": "yap2MRKkA_CO",
        "outputId": "f43ba5d3-4a19-4280-89d3-a2840202bea6"
      },
      "id": "yap2MRKkA_CO",
      "execution_count": 105,
      "outputs": [
        {
          "output_type": "execute_result",
          "data": {
            "text/plain": [
              "29.347830443269938"
            ]
          },
          "metadata": {},
          "execution_count": 105
        }
      ]
    },
    {
      "cell_type": "markdown",
      "source": [
        "save the model"
      ],
      "metadata": {
        "id": "4HyaSnPSFN6Y"
      },
      "id": "4HyaSnPSFN6Y"
    },
    {
      "cell_type": "code",
      "source": [
        "from tensorflow.keras.models import load_model"
      ],
      "metadata": {
        "id": "UozPTf-f-0qt"
      },
      "id": "UozPTf-f-0qt",
      "execution_count": 106,
      "outputs": []
    },
    {
      "cell_type": "code",
      "source": [
        "model.save(\"crude_oil.h5\")"
      ],
      "metadata": {
        "id": "wVArfgeeAd9A"
      },
      "id": "wVArfgeeAd9A",
      "execution_count": 107,
      "outputs": []
    },
    {
      "cell_type": "markdown",
      "source": [
        "Test the Model"
      ],
      "metadata": {
        "id": "bXzr-y80OsJE"
      },
      "id": "bXzr-y80OsJE"
    },
    {
      "cell_type": "code",
      "source": [
        "##plotting\n",
        "##shift train predictions for plotting\n",
        "look_back=10\n",
        "trainPredictPlot = np.empty_like(data_oil)\n",
        "trainPredictPlot[:,:] = np.nan\n",
        "trainPredictPlot[look_back:len(train_predict)+look_back, :] = train_predict\n",
        "## shift test predictions for plotting\n",
        "testPredictplot = np.empty_like(data)\n",
        "testPredictplot[:,: ] = np.nan\n",
        "testPredictplot[look_back:len(test_predict)+look_back, :] = test_predict\n",
        "# plot baseline and predictions\n",
        "plt.plot(scaler.inverse_transform(data_oil))\n",
        "plt.plot(trainPredictPlot)\n",
        "plt.plot(testPredictplot)\n",
        "plt.show()"
      ],
      "metadata": {
        "id": "hAWsvOJXAstj",
        "colab": {
          "base_uri": "https://localhost:8080/",
          "height": 265
        },
        "outputId": "88300007-bac3-4cd4-ea40-b0497c6f609b"
      },
      "id": "hAWsvOJXAstj",
      "execution_count": 109,
      "outputs": [
        {
          "output_type": "display_data",
          "data": {
            "text/plain": [
              "<Figure size 432x288 with 1 Axes>"
            ],
            "image/png": "[encoded data removed]"
          },
          "metadata": {
            "needs_background": "light"
          }
        }
      ]
    },
    {
      "cell_type": "code",
      "source": [
        "len(test_data)"
      ],
      "metadata": {
        "colab": {
          "base_uri": "https://localhost:8080/"
        },
        "id": "5uAELRKbSfIx",
        "outputId": "d2af140f-5565-449f-9b31-d8578bf7e805"
      },
      "id": "5uAELRKbSfIx",
      "execution_count": 110,
      "outputs": [
        {
          "output_type": "execute_result",
          "data": {
            "text/plain": [
              "2876"
            ]
          },
          "metadata": {},
          "execution_count": 110
        }
      ]
    },
    {
      "cell_type": "code",
      "source": [
        "x_input=test_data[2866:].reshape(1,-1)\n",
        "x_input.shape"
      ],
      "metadata": {
        "colab": {
          "base_uri": "https://localhost:8080/"
        },
        "id": "_fU6GIVLTJL-",
        "outputId": "a2b05f6c-c13d-4d80-d9c3-849c050d5222"
      },
      "id": "_fU6GIVLTJL-",
      "execution_count": 111,
      "outputs": [
        {
          "output_type": "execute_result",
          "data": {
            "text/plain": [
              "(1, 10)"
            ]
          },
          "metadata": {},
          "execution_count": 111
        }
      ]
    },
    {
      "cell_type": "code",
      "source": [
        "temp_input=list(x_input) \n",
        "temp_input=temp_input[0].tolist()"
      ],
      "metadata": {
        "id": "Plx2ksmzTN6c"
      },
      "id": "Plx2ksmzTN6c",
      "execution_count": 112,
      "outputs": []
    },
    {
      "cell_type": "code",
      "source": [
        "temp_input"
      ],
      "metadata": {
        "colab": {
          "base_uri": "https://localhost:8080/"
        },
        "id": "ofmrsaF6TREv",
        "outputId": "1aec757f-e243-4438-be12-f421113b85e8"
      },
      "id": "ofmrsaF6TREv",
      "execution_count": 113,
      "outputs": [
        {
          "output_type": "execute_result",
          "data": {
            "text/plain": [
              "[0.44172960165852215,\n",
              " 0.48111950244335855,\n",
              " 0.49726047682511476,\n",
              " 0.4679401747371539,\n",
              " 0.4729749740855915,\n",
              " 0.47119798608026064,\n",
              " 0.47341922108692425,\n",
              " 0.4649785280616022,\n",
              " 0.4703835332444839,\n",
              " 0.47149415074781587]"
            ]
          },
          "metadata": {},
          "execution_count": 113
        }
      ]
    },
    {
      "cell_type": "code",
      "source": [
        "lst_output=[]\n",
        "n_steps=10\n",
        "i=0\n",
        "while(i<10):\n",
        "    if(len(temp_input)>10):\n",
        "#print(temp_input)\n",
        "       x_input=np.array(temp_input[1:]) \n",
        "       print(\"{} day input {}\".format(i,x_input))\n",
        "       x_input=x_input.reshape(1,-1)\n",
        "       x_input = x_input.reshape((1, n_steps, 1)) #print(x_input)\n",
        "       yhat = model.predict(x_input, verbose=0)\n",
        "       print(\"{} day output {}\".format(i,yhat))\n",
        "       temp_input.extend(yhat[0].tolist())\n",
        "       temp_input=temp_input[1:] #print(temp_input)\n",
        "       lst_output.extend(yhat.tolist())\n",
        "       i=i+1\n",
        "    else:\n",
        "       x_input = x_input.reshape((1, n_steps,1))\n",
        "       yhat = model.predict(x_input, verbose=0)\n",
        "       print(yhat[0])\n",
        "       temp_input.extend(yhat[0].tolist()) \n",
        "       print(len(temp_input))\n",
        "       lst_output.extend(yhat.tolist())\n",
        "       i=i+1"
      ],
      "metadata": {
        "colab": {
          "base_uri": "https://localhost:8080/"
        },
        "id": "b3nmDjx4TU-Z",
        "outputId": "ea3aa4fe-62d6-4fe2-a837-ab2d0888cd6d"
      },
      "id": "b3nmDjx4TU-Z",
      "execution_count": 117,
      "outputs": [
        {
          "output_type": "stream",
          "name": "stdout",
          "text": [
            "0 day input [0.47054246 0.4695808  0.46792066 0.46569511 0.46344134 0.46123874\n",
            " 0.45923847 0.45745608 0.45597798 0.45467538]\n",
            "0 day output [[0.45346728]]\n",
            "1 day input [0.4695808  0.46792066 0.46569511 0.46344134 0.46123874 0.45923847\n",
            " 0.45745608 0.45597798 0.45467538 0.45346728]\n",
            "1 day output [[0.45228496]]\n",
            "2 day input [0.46792066 0.46569511 0.46344134 0.46123874 0.45923847 0.45745608\n",
            " 0.45597798 0.45467538 0.45346728 0.45228496]\n",
            "2 day output [[0.45107317]]\n",
            "3 day input [0.46569511 0.46344134 0.46123874 0.45923847 0.45745608 0.45597798\n",
            " 0.45467538 0.45346728 0.45228496 0.45107317]\n",
            "3 day output [[0.44980577]]\n",
            "4 day input [0.46344134 0.46123874 0.45923847 0.45745608 0.45597798 0.45467538\n",
            " 0.45346728 0.45228496 0.45107317 0.44980577]\n",
            "4 day output [[0.44848233]]\n",
            "5 day input [0.46123874 0.45923847 0.45745608 0.45597798 0.45467538 0.45346728\n",
            " 0.45228496 0.45107317 0.44980577 0.44848233]\n",
            "5 day output [[0.4471175]]\n",
            "6 day input [0.45923847 0.45745608 0.45597798 0.45467538 0.45346728 0.45228496\n",
            " 0.45107317 0.44980577 0.44848233 0.44711751]\n",
            "6 day output [[0.4457344]]\n",
            "7 day input [0.45745608 0.45597798 0.45467538 0.45346728 0.45228496 0.45107317\n",
            " 0.44980577 0.44848233 0.44711751 0.44573441]\n",
            "7 day output [[0.44435588]]\n",
            "8 day input [0.45597798 0.45467538 0.45346728 0.45228496 0.45107317 0.44980577\n",
            " 0.44848233 0.44711751 0.44573441 0.44435588]\n",
            "8 day output [[0.4430003]]\n",
            "9 day input [0.45467538 0.45346728 0.45228496 0.45107317 0.44980577 0.44848233\n",
            " 0.44711751 0.44573441 0.44435588 0.44300029]\n",
            "9 day output [[0.4416774]]\n"
          ]
        }
      ]
    },
    {
      "cell_type": "code",
      "source": [
        "day_new=np.arange(1,11) \n",
        "day_pred=np.arange(11,21)\n",
        "len(data)"
      ],
      "metadata": {
        "colab": {
          "base_uri": "https://localhost:8080/"
        },
        "id": "ggjXT9CwThzD",
        "outputId": "451ef7cb-7d3a-4051-e5a8-d5277d94ab6f"
      },
      "id": "ggjXT9CwThzD",
      "execution_count": 118,
      "outputs": [
        {
          "output_type": "execute_result",
          "data": {
            "text/plain": [
              "8216"
            ]
          },
          "metadata": {},
          "execution_count": 118
        }
      ]
    },
    {
      "cell_type": "code",
      "source": [
        "plt.plot(day_new, scaler.inverse_transform(data_oil[8206:])) \n",
        "plt.plot(day_pred, scaler.inverse_transform(lst_output))"
      ],
      "metadata": {
        "colab": {
          "base_uri": "https://localhost:8080/",
          "height": 282
        },
        "id": "9QVaDXyWT7eO",
        "outputId": "144fa90a-2906-40b0-96b4-362374a348d6"
      },
      "id": "9QVaDXyWT7eO",
      "execution_count": 124,
      "outputs": [
        {
          "output_type": "execute_result",
          "data": {
            "text/plain": [
              "[<matplotlib.lines.Line2D at 0x7eff2d862890>]"
            ]
          },
          "metadata": {},
          "execution_count": 124
        },
        {
          "output_type": "display_data",
          "data": {
            "text/plain": [
              "<Figure size 432x288 with 1 Axes>"
            ],
            "image/png": "[encoded data removed]"
          },
          "metadata": {
            "needs_background": "light"
          }
        }
      ]
    },
    {
      "cell_type": "code",
      "source": [
        "df3=data_oil.tolist() \n",
        "df3.extend(lst_output) \n",
        "plt.plot(df3[8100:])"
      ],
      "metadata": {
        "colab": {
          "base_uri": "https://localhost:8080/",
          "height": 282
        },
        "id": "LQGknnoqVJ3E",
        "outputId": "ed71a1fb-5f16-470a-ceb8-e19a421ba3c1"
      },
      "id": "LQGknnoqVJ3E",
      "execution_count": 123,
      "outputs": [
        {
          "output_type": "execute_result",
          "data": {
            "text/plain": [
              "[<matplotlib.lines.Line2D at 0x7eff31585d10>]"
            ]
          },
          "metadata": {},
          "execution_count": 123
        },
        {
          "output_type": "display_data",
          "data": {
            "text/plain": [
              "<Figure size 432x288 with 1 Axes>"
            ],
            "image/png": "[encoded data removed]"
          },
          "metadata": {
            "needs_background": "light"
          }
        }
      ]
    },
    {
      "cell_type": "code",
      "source": [
        "df3=scaler.inverse_transform(df3).tolist()\n",
        "plt.plot(scaler.inverse_transform(data_oil))"
      ],
      "metadata": {
        "colab": {
          "base_uri": "https://localhost:8080/",
          "height": 282
        },
        "id": "XoQ0m05QWfsx",
        "outputId": "9c0a2135-4ccb-4ed9-e2c6-8dc9c415d83f"
      },
      "id": "XoQ0m05QWfsx",
      "execution_count": 125,
      "outputs": [
        {
          "output_type": "execute_result",
          "data": {
            "text/plain": [
              "[<matplotlib.lines.Line2D at 0x7eff34a85a10>]"
            ]
          },
          "metadata": {},
          "execution_count": 125
        },
        {
          "output_type": "display_data",
          "data": {
            "text/plain": [
              "<Figure size 432x288 with 1 Axes>"
            ],
            "image/png": "[encoded data removed]"
          },
          "metadata": {
            "needs_background": "light"
          }
        }
      ]
    }
  ],
  "metadata": {
    "kernelspec": {
      "display_name": "Python 3 (ipykernel)",
      "language": "python",
      "name": "python3"
    },
    "language_info": {
      "codemirror_mode": {
        "name": "ipython",
        "version": 3
      },
      "file_extension": ".py",
      "mimetype": "text/x-python",
      "name": "python",
      "nbconvert_exporter": "python",
      "pygments_lexer": "ipython3",
      "version": "3.9.12"
    },
    "colab": {
      "provenance": [],
      "collapsed_sections": []
    }
  },
  "nbformat": 4,
  "nbformat_minor": 5
}